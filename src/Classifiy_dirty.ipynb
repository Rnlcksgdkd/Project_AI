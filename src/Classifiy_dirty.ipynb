{
  "nbformat": 4,
  "nbformat_minor": 0,
  "metadata": {
    "colab": {
      "name": "Classifiy_dirty.ipynb",
      "provenance": [],
      "collapsed_sections": [],
      "authorship_tag": "ABX9TyNVu/LmVp/1ji2WsoZ7IJjV",
      "include_colab_link": true
    },
    "kernelspec": {
      "name": "python3",
      "display_name": "Python 3"
    },
    "language_info": {
      "name": "python"
    },
    "accelerator": "GPU"
  },
  "cells": [
    {
      "cell_type": "markdown",
      "metadata": {
        "id": "view-in-github",
        "colab_type": "text"
      },
      "source": [
        "<a href=\"https://colab.research.google.com/github/Kwang-wan/Project_AI/blob/Do-Hyun/Classifiy_dirty.ipynb\" target=\"_parent\"><img src=\"https://colab.research.google.com/assets/colab-badge.svg\" alt=\"Open In Colab\"/></a>"
      ]
    },
    {
      "cell_type": "code",
      "metadata": {
        "id": "6HijHUCuBbNr"
      },
      "source": [
        "import numpy as np"
      ],
      "execution_count": null,
      "outputs": []
    },
    {
      "cell_type": "markdown",
      "metadata": {
        "id": "ThHCxgh8-aQk"
      },
      "source": [
        "# **데이터 로드**"
      ]
    },
    {
      "cell_type": "code",
      "metadata": {
        "colab": {
          "base_uri": "https://localhost:8080/",
          "height": 264
        },
        "id": "47MyxaSY-TFQ",
        "outputId": "011d7eb0-8b2f-47d1-9de7-2e62da20c1da"
      },
      "source": [
        "from google.colab import drive\n",
        "import pandas as pd\n",
        "drive.mount('/content/gdrive')\n"
      ],
      "execution_count": null,
      "outputs": [
        {
          "output_type": "stream",
          "text": [
            "Mounted at /content/gdrive\n"
          ],
          "name": "stdout"
        },
        {
          "output_type": "error",
          "ename": "TypeError",
          "evalue": "ignored",
          "traceback": [
            "\u001b[0;31m---------------------------------------------------------------------------\u001b[0m",
            "\u001b[0;31mTypeError\u001b[0m                                 Traceback (most recent call last)",
            "\u001b[0;32m<ipython-input-1-3151102df034>\u001b[0m in \u001b[0;36m<module>\u001b[0;34m()\u001b[0m\n\u001b[1;32m      4\u001b[0m \u001b[0;34m\u001b[0m\u001b[0m\n\u001b[1;32m      5\u001b[0m \u001b[0msave_path\u001b[0m \u001b[0;34m=\u001b[0m \u001b[0;34m'/content/gdrive/My Drive/Colab Notebooks/'\u001b[0m\u001b[0;34m\u001b[0m\u001b[0;34m\u001b[0m\u001b[0m\n\u001b[0;32m----> 6\u001b[0;31m \u001b[0mdf\u001b[0m \u001b[0;34m=\u001b[0m \u001b[0mpd\u001b[0m\u001b[0;34m.\u001b[0m\u001b[0mread_csv\u001b[0m\u001b[0;34m(\u001b[0m\u001b[0msave_path\u001b[0m \u001b[0;34m+\u001b[0m \u001b[0;34m\"Trash_Comment.csv\"\u001b[0m \u001b[0;34m,\u001b[0m \u001b[0mindex\u001b[0m \u001b[0;34m=\u001b[0m \u001b[0;32mFalse\u001b[0m\u001b[0;34m)\u001b[0m\u001b[0;34m\u001b[0m\u001b[0;34m\u001b[0m\u001b[0m\n\u001b[0m\u001b[1;32m      7\u001b[0m \u001b[0mdf\u001b[0m\u001b[0;34m.\u001b[0m\u001b[0minfo\u001b[0m\u001b[0;34m(\u001b[0m\u001b[0;34m)\u001b[0m\u001b[0;34m\u001b[0m\u001b[0;34m\u001b[0m\u001b[0m\n\u001b[1;32m      8\u001b[0m \u001b[0mdf\u001b[0m\u001b[0;34m.\u001b[0m\u001b[0mhead\u001b[0m\u001b[0;34m(\u001b[0m\u001b[0;34m)\u001b[0m\u001b[0;34m\u001b[0m\u001b[0;34m\u001b[0m\u001b[0m\n",
            "\u001b[0;31mTypeError\u001b[0m: read_csv() got an unexpected keyword argument 'index'"
          ]
        }
      ]
    },
    {
      "cell_type": "code",
      "metadata": {
        "colab": {
          "base_uri": "https://localhost:8080/",
          "height": 362
        },
        "id": "_n3vO48_-vYV",
        "outputId": "82d928fc-f217-4d94-9d51-8ae9c047b211"
      },
      "source": [
        "save_path = '/content/gdrive/My Drive/Colab Notebooks/'\n",
        "df = pd.read_csv(save_path + \"Trash_Comment.csv\" )\n",
        "df.info()\n",
        "df.head()"
      ],
      "execution_count": null,
      "outputs": [
        {
          "output_type": "stream",
          "text": [
            "<class 'pandas.core.frame.DataFrame'>\n",
            "RangeIndex: 23721 entries, 0 to 23720\n",
            "Data columns (total 2 columns):\n",
            " #   Column  Non-Null Count  Dtype \n",
            "---  ------  --------------  ----- \n",
            " 0   text    23721 non-null  object\n",
            " 1   label   23721 non-null  int64 \n",
            "dtypes: int64(1), object(1)\n",
            "memory usage: 370.8+ KB\n"
          ],
          "name": "stdout"
        },
        {
          "output_type": "execute_result",
          "data": {
            "text/html": [
              "<div>\n",
              "<style scoped>\n",
              "    .dataframe tbody tr th:only-of-type {\n",
              "        vertical-align: middle;\n",
              "    }\n",
              "\n",
              "    .dataframe tbody tr th {\n",
              "        vertical-align: top;\n",
              "    }\n",
              "\n",
              "    .dataframe thead th {\n",
              "        text-align: right;\n",
              "    }\n",
              "</style>\n",
              "<table border=\"1\" class=\"dataframe\">\n",
              "  <thead>\n",
              "    <tr style=\"text-align: right;\">\n",
              "      <th></th>\n",
              "      <th>text</th>\n",
              "      <th>label</th>\n",
              "    </tr>\n",
              "  </thead>\n",
              "  <tbody>\n",
              "    <tr>\n",
              "      <th>0</th>\n",
              "      <td>이종석 한효주 나오는 드라마 이후로 드라마 안봤다. 2년전인가?? 좀 신선했었지. ...</td>\n",
              "      <td>1</td>\n",
              "    </tr>\n",
              "    <tr>\n",
              "      <th>1</th>\n",
              "      <td>씨바알..노무노무 술프노... 오늘 저녁은 꽂등심이다ㅠㅜ</td>\n",
              "      <td>1</td>\n",
              "    </tr>\n",
              "    <tr>\n",
              "      <th>2</th>\n",
              "      <td>짱깨 꺼라ㅡ패쓰</td>\n",
              "      <td>1</td>\n",
              "    </tr>\n",
              "    <tr>\n",
              "      <th>3</th>\n",
              "      <td>그들의 사생활 ~ 고인이된 설리를 위해서라도 모두 조용하길 지금 누굴 탓한다고 무슨...</td>\n",
              "      <td>0</td>\n",
              "    </tr>\n",
              "    <tr>\n",
              "      <th>4</th>\n",
              "      <td>아무리 법이 뭣같아도 무슨 자격으로 개인의 신상정보를 불특정 다수에게 공개하는지 도...</td>\n",
              "      <td>0</td>\n",
              "    </tr>\n",
              "  </tbody>\n",
              "</table>\n",
              "</div>"
            ],
            "text/plain": [
              "                                                text  label\n",
              "0  이종석 한효주 나오는 드라마 이후로 드라마 안봤다. 2년전인가?? 좀 신선했었지. ...      1\n",
              "1                    씨바알..노무노무 술프노... 오늘 저녁은 꽂등심이다ㅠㅜ      1\n",
              "2                                           짱깨 꺼라ㅡ패쓰      1\n",
              "3  그들의 사생활 ~ 고인이된 설리를 위해서라도 모두 조용하길 지금 누굴 탓한다고 무슨...      0\n",
              "4  아무리 법이 뭣같아도 무슨 자격으로 개인의 신상정보를 불특정 다수에게 공개하는지 도...      0"
            ]
          },
          "metadata": {
            "tags": []
          },
          "execution_count": 2
        }
      ]
    },
    {
      "cell_type": "markdown",
      "metadata": {
        "id": "AoYEs5mS-4MQ"
      },
      "source": [
        "# **전처리**"
      ]
    },
    {
      "cell_type": "markdown",
      "metadata": {
        "id": "3q2nOu7MF67z"
      },
      "source": [
        "> # Train/Test Split"
      ]
    },
    {
      "cell_type": "code",
      "metadata": {
        "id": "v1SOFr-1-6Ar"
      },
      "source": [
        "import re\n",
        "\n",
        "# 해석할 수 없다.....??\n",
        "def clean_str(string):\n",
        "\n",
        "    string = re.sub(r\"[^가-힣A-Za-z0-9(),!?\\'\\`]\", \" \", string)\n",
        "    string = re.sub(r\"\\'s\", \" \\'s\", string)\n",
        "    string = re.sub(r\"\\'ve\", \" \\'ve\", string)\n",
        "    string = re.sub(r\"n\\'t\", \" n\\'t\", string)\n",
        "    string = re.sub(r\"\\'re\", \" \\'re\", string)\n",
        "    string = re.sub(r\"\\'d\", \" \\'d\", string)\n",
        "    string = re.sub(r\"\\'ll\", \" \\'ll\", string)\n",
        "    string = re.sub(r\",\", \" , \", string)\n",
        "    string = re.sub(r\"!\", \" ! \", string)\n",
        "    string = re.sub(r\"\\(\", \" \\( \", string)\n",
        "    string = re.sub(r\"\\)\", \" \\) \", string)\n",
        "    string = re.sub(r\"\\?\", \" \\? \", string)\n",
        "    string = re.sub(r\"\\s{2,}\", \" \", string)\n",
        "    string = re.sub(r\"\\'{2,}\", \"\\'\", string)\n",
        "    string = re.sub(r\"\\'\", \"\", string)\n",
        "\n",
        "    \n",
        "    return string.lower()\n"
      ],
      "execution_count": null,
      "outputs": []
    },
    {
      "cell_type": "code",
      "metadata": {
        "colab": {
          "base_uri": "https://localhost:8080/"
        },
        "id": "ksPNspJM--6E",
        "outputId": "dfb96d47-0101-43ee-81ac-91a6cdfaa445"
      },
      "source": [
        "\n",
        "Sentences = [ clean_str(sentence).split(' ') for sentence in df.text.values]\n",
        "len(Sentences) , Sentences[0][:5]"
      ],
      "execution_count": null,
      "outputs": [
        {
          "output_type": "execute_result",
          "data": {
            "text/plain": [
              "(23721, ['이종석', '한효주', '나오는', '드라마', '이후로'])"
            ]
          },
          "metadata": {
            "tags": []
          },
          "execution_count": 20
        }
      ]
    },
    {
      "cell_type": "code",
      "metadata": {
        "colab": {
          "base_uri": "https://localhost:8080/"
        },
        "id": "wgec6ORSBQLK",
        "outputId": "0e587c41-21f8-452b-cf50-498abe982feb"
      },
      "source": [
        "X = np.array(Sentences)\n",
        "X.shape"
      ],
      "execution_count": null,
      "outputs": [
        {
          "output_type": "stream",
          "text": [
            "/usr/local/lib/python3.7/dist-packages/ipykernel_launcher.py:1: VisibleDeprecationWarning: Creating an ndarray from ragged nested sequences (which is a list-or-tuple of lists-or-tuples-or ndarrays with different lengths or shapes) is deprecated. If you meant to do this, you must specify 'dtype=object' when creating the ndarray\n",
            "  \"\"\"Entry point for launching an IPython kernel.\n"
          ],
          "name": "stderr"
        },
        {
          "output_type": "execute_result",
          "data": {
            "text/plain": [
              "(23721,)"
            ]
          },
          "metadata": {
            "tags": []
          },
          "execution_count": 19
        }
      ]
    },
    {
      "cell_type": "markdown",
      "metadata": {
        "id": "0gUHPitxCMde"
      },
      "source": [
        "> # 글자제한"
      ]
    },
    {
      "cell_type": "code",
      "metadata": {
        "colab": {
          "base_uri": "https://localhost:8080/"
        },
        "id": "JfLiFCDRB6PT",
        "outputId": "b4a290d0-bf7e-448d-ef41-e3bbe3fb87c3"
      },
      "source": [
        "sentences_new = []\n",
        "\n",
        "for sentence in X:\n",
        "  sentences_new.append( [ word[:10] for word in sentence[:30]] )\n",
        "X = sentences_new\n",
        "\n",
        "for i in range(5): print(X[i])"
      ],
      "execution_count": null,
      "outputs": [
        {
          "output_type": "stream",
          "text": [
            "['이종석', '한효주', '나오는', '드라마', '이후로', '드라마', '안봤다', '2년전인가', '\\\\?', '\\\\?', '좀', '신선했었지', '근데', '이런', '개막장', '드라마는', '도대체', '누가', '보느냐면', '변태들이', '보는', '것이다', '정상적인', '사람들은', '채널을', '돌리게', '된다', '']\n",
            "['씨바알', '노무노무', '술프노', '오늘', '저녁은', '꽂등심이다', '']\n",
            "['짱깨', '꺼라', '패쓰']\n",
            "['그들의', '사생활', '고인이된', '설리를', '위해서라도', '모두', '조용하길', '지금', '누굴', '탓한다고', '무슨소용이있다고']\n",
            "['아무리', '법이', '뭣같아도', '무슨', '자격으로', '개인의', '신상정보를', '불특정', '다수에게', '공개하는지', '도저히', '이해가', '안되네요', '법을', '바꾸기', '위해', '노력하세요', '저런', '능력으로', '불법적인', '일을', '공공의', '이익으로', '포장하지', '마시구요']\n"
          ],
          "name": "stdout"
        }
      ]
    },
    {
      "cell_type": "markdown",
      "metadata": {
        "id": "UdBLNRC-CTNZ"
      },
      "source": [
        "> # 토크나이즈 / 패딩"
      ]
    },
    {
      "cell_type": "code",
      "metadata": {
        "id": "Ni_WerW0CrGi"
      },
      "source": [
        "from keras.preprocessing.text import Tokenizer\n",
        "from keras.preprocessing.sequence import pad_sequences\n",
        "\n",
        "input = X\n",
        "\n",
        "def Tokenize_Padding(sentences , num_words = 20000):\n",
        "\n",
        "  tokenizer = Tokenizer(num_words = 20000)\n",
        "  tokenizer.fit_on_texts(sentences)\n",
        "  X = tokenizer.texts_to_sequences(sentences)\n",
        "  X = pad_sequences(train_x , padding = 'post')\n",
        "\n",
        "  return tokenizer , X\n"
      ],
      "execution_count": null,
      "outputs": []
    },
    {
      "cell_type": "code",
      "metadata": {
        "colab": {
          "base_uri": "https://localhost:8080/"
        },
        "id": "ZuL8OXSWCOYw",
        "outputId": "d1923bbb-fe77-476f-8362-53b70d3e84aa"
      },
      "source": [
        "from keras.preprocessing.text import Tokenizer\n",
        "from keras.preprocessing.sequence import pad_sequences\n",
        "\n",
        "tokenizer , X  = Tokenize_Padding(X , 20000)\n",
        "\n",
        "X.shape\n"
      ],
      "execution_count": null,
      "outputs": [
        {
          "output_type": "execute_result",
          "data": {
            "text/plain": [
              "(23721, 30)"
            ]
          },
          "metadata": {
            "tags": []
          },
          "execution_count": 44
        }
      ]
    },
    {
      "cell_type": "code",
      "metadata": {
        "colab": {
          "base_uri": "https://localhost:8080/"
        },
        "id": "D6Z7dP28AO8Z",
        "outputId": "51fe454b-76b7-4300-cfe5-c3622e19412c"
      },
      "source": [
        "Y = df.label.values.reshape(-1,1).astype(float)\n",
        "Y.shape"
      ],
      "execution_count": null,
      "outputs": [
        {
          "output_type": "execute_result",
          "data": {
            "text/plain": [
              "(23721, 1)"
            ]
          },
          "metadata": {
            "tags": []
          },
          "execution_count": 64
        }
      ]
    },
    {
      "cell_type": "code",
      "metadata": {
        "colab": {
          "base_uri": "https://localhost:8080/"
        },
        "id": "Ov5EtiHuFVxv",
        "outputId": "8d1dd2ad-17a4-4ced-8125-562efe6e53e6"
      },
      "source": [
        "[X,Y]"
      ],
      "execution_count": null,
      "outputs": [
        {
          "output_type": "execute_result",
          "data": {
            "text/plain": [
              "[array([[ 1709,  1023,   251, ...,     1,     0,     0],\n",
              "        [10814,  5348, 10815, ...,     0,     0,     0],\n",
              "        [ 1185,     0,     0, ...,     0,     0,     0],\n",
              "        ...,\n",
              "        [ 5895,   101, 14450, ...,     0,     0,     0],\n",
              "        [18826,  1128, 18827, ...,     0,     0,     0],\n",
              "        [ 3970,    84,     0, ...,     0,     0,     0]], dtype=int32),\n",
              " array([1., 1., 1., ..., 0., 0., 0.])]"
            ]
          },
          "metadata": {
            "tags": []
          },
          "execution_count": 57
        }
      ]
    },
    {
      "cell_type": "markdown",
      "metadata": {
        "id": "aKGXVmB1ITJs"
      },
      "source": [
        "> ## Train / Test Split"
      ]
    },
    {
      "cell_type": "code",
      "metadata": {
        "id": "ym9TxJyCGjTV"
      },
      "source": [
        "indices = np.arange(X.shape[0])\n",
        "np.random.shuffle(indices)\n",
        "X = X[indices]; Y = Y[indices]"
      ],
      "execution_count": null,
      "outputs": []
    },
    {
      "cell_type": "code",
      "metadata": {
        "colab": {
          "base_uri": "https://localhost:8080/"
        },
        "id": "Xcgb1N72IMJF",
        "outputId": "afb889b5-0d68-4a3c-bb4a-0138deb29c6d"
      },
      "source": [
        "[X,Y]"
      ],
      "execution_count": null,
      "outputs": [
        {
          "output_type": "execute_result",
          "data": {
            "text/plain": [
              "[array([[   78, 17743,     1, ...,     0,     0,     0],\n",
              "        [  222,     1,     0, ...,     0,     0,     0],\n",
              "        [ 4928,   563,   185, ...,     0,     0,     0],\n",
              "        ...,\n",
              "        [ 7866,  8306,  5040, ...,     0,     0,     0],\n",
              "        [   40,  9983,     2, ...,     0,     0,     0],\n",
              "        [12917,     4, 12918, ...,     0,     0,     0]], dtype=int32),\n",
              " array([[1.],\n",
              "        [0.],\n",
              "        [1.],\n",
              "        ...,\n",
              "        [0.],\n",
              "        [0.],\n",
              "        [1.]])]"
            ]
          },
          "metadata": {
            "tags": []
          },
          "execution_count": 76
        }
      ]
    },
    {
      "cell_type": "code",
      "metadata": {
        "colab": {
          "base_uri": "https://localhost:8080/"
        },
        "id": "frMiH8rEIToc",
        "outputId": "19704bcb-d6d5-43f7-8dad-39627d073f56"
      },
      "source": [
        "training_samples = int(len(X)*0.5)\n",
        "validation_samples = int(len(X)*0.25)\n",
        "test_samples = len(X) - training_samples - validation_sample\n",
        "\n",
        "x_train = X[:training_samples]; \n",
        "y_train = Y[:training_samples]\n",
        "\n",
        "x_valid = X[training_samples : training_samples + validation_samples]\n",
        "y_valid = Y[training_samples : training_samples + validation_samples]\n",
        "\n",
        "x_test = X[training_samples + validation_samples : ]\n",
        "y_test = Y[training_samples + validation_samples : ]\n",
        "\n",
        "print(\"트레이닝 샘플 : {} , 벨리데이션 샘플 : {} , 테스트 샘플 : {}\".format(training_samples , validation_sample , test_samples))\n",
        "x_train.shape , x_valid.shape , x_test.shape"
      ],
      "execution_count": null,
      "outputs": [
        {
          "output_type": "stream",
          "text": [
            "트레이닝 샘플 : 11860 , 벨리데이션 샘플 : 5930 , 테스트 샘플 : 5931\n"
          ],
          "name": "stdout"
        },
        {
          "output_type": "execute_result",
          "data": {
            "text/plain": [
              "((11860, 30), (5930, 30), (5931, 30))"
            ]
          },
          "metadata": {
            "tags": []
          },
          "execution_count": 78
        }
      ]
    },
    {
      "cell_type": "markdown",
      "metadata": {
        "id": "uN3DCLRqJmF9"
      },
      "source": [
        "# Model Define"
      ]
    },
    {
      "cell_type": "code",
      "metadata": {
        "id": "3oQLWF3jJnGK"
      },
      "source": [
        "from keras import models , layers\n",
        "\n",
        "def build_model():\n",
        "  model = models.Sequential()\n",
        "\n",
        "  # 2만개 단어사전을 통해 원핫 인코딩한 25개의 단어를 집어넣어서 각각 300개 특징벡터로 추출\n",
        "  model.add(layers.Embedding(20000 , 300 , input_length = 30))\n",
        "  model.add(layers.LSTM(32))\n",
        "  model.add(layers.Dropout(0.5))\n",
        "  model.add(layers.Dense(1, activation = 'sigmoid'))\n",
        "\n",
        "  model.compile(loss = 'binary_crossentropy' , optimizer = 'adam' \n",
        "                , metrics = ['accuracy'])\n",
        "\n",
        "  model.summary()\n",
        "  return model\n"
      ],
      "execution_count": null,
      "outputs": []
    },
    {
      "cell_type": "code",
      "metadata": {
        "colab": {
          "base_uri": "https://localhost:8080/"
        },
        "id": "mTTKR8zYJ-1r",
        "outputId": "d67d22be-fe40-4355-dad5-c2192b37a418"
      },
      "source": [
        "model = build_model()"
      ],
      "execution_count": null,
      "outputs": [
        {
          "output_type": "stream",
          "text": [
            "Model: \"sequential\"\n",
            "_________________________________________________________________\n",
            "Layer (type)                 Output Shape              Param #   \n",
            "=================================================================\n",
            "embedding (Embedding)        (None, 30, 300)           6000000   \n",
            "_________________________________________________________________\n",
            "lstm (LSTM)                  (None, 32)                42624     \n",
            "_________________________________________________________________\n",
            "dropout (Dropout)            (None, 32)                0         \n",
            "_________________________________________________________________\n",
            "dense (Dense)                (None, 1)                 33        \n",
            "=================================================================\n",
            "Total params: 6,042,657\n",
            "Trainable params: 6,042,657\n",
            "Non-trainable params: 0\n",
            "_________________________________________________________________\n"
          ],
          "name": "stdout"
        }
      ]
    },
    {
      "cell_type": "code",
      "metadata": {
        "colab": {
          "base_uri": "https://localhost:8080/"
        },
        "id": "T3qm3iP7KJ23",
        "outputId": "f4f6a4b0-580c-4fa8-9418-5647050306dc"
      },
      "source": [
        "%%time\n",
        "\n",
        "hist = model.fit(x_train , y_train , epochs = 10 \n",
        "                 , batch_size = 128 , validation_data = (x_valid , y_valid) )"
      ],
      "execution_count": null,
      "outputs": [
        {
          "output_type": "stream",
          "text": [
            "Epoch 1/10\n",
            "93/93 [==============================] - 39s 67ms/step - loss: 0.6939 - accuracy: 0.5081 - val_loss: 0.6903 - val_accuracy: 0.4850\n",
            "Epoch 2/10\n",
            "93/93 [==============================] - 6s 62ms/step - loss: 0.6260 - accuracy: 0.6524 - val_loss: 0.5556 - val_accuracy: 0.7150\n",
            "Epoch 3/10\n",
            "93/93 [==============================] - 6s 62ms/step - loss: 0.3479 - accuracy: 0.8607 - val_loss: 0.6102 - val_accuracy: 0.7214\n",
            "Epoch 4/10\n",
            "93/93 [==============================] - 6s 62ms/step - loss: 0.2376 - accuracy: 0.8996 - val_loss: 0.6767 - val_accuracy: 0.7216\n",
            "Epoch 5/10\n",
            "93/93 [==============================] - 6s 60ms/step - loss: 0.1819 - accuracy: 0.9246 - val_loss: 0.8536 - val_accuracy: 0.7165\n",
            "Epoch 6/10\n",
            "93/93 [==============================] - 6s 62ms/step - loss: 0.1538 - accuracy: 0.9310 - val_loss: 0.8699 - val_accuracy: 0.7132\n",
            "Epoch 7/10\n",
            "93/93 [==============================] - 6s 62ms/step - loss: 0.1366 - accuracy: 0.9298 - val_loss: 1.0290 - val_accuracy: 0.7206\n",
            "Epoch 8/10\n",
            "93/93 [==============================] - 6s 61ms/step - loss: 0.1343 - accuracy: 0.9348 - val_loss: 1.0194 - val_accuracy: 0.7013\n",
            "Epoch 9/10\n",
            "93/93 [==============================] - 6s 61ms/step - loss: 0.1333 - accuracy: 0.9329 - val_loss: 1.0773 - val_accuracy: 0.7167\n",
            "Epoch 10/10\n",
            "93/93 [==============================] - 6s 61ms/step - loss: 0.1222 - accuracy: 0.9361 - val_loss: 1.0504 - val_accuracy: 0.7165\n",
            "CPU times: user 1min 37s, sys: 3.74 s, total: 1min 41s\n",
            "Wall time: 1min 30s\n"
          ],
          "name": "stdout"
        }
      ]
    },
    {
      "cell_type": "markdown",
      "metadata": {
        "id": "MfXMOBWqKnYX"
      },
      "source": [
        "# **학습 결과 / 평가**"
      ]
    },
    {
      "cell_type": "code",
      "metadata": {
        "id": "9a_n5xeaKI09"
      },
      "source": [
        "# Visualization\n",
        "\n",
        "def visualize_train(hist):\n",
        "\n",
        "  # Loss Visualization\n",
        "\n",
        "  import matplotlib.pyplot as plt\n",
        "\n",
        "  epochs = range(1, len(hist.history['loss']) + 1)\n",
        "\n",
        "  plt.figure(figsize = (9,6))\n",
        "  plt.plot(epochs , hist.history['loss'])\n",
        "  plt.plot(epochs , hist.history['val_loss'])\n",
        "\n",
        "  plt.title('Training & Validation Loss')\n",
        "  plt.xlabel('Epochs')\n",
        "  plt.ylabel('Loss')\n",
        "  plt.legend(['Training Loss' , 'Validation Loss'])\n",
        "  plt.grid()\n",
        "  plt.show()\n",
        "\n",
        "  # Accuracy Visualization\n",
        "  import matplotlib.pyplot as plt\n",
        "  epochs = range(1, len(hist.history['loss']) + 1)\n",
        "  plt.figure(figsize = (9, 6))\n",
        "  plt.plot(epochs, hist.history['accuracy'])\n",
        "  plt.plot(epochs, hist.history['val_accuracy'])\n",
        "  plt.title('Training & Validation Accuracy')\n",
        "  plt.xlabel('Epochs')\n",
        "  plt.ylabel('Accuracy')\n",
        "  plt.legend(['Training Accuracy', 'Validation Accuracy'])\n",
        "  plt.grid()\n",
        "  plt.show()\n",
        "\n",
        "\n",
        "def evaluate(x_test , y_test):\n",
        "  loss , accuracy = model.evaluate(x_test , y_test)\n",
        "  print('Loss = {:5f}'.format(loss))\n",
        "  print('Accuracy = {:.5f}'.format(accuracy))\n",
        "  return loss , accuracy\n"
      ],
      "execution_count": null,
      "outputs": []
    },
    {
      "cell_type": "code",
      "metadata": {
        "colab": {
          "base_uri": "https://localhost:8080/",
          "height": 845
        },
        "id": "yP82yTx0Kq9F",
        "outputId": "8d56bb65-cbbd-429a-bdf1-f2a423b738d5"
      },
      "source": [
        "visualize_train(hist)\n",
        "loss , accuracy = evaluate(x_test , y_test)"
      ],
      "execution_count": null,
      "outputs": [
        {
          "output_type": "display_data",
          "data": {
            "image/png": "[encoded data removed]",
            "text/plain": [
              "<Figure size 648x432 with 1 Axes>"
            ]
          },
          "metadata": {
            "tags": [],
            "needs_background": "light"
          }
        },
        {
          "output_type": "display_data",
          "data": {
            "image/png": "[encoded data removed]",
            "text/plain": [
              "<Figure size 648x432 with 1 Axes>"
            ]
          },
          "metadata": {
            "tags": [],
            "needs_background": "light"
          }
        },
        {
          "output_type": "stream",
          "text": [
            "186/186 [==============================] - 1s 3ms/step - loss: 0.9818 - accuracy: 0.7338\n",
            "Loss = 0.981798\n",
            "Accuracy = 0.73377\n"
          ],
          "name": "stdout"
        }
      ]
    },
    {
      "cell_type": "markdown",
      "metadata": {
        "id": "9AQCHOZtLiaw"
      },
      "source": [
        "# **결과 직접 보기**"
      ]
    },
    {
      "cell_type": "markdown",
      "metadata": {
        "id": "lOVyH-ArLnId"
      },
      "source": [
        "> ## 샘플 추출"
      ]
    },
    {
      "cell_type": "code",
      "metadata": {
        "colab": {
          "base_uri": "https://localhost:8080/"
        },
        "id": "z4BP4h9bK5cZ",
        "outputId": "80261479-2959-4221-c6f7-a76f8fab11a1"
      },
      "source": [
        "x_test[100:120] , y_test[100:120]"
      ],
      "execution_count": null,
      "outputs": [
        {
          "output_type": "execute_result",
          "data": {
            "text/plain": [
              "(array([[ 1495,     0,     0,     0,     0,     0,     0,     0,     0,\n",
              "             0,     0,     0,     0,     0,     0,     0,     0,     0,\n",
              "             0,     0,     0,     0,     0,     0,     0,     0,     0,\n",
              "             0,     0,     0],\n",
              "        [   67,   160,     1,     0,     0,     0,     0,     0,     0,\n",
              "             0,     0,     0,     0,     0,     0,     0,     0,     0,\n",
              "             0,     0,     0,     0,     0,     0,     0,     0,     0,\n",
              "             0,     0,     0],\n",
              "        [   18,   630,  9589,  1617, 16194,  1616,   192,     0,     0,\n",
              "             0,     0,     0,     0,     0,     0,     0,     0,     0,\n",
              "             0,     0,     0,     0,     0,     0,     0,     0,     0,\n",
              "             0,     0,     0],\n",
              "        [ 4349, 12205,  3482,    35,   235, 12206, 12207, 12208,     1,\n",
              "             0,     0,     0,     0,     0,     0,     0,     0,     0,\n",
              "             0,     0,     0,     0,     0,     0,     0,     0,     0,\n",
              "             0,     0,     0],\n",
              "        [14295, 14296, 14297,   458,   315,   316,     1,     0,     0,\n",
              "             0,     0,     0,     0,     0,     0,     0,     0,     0,\n",
              "             0,     0,     0,     0,     0,     0,     0,     0,     0,\n",
              "             0,     0,     0],\n",
              "        [ 5616,     7,   780,  6740,     1,     0,     0,     0,     0,\n",
              "             0,     0,     0,     0,     0,     0,     0,     0,     0,\n",
              "             0,     0,     0,     0,     0,     0,     0,     0,     0,\n",
              "             0,     0,     0],\n",
              "        [   15,  4606, 15592,    26,  4607, 15593,   400,   236,     1,\n",
              "             0,     0,     0,     0,     0,     0,     0,     0,     0,\n",
              "             0,     0,     0,     0,     0,     0,     0,     0,     0,\n",
              "             0,     0,     0],\n",
              "        [    1,    18,     7,   918,     0,     0,     0,     0,     0,\n",
              "             0,     0,     0,     0,     0,     0,     0,     0,     0,\n",
              "             0,     0,     0,     0,     0,     0,     0,     0,     0,\n",
              "             0,     0,     0],\n",
              "        [13851,    29, 13852,     3,     1,     0,     0,     0,     0,\n",
              "             0,     0,     0,     0,     0,     0,     0,     0,     0,\n",
              "             0,     0,     0,     0,     0,     0,     0,     0,     0,\n",
              "             0,     0,     0],\n",
              "        [ 6997,   100,  3608,   161,  9546,   393,     2,     1,     0,\n",
              "             0,     0,     0,     0,     0,     0,     0,     0,     0,\n",
              "             0,     0,     0,     0,     0,     0,     0,     0,     0,\n",
              "             0,     0,     0],\n",
              "        [ 1541,     1,     0,     0,     0,     0,     0,     0,     0,\n",
              "             0,     0,     0,     0,     0,     0,     0,     0,     0,\n",
              "             0,     0,     0,     0,     0,     0,     0,     0,     0,\n",
              "             0,     0,     0],\n",
              "        [ 6222, 17301,    93,  6223, 17302, 17303,  4716,    40, 17304,\n",
              "         17305, 17306, 17307, 17308, 17309, 17310, 17311, 17312,  5971,\n",
              "         17313,  3149,  8683,   172,  4414,     7, 17314,     2,   195,\n",
              "          6222,     0,     0],\n",
              "        [    0,     0,     0,     0,     0,     0,     0,     0,     0,\n",
              "             0,     0,     0,     0,     0,     0,     0,     0,     0,\n",
              "             0,     0,     0,     0,     0,     0,     0,     0,     0,\n",
              "             0,     0,     0],\n",
              "        [10806,  2163, 16319,   611,     2,     2,     2,     1,     0,\n",
              "             0,     0,     0,     0,     0,     0,     0,     0,     0,\n",
              "             0,     0,     0,     0,     0,     0,     0,     0,     0,\n",
              "             0,     0,     0],\n",
              "        [ 1307, 17095,  2717,   434,     0,     0,     0,     0,     0,\n",
              "             0,     0,     0,     0,     0,     0,     0,     0,     0,\n",
              "             0,     0,     0,     0,     0,     0,     0,     0,     0,\n",
              "             0,     0,     0],\n",
              "        [   18,  9637,     0,     0,     0,     0,     0,     0,     0,\n",
              "             0,     0,     0,     0,     0,     0,     0,     0,     0,\n",
              "             0,     0,     0,     0,     0,     0,     0,     0,     0,\n",
              "             0,     0,     0],\n",
              "        [ 1467, 10807,     0,     0,     0,     0,     0,     0,     0,\n",
              "             0,     0,     0,     0,     0,     0,     0,     0,     0,\n",
              "             0,     0,     0,     0,     0,     0,     0,     0,     0,\n",
              "             0,     0,     0],\n",
              "        [ 2032,  2337,    49,  6209,  9158,   156,     0,     0,     0,\n",
              "             0,     0,     0,     0,     0,     0,     0,     0,     0,\n",
              "             0,     0,     0,     0,     0,     0,     0,     0,     0,\n",
              "             0,     0,     0],\n",
              "        [    0,     0,     0,     0,     0,     0,     0,     0,     0,\n",
              "             0,     0,     0,     0,     0,     0,     0,     0,     0,\n",
              "             0,     0,     0,     0,     0,     0,     0,     0,     0,\n",
              "             0,     0,     0],\n",
              "        [ 3619,   262,   185,  1470,    76,   460,    53,     0,     0,\n",
              "             0,     0,     0,     0,     0,     0,     0,     0,     0,\n",
              "             0,     0,     0,     0,     0,     0,     0,     0,     0,\n",
              "             0,     0,     0]], dtype=int32), array([[1.],\n",
              "        [0.],\n",
              "        [1.],\n",
              "        [0.],\n",
              "        [0.],\n",
              "        [0.],\n",
              "        [0.],\n",
              "        [0.],\n",
              "        [0.],\n",
              "        [1.],\n",
              "        [1.],\n",
              "        [1.],\n",
              "        [0.],\n",
              "        [1.],\n",
              "        [1.],\n",
              "        [0.],\n",
              "        [1.],\n",
              "        [1.],\n",
              "        [1.],\n",
              "        [0.]]))"
            ]
          },
          "metadata": {
            "tags": []
          },
          "execution_count": 86
        }
      ]
    },
    {
      "cell_type": "code",
      "metadata": {
        "id": "DqfYP2_zLppu"
      },
      "source": [
        "text = tokenizer.sequences_to_texts(x_test[100:120])"
      ],
      "execution_count": null,
      "outputs": []
    },
    {
      "cell_type": "code",
      "metadata": {
        "colab": {
          "base_uri": "https://localhost:8080/"
        },
        "id": "w7oY1BCPL1il",
        "outputId": "be91dc5f-61ad-4209-b732-8239395c0adc"
      },
      "source": [
        "pred = model.predict(x_test[100:120])\n",
        "\n"
      ],
      "execution_count": null,
      "outputs": [
        {
          "output_type": "execute_result",
          "data": {
            "text/plain": [
              "array([[0.99549156],\n",
              "       [0.00241332],\n",
              "       [0.9963356 ],\n",
              "       [0.98368937],\n",
              "       [0.00196373],\n",
              "       [0.00237578],\n",
              "       [0.00181992],\n",
              "       [0.48668766],\n",
              "       [0.5092609 ],\n",
              "       [0.02314005],\n",
              "       [0.9961392 ],\n",
              "       [0.9958865 ],\n",
              "       [0.48035383],\n",
              "       [0.22811207],\n",
              "       [0.99619675],\n",
              "       [0.00228538],\n",
              "       [0.99639183],\n",
              "       [0.9963187 ],\n",
              "       [0.48035383],\n",
              "       [0.9961892 ]], dtype=float32)"
            ]
          },
          "metadata": {
            "tags": []
          },
          "execution_count": 98
        }
      ]
    },
    {
      "cell_type": "code",
      "metadata": {
        "colab": {
          "base_uri": "https://localhost:8080/"
        },
        "id": "AGC2PjleM6Rt",
        "outputId": "fe1e7fa0-d77b-429d-ec67-3c98b1a308d1"
      },
      "source": [
        "len( y_test[100:120 , 0]) , len(pred[:,0].tolist())"
      ],
      "execution_count": null,
      "outputs": [
        {
          "output_type": "execute_result",
          "data": {
            "text/plain": [
              "(20, 20)"
            ]
          },
          "metadata": {
            "tags": []
          },
          "execution_count": 109
        }
      ]
    },
    {
      "cell_type": "code",
      "metadata": {
        "colab": {
          "base_uri": "https://localhost:8080/",
          "height": 648
        },
        "id": "i_6U8JMTL63t",
        "outputId": "60a70d5c-4197-4957-9d09-096c17f1b54c"
      },
      "source": [
        "pred_df = pd.DataFrame( {\"text\" : text , \"label\" : y_test[100:120 , 0].tolist() , \"pred\" : pred[:,0].tolist()})\n",
        "pred_df"
      ],
      "execution_count": null,
      "outputs": [
        {
          "output_type": "execute_result",
          "data": {
            "text/html": [
              "<div>\n",
              "<style scoped>\n",
              "    .dataframe tbody tr th:only-of-type {\n",
              "        vertical-align: middle;\n",
              "    }\n",
              "\n",
              "    .dataframe tbody tr th {\n",
              "        vertical-align: top;\n",
              "    }\n",
              "\n",
              "    .dataframe thead th {\n",
              "        text-align: right;\n",
              "    }\n",
              "</style>\n",
              "<table border=\"1\" class=\"dataframe\">\n",
              "  <thead>\n",
              "    <tr style=\"text-align: right;\">\n",
              "      <th></th>\n",
              "      <th>text</th>\n",
              "      <th>label</th>\n",
              "      <th>pred</th>\n",
              "    </tr>\n",
              "  </thead>\n",
              "  <tbody>\n",
              "    <tr>\n",
              "      <th>0</th>\n",
              "      <td>게이</td>\n",
              "      <td>1.0</td>\n",
              "      <td>0.995492</td>\n",
              "    </tr>\n",
              "    <tr>\n",
              "      <th>1</th>\n",
              "      <td>꼭 힘내세요</td>\n",
              "      <td>0.0</td>\n",
              "      <td>0.002413</td>\n",
              "    </tr>\n",
              "    <tr>\n",
              "      <th>2</th>\n",
              "      <td>정말 더러운 인간들의 조국 윤미향 추미애 문재인</td>\n",
              "      <td>1.0</td>\n",
              "      <td>0.996336</td>\n",
              "    </tr>\n",
              "    <tr>\n",
              "      <th>3</th>\n",
              "      <td>소름 짧은예고를 글로 보고 다음 회 다본듯 얼른다음주</td>\n",
              "      <td>0.0</td>\n",
              "      <td>0.983689</td>\n",
              "    </tr>\n",
              "    <tr>\n",
              "      <th>4</th>\n",
              "      <td>어벤져스3이 마지막인거네요 슬프고슬프도다 고인의 명복을 빕니다</td>\n",
              "      <td>0.0</td>\n",
              "      <td>0.001964</td>\n",
              "    </tr>\n",
              "    <tr>\n",
              "      <th>5</th>\n",
              "      <td>별걸 다 기사로 쓴다</td>\n",
              "      <td>0.0</td>\n",
              "      <td>0.002376</td>\n",
              "    </tr>\n",
              "    <tr>\n",
              "      <th>6</th>\n",
              "      <td>그 가격에 팔면 뭐 잘한 장사도 아니라고 본다</td>\n",
              "      <td>0.0</td>\n",
              "      <td>0.001820</td>\n",
              "    </tr>\n",
              "    <tr>\n",
              "      <th>7</th>\n",
              "      <td>정말 다 짱</td>\n",
              "      <td>0.0</td>\n",
              "      <td>0.486688</td>\n",
              "    </tr>\n",
              "    <tr>\n",
              "      <th>8</th>\n",
              "      <td>꽃할매보단 역시 꽃할배지 !</td>\n",
              "      <td>0.0</td>\n",
              "      <td>0.509261</td>\n",
              "    </tr>\n",
              "    <tr>\n",
              "      <th>9</th>\n",
              "      <td>의지가 없다 진실을 있다 무엇이 않나 \\?</td>\n",
              "      <td>1.0</td>\n",
              "      <td>0.023140</td>\n",
              "    </tr>\n",
              "    <tr>\n",
              "      <th>10</th>\n",
              "      <td>조민기</td>\n",
              "      <td>1.0</td>\n",
              "      <td>0.996139</td>\n",
              "    </tr>\n",
              "    <tr>\n",
              "      <th>11</th>\n",
              "      <td>강력한 부동산정책 계속 내놓으면 나중에는 부동산국유화 나오겠네 지금 시행하지 토지국...</td>\n",
              "      <td>1.0</td>\n",
              "      <td>0.995887</td>\n",
              "    </tr>\n",
              "    <tr>\n",
              "      <th>12</th>\n",
              "      <td></td>\n",
              "      <td>0.0</td>\n",
              "      <td>0.480354</td>\n",
              "    </tr>\n",
              "    <tr>\n",
              "      <th>13</th>\n",
              "      <td>엄현경 진정 맞긴 하냐 \\? \\? \\?</td>\n",
              "      <td>1.0</td>\n",
              "      <td>0.228112</td>\n",
              "    </tr>\n",
              "    <tr>\n",
              "      <th>14</th>\n",
              "      <td>외모가 지나치게 김태희 아줌마</td>\n",
              "      <td>1.0</td>\n",
              "      <td>0.996197</td>\n",
              "    </tr>\n",
              "    <tr>\n",
              "      <th>15</th>\n",
              "      <td>정말 잘봣습니다</td>\n",
              "      <td>0.0</td>\n",
              "      <td>0.002285</td>\n",
              "    </tr>\n",
              "    <tr>\n",
              "      <th>16</th>\n",
              "      <td>에라이 인간아</td>\n",
              "      <td>1.0</td>\n",
              "      <td>0.996392</td>\n",
              "    </tr>\n",
              "    <tr>\n",
              "      <th>17</th>\n",
              "      <td>일게이들은 공감 이게 is 래 그걸</td>\n",
              "      <td>1.0</td>\n",
              "      <td>0.996319</td>\n",
              "    </tr>\n",
              "    <tr>\n",
              "      <th>18</th>\n",
              "      <td></td>\n",
              "      <td>1.0</td>\n",
              "      <td>0.480354</td>\n",
              "    </tr>\n",
              "    <tr>\n",
              "      <th>19</th>\n",
              "      <td>웃긴건 나중에 지가 당한 거 그대로 다시</td>\n",
              "      <td>0.0</td>\n",
              "      <td>0.996189</td>\n",
              "    </tr>\n",
              "  </tbody>\n",
              "</table>\n",
              "</div>"
            ],
            "text/plain": [
              "                                                 text  label      pred\n",
              "0                                                  게이    1.0  0.995492\n",
              "1                                             꼭 힘내세요     0.0  0.002413\n",
              "2                          정말 더러운 인간들의 조국 윤미향 추미애 문재인    1.0  0.996336\n",
              "3                      소름 짧은예고를 글로 보고 다음 회 다본듯 얼른다음주     0.0  0.983689\n",
              "4                 어벤져스3이 마지막인거네요 슬프고슬프도다 고인의 명복을 빕니다     0.0  0.001964\n",
              "5                                        별걸 다 기사로 쓴다     0.0  0.002376\n",
              "6                          그 가격에 팔면 뭐 잘한 장사도 아니라고 본다     0.0  0.001820\n",
              "7                                              정말 다 짱    0.0  0.486688\n",
              "8                                    꽃할매보단 역시 꽃할배지 !     0.0  0.509261\n",
              "9                            의지가 없다 진실을 있다 무엇이 않나 \\?     1.0  0.023140\n",
              "10                                               조민기     1.0  0.996139\n",
              "11  강력한 부동산정책 계속 내놓으면 나중에는 부동산국유화 나오겠네 지금 시행하지 토지국...    1.0  0.995887\n",
              "12                                                       0.0  0.480354\n",
              "13                             엄현경 진정 맞긴 하냐 \\? \\? \\?     1.0  0.228112\n",
              "14                                   외모가 지나치게 김태희 아줌마    1.0  0.996197\n",
              "15                                           정말 잘봣습니다    0.0  0.002285\n",
              "16                                            에라이 인간아    1.0  0.996392\n",
              "17                                일게이들은 공감 이게 is 래 그걸    1.0  0.996319\n",
              "18                                                       1.0  0.480354\n",
              "19                             웃긴건 나중에 지가 당한 거 그대로 다시    0.0  0.996189"
            ]
          },
          "metadata": {
            "tags": []
          },
          "execution_count": 110
        }
      ]
    },
    {
      "cell_type": "code",
      "metadata": {
        "id": "lsM5j4v7N2pK"
      },
      "source": [
        "\n",
        "## 1. 악플 제한 x , 댓글들 분석 포커싱\n",
        "\n",
        "\n",
        "악플 데이터를 쭉 봤는데\n",
        "\n",
        "1.누가 봐도 악플 - 욕설/혐오발언/성적표현\n",
        "\n",
        "  애매한 것들도 좀 많더라고요\n",
        "    게시글 - 부정적인 의견 - 악플\n",
        "        - 격한 표한 > 악플 판정 맞는데\n",
        "        - 애매한것들 \n",
        "\n",
        "악플 분류 + 감성평가\n",
        "\n",
        "2.댓글 - 감성평가 - 긍정/부정/중립\n",
        "  - 네이버/카카오 제공해주는 서비스 , 키워드 - 긍정/부정 분석해주는거 그런거처럼\n",
        "  - 댓글들 반응 > 게시글 에 대한 전체적인 반응 판정\n",
        "\n",
        "꼭 감성평가가 아니더라도 악플만 볼려고하면 프로젝트 범위가 조금 제한적인거같에요 , \n",
        "악플분류에만 제한적으로 보지 않고 댓글을 다향하게 분석해보면 어떨가싶거든요\n",
        "댓글을 분석할 수 있는 다른 좋은 방법이 있으면 악플 분류하는거에다 같이 하면 좋지 않을까\n",
        "\n",
        "\n",
        "\n",
        "## 2. 이걸 왜 해야 하는지에 대한 프로젝트 기준이 x 안정\n",
        "\n",
        "> 사이트 관리/운영 하는 입장\n",
        "\n",
        "  댓글 > 악플/감성 평가를 한거를 토대로\n",
        "\n",
        "  악플분류 > 사이트 관리자들이 클린하게 관리하는데 쓰일수 있지 않을까 ,  악질악플러들 잡아내는데 사용 , 댓글을 다는 유저 경고 기능 \n",
        "  감성분석 > 게시글에 대한 반응을 토대로 분석에 사용할 수 있지 않을까\n",
        "      - 어떤 게시글 평가가 좋더라 , 안좋더라 왜그럴까 기준 분석\n",
        "      - 게시글들이 모인 게시판의 전체적인 반응을 분석할수도 있고\n",
        "          뉴스기준으로 보면 어떤 게시판이 제일 별로더라 하면 그 이유에 대해서 생각\n",
        "            - 토픽자체가 민감\n",
        "            - 그 게시판 담당 기자들이 글을 못쓸수도있자나요\n",
        "      - 반대로 어떤 토픽을 뽑아서 그 토픽과 관련된 게시글들을 크롤링해서 댓글을 보고 토픽에 대한 반응을 평가할수있지 않을까\n",
        "\n",
        "\n",
        "\n",
        "댓글봇을 만들어본다던가 \n",
        "\n",
        "\n",
        "저도 정리가 안되긴하는데\n",
        "\n",
        "악플에만 한정되기보다는 좀 더 댓글들 분석에 포커싱?\n",
        "\n",
        "\n",
        "\n",
        "---------\n",
        "\n",
        "\n",
        "# 3. 해야할것\n",
        "\n",
        "\n",
        "# 당장 정해야할것\n",
        "  \n",
        "- 1. 악플 판정 기준 (라벨링)\n",
        "    라벨링을 직접 해야되는데\n",
        "    기준자체를 어느정도는 객관화해서 명시해야할 거같음\n",
        "      \n",
        "\n",
        "- 2. 데이터를 구할 플랫폼 (여러군데를 해도 좋은데 일단)\n",
        "    집중적으로 분석할 사이트\n",
        "\n",
        "\n",
        "# 앞으로 해야할것\n",
        "\n",
        "- 스크래핑\n",
        "\n",
        "- 전처리\n",
        "\n",
        "- 모델 공부/최적화\n",
        "\n",
        "\n",
        "\n"
      ],
      "execution_count": null,
      "outputs": []
    }
  ]
}