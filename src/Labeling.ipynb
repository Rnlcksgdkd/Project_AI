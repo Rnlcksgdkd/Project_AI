{
  "nbformat": 4,
  "nbformat_minor": 0,
  "metadata": {
    "colab": {
      "name": "Labeling",
      "provenance": [],
      "authorship_tag": "ABX9TyMOOsMWJEdSaC1adeoKHEbq",
      "include_colab_link": true
    },
    "kernelspec": {
      "name": "python3",
      "display_name": "Python 3"
    },
    "language_info": {
      "name": "python"
    }
  },
  "cells": [
    {
      "cell_type": "markdown",
      "metadata": {
        "id": "view-in-github",
        "colab_type": "text"
      },
      "source": [
        "<a href=\"https://colab.research.google.com/github/Rnlcksgdkd/Project_AI/blob/main/src/Labeling.ipynb\" target=\"_parent\"><img src=\"https://colab.research.google.com/assets/colab-badge.svg\" alt=\"Open In Colab\"/></a>"
      ]
    },
    {
      "cell_type": "code",
      "metadata": {
        "id": "Qqj7EN9JkpEa"
      },
      "source": [
        "import pandas as pd\n",
        "import re\n",
        "\n",
        "def show_text(text):\n",
        "    \n",
        "    oneline_words = 20\n",
        "    \n",
        "    text = text.replace(\".\" , \"\")\n",
        "    text = text.replace(\",\" , \"\")\n",
        "    text = text.replace(\"\\n\" , \" \")\n",
        "    text = re.split(r'[?]', text)\n",
        "                      \n",
        "    for i,t in enumerate(text):\n",
        "        if len(t) < oneline_words and i + 1 < len(text) and len(text[i+1]) + len(t) < oneline_words:\n",
        "            print(text[i] + text[i + 1])\n",
        "        else:\n",
        "            print(t)\n",
        "\n",
        "def labeling(file_path):\n",
        "\n",
        "  # 데이터 로드\n",
        "  data = pd.read_csv(file_path)\n",
        "  data.info()\n",
        "\n",
        "  # 처음 라벨링하는 경우 초기화 , 아니면 현재 라벨링 상태를 보여줌\n",
        "  try : \n",
        "    print(data['라벨'].value_counts())\n",
        "  except:\n",
        "      print(\"label 칼럼 생성\")\n",
        "      data[\"라벨\"] = [-1]*len(data)\n",
        "\n",
        "  # 라벨링 작업 진행\n",
        "  for i in range(len(data)):\n",
        "\n",
        "    if data.loc[i , '라벨'] == -1:\n",
        "\n",
        "      show_text(data.loc[i , '댓글 내용'])\n",
        "      label = input()\n",
        "      print(\" \")\n",
        "      print(\"------------------------- \")\n",
        "      print(\" \")\n",
        "\n",
        "      if label == \"0\" or label == \"1\" or label == \"2\":\n",
        "        data.loc[i , '라벨']  = float(label)\n",
        "\n",
        "      elif label == 'q': break\n",
        "      elif label == \"s\": data.to_csv(file_path , index = 'False')\n",
        "      else:\n",
        "        print(\"잘못된 입력입니다 , 다시 입력해주세요\")\n",
        "        i -= 1\n",
        "\n",
        "  # 자동으로 50개단위로 저장\n",
        "  if i%50 == 0: data.to_csv(file_path)\n",
        "    \n",
        "  # 정상적으로 종료되면 자동저장\n",
        "  data.to_csv(file_path , index = 'False')\n"
      ],
      "execution_count": 2,
      "outputs": []
    }
  ]
}