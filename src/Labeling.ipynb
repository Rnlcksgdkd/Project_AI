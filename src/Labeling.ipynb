{
 "cells": [
  {
   "cell_type": "code",
   "execution_count": 2,
   "metadata": {},
   "outputs": [
    {
     "name": "stdout",
     "output_type": "stream",
     "text": [
      "<class 'pandas.core.frame.DataFrame'>\n",
      "RangeIndex: 1040 entries, 0 to 1039\n",
      "Data columns (total 2 columns):\n",
      " #   Column      Non-Null Count  Dtype \n",
      "---  ------      --------------  ----- \n",
      " 0   Unnamed: 0  1040 non-null   int64 \n",
      " 1   text        1040 non-null   object\n",
      "dtypes: int64(1), object(1)\n",
      "memory usage: 16.4+ KB\n"
     ]
    }
   ],
   "source": [
    "\n",
    "import pandas as pd\n",
    "data = pd.read_csv(\"trash text.csv\")\n",
    "\n",
    "data.info()"
   ]
  },
  {
   "cell_type": "code",
   "execution_count": 21,
   "metadata": {},
   "outputs": [
    {
     "data": {
      "text/plain": [
       "0                                외국 처럼 사회에 기부하면 더 좋을듯\n",
       "1       자식도 그럽니다.\\n부모가 돈 많으면 눈치보고 잘 합니다.\\n니가 벌어서들 써라.\n",
       "2                  내  피붙이도   도는데  조카??......아니라고  보는데\n",
       "3                  부모가  삥뜯은  돈으로  호의호식하고  크고 \\n배운게 월까\n",
       "4                        박수홍씨\\n결혼해서\\n애낳으면되지\\n아직 안늦었구만\n",
       "                            ...                      \n",
       "1035                               네이버  다음  망할것 같아요 ㅠ\n",
       "1036                                          베리 나이스.\n",
       "1037                 음란영상이면 피해자가 있을텐데 피해자에게 줘야하는거 아냐?\n",
       "1038        검찰자산운용... 검찰투자자문회사 차려라 ㅋㅋ 검찰펀드 .. 수익률 최고네\n",
       "1039             이런 기사가 바로 메인에 뜨는 알고리즘 원리가\\n대체 뭘까????\n",
       "Name: text, Length: 1040, dtype: object"
      ]
     },
     "execution_count": 21,
     "metadata": {},
     "output_type": "execute_result"
    }
   ],
   "source": [
    "data['text'].astype('str')"
   ]
  },
  {
   "cell_type": "code",
   "execution_count": 82,
   "metadata": {},
   "outputs": [],
   "source": [
    "import re\n",
    "import regex\n",
    "\n",
    "\n",
    "def show_text(text):\n",
    "    \n",
    "    oneline_words = 20\n",
    "    \n",
    "    text = text.replace(\".\" , \"\")\n",
    "    text = text.replace(\",\" , \"\")\n",
    "    text = text.replace(\"\\n\" , \" \")\n",
    "    text = re.split(r'[?]', text)\n",
    "                      \n",
    "    \n",
    "  \n",
    "    for i,t in enumerate(text):\n",
    "        if len(t) < oneline_words and i + 1 < len(text) and len(text[i+1]) + len(t) < oneline_words:\n",
    "\n",
    "            print(text[i] + text[i + 1])\n",
    "        else:\n",
    "            print(t)\n",
    "\n",
    "   \n",
    "                      \n",
    "                \n"
   ]
  },
  {
   "cell_type": "code",
   "execution_count": 70,
   "metadata": {},
   "outputs": [
    {
     "data": {
      "text/plain": [
       "Unnamed: 0                                                  782\n",
       "text          재난지원금, 지하철 요금 할인 가지고도 안되니 미성년자 그것도 고교 2학년을 꼬드겨...\n",
       "Name: 782, dtype: object"
      ]
     },
     "execution_count": 70,
     "metadata": {},
     "output_type": "execute_result"
    }
   ],
   "source": [
    "import random\n",
    "\n",
    "rand = random.randint(0, len(data) - 1)\n",
    "\n",
    "data.loc[rand]"
   ]
  },
  {
   "cell_type": "code",
   "execution_count": 79,
   "metadata": {},
   "outputs": [
    {
     "name": "stdout",
     "output_type": "stream",
     "text": [
      "['재난지원금 지하철 요금 할인 가지고도 안되니 미성년자 그것도 고교 2학년을 꼬드겨 선거 연설원으로 발악을 하는구나 ', ' 성폭력당 민주당 ! 이번 선거는 왜 하는 거냐', '']\n",
      "재난지원금 지하철 요금 할인 가지고도 안되니 미성년자 그것도 고교 2학년을 꼬드겨 선거 연설원으로 발악을 하는구나 \n",
      " 성폭력당 민주당 ! 이번 선거는 왜 하는 거냐\n",
      "\n",
      "0\n"
     ]
    }
   ],
   "source": [
    "\n",
    "show_text(data.loc[rand , 'text'])\n",
    "\n",
    "label = input()"
   ]
  },
  {
   "cell_type": "code",
   "execution_count": null,
   "metadata": {},
   "outputs": [
    {
     "name": "stdout",
     "output_type": "stream",
     "text": [
      "지구 곳곳에서   인종차별을 비롯   \"인간성말살 시대\" 가   시작되고 있다   ㅠ ㅠ ㅠ\n",
      "0\n",
      "------------------------- \n",
      "군인이랑 결혼하신분들보면 대단하더라\n",
      "0\n",
      "------------------------- \n",
      "이런건 기가막히게 조용해지던데 ㅋ\n",
      "0\n",
      "------------------------- \n",
      "아 너무소름끼친다\n",
      "0\n",
      "------------------------- \n",
      "선거법 위반으로 끝아닌가ㅋㅋ\n",
      "ㅋㅋ\n"
     ]
    }
   ],
   "source": [
    "\n",
    "while(1):\n",
    "    \n",
    "    rand = random.randint(0, len(data) - 1)\n",
    "    show_text(data.loc[rand , 'text'])\n",
    "    label = input()\n",
    "    print(\"------------------------- \")\n",
    "    if label == 'q': break\n",
    "\n"
   ]
  },
  {
   "cell_type": "code",
   "execution_count": null,
   "metadata": {},
   "outputs": [],
   "source": []
  }
 ],
 "metadata": {
  "kernelspec": {
   "display_name": "Python 3",
   "language": "python",
   "name": "python3"
  },
  "language_info": {
   "codemirror_mode": {
    "name": "ipython",
    "version": 3
   },
   "file_extension": ".py",
   "mimetype": "text/x-python",
   "name": "python",
   "nbconvert_exporter": "python",
   "pygments_lexer": "ipython3",
   "version": "3.7.3"
  }
 },
 "nbformat": 4,
 "nbformat_minor": 4
}
