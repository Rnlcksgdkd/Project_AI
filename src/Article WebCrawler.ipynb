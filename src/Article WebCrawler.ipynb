{
 "cells": [
  {
   "cell_type": "code",
   "execution_count": 7,
   "metadata": {},
   "outputs": [],
   "source": [
    "import requests\n",
    "import urllib.request\n",
    "\n",
    "import re\n",
    "from urllib.request import urlopen\n",
    "from bs4 import BeautifulSoup\n",
    "import pandas as pd\n",
    "\n",
    "from selenium import webdriver\n",
    "from selenium.webdriver.support.ui import WebDriverWait\n",
    "from selenium.webdriver.common.by import By\n",
    "from selenium.webdriver.common.keys import Keys\n",
    "from selenium.webdriver.support import expected_conditions as EC\n",
    "\n",
    "# 크롬 드라이버 초기화\n",
    "def init_driver():\n",
    "    return webdriver.Chrome(\"./chromedriver.exe\")"
   ]
  },
  {
   "cell_type": "code",
   "execution_count": 38,
   "metadata": {},
   "outputs": [],
   "source": [
    "driver = webdriver.Chrome('./chromedriver.exe')"
   ]
  },
  {
   "cell_type": "code",
   "execution_count": null,
   "metadata": {},
   "outputs": [],
   "source": [
    "url = 'https://news.v.daum.net/v/20210403013444673'\n",
    "driver = webdriver.Chrome('./chromedriver.exe')\n",
    "driver.get(url)\n",
    "v = driver.find_element_by_css_selector('div.cont_view')\n",
    "v.text"
   ]
  },
  {
   "cell_type": "code",
   "execution_count": null,
   "metadata": {},
   "outputs": [],
   "source": [
    "v = driver.find_element_by_css_selector('h2')\n",
    "v.text"
   ]
  },
  {
   "cell_type": "code",
   "execution_count": null,
   "metadata": {},
   "outputs": [],
   "source": [
    "html = urlopen(url)\n",
    "bs = BeautifulSoup(html , 'lxml')\n",
    "a = bs.select('h2#kakaoBody.screen_out')[0].text\n",
    "print(a)"
   ]
  },
  {
   "cell_type": "code",
   "execution_count": null,
   "metadata": {
    "scrolled": true
   },
   "outputs": [],
   "source": [
    "\n",
    "## 기사 크롤링\n",
    "\n",
    "url = 'https://news.v.daum.net/v/20210403013444673'\n",
    "\n",
    "\n",
    "# 기사 Section 추출\n",
    "# 이상하게 이 태그는 Selenium 으로 안 읽힌다.. 뭔데;\n",
    "html = urlopen(url)\n",
    "bs = BeautifulSoup(html , 'lxml')\n",
    "article_type = bs.select('h2#kakaoBody.screen_out')[0].text\n",
    "\n",
    "print(article_type)\n"
   ]
  },
  {
   "cell_type": "code",
   "execution_count": null,
   "metadata": {},
   "outputs": [],
   "source": [
    "\n",
    "# 다음뉴스 기사 크롤링\n",
    "\n",
    "article_data = [[]]\n",
    "\n",
    "find_tag = ['h3.tit_view' , 'div.news_view p' , \n",
    "            'div.selectionbox.type-RECOMMEND.unselected' , \n",
    "          'div.selectionbox.type-LIKE.unselected' , \n",
    "           'div.selectionbox.type-IMPRESS.unselected', \n",
    "           'div.selectionbox.type-ANGRY.unselected' , \n",
    "           'div.selectionbox.type-SAD.unselected']\n",
    "\n",
    "\n",
    "for i,tag in enumerate(find_tag):\n",
    "    val = driver.find_elements_by_css_selector(tag)\n",
    "    print(\" \")\n",
    "    \n",
    "    for j in range(len(val)):\n",
    "        print(val[j].text)\n",
    "\n",
    "        "
   ]
  },
  {
   "cell_type": "code",
   "execution_count": null,
   "metadata": {},
   "outputs": [],
   "source": [
    "\n",
    "# 다음뉴스 댓글 크롤링 (기사 하나)\n",
    "\n",
    "# 웹 드라이버 실행\n",
    "\n",
    "comment = driver.find_elements_by_css_selector('div.cmt_info')\n",
    "\n",
    "# 댓글 아이디/날짜/텍스트/추천/비추천\n",
    "Id = []\n",
    "date = []\n",
    "txt = []\n",
    "recm = []\n",
    "\n",
    "data = [ [] , [] , [] , [] , []]\n",
    "\n",
    "find_tag = [  'a.link_nick' , 'span.txt_date', 'p.desc_txt.font_size_17' , \n",
    "            'button.btn_g.btn_recomm span.num_txt' ,\n",
    "            'button.btn_g.btn_oppose span.num_txt'\n",
    "           ]\n",
    "\n",
    "for i,tag in enumerate(find_tag):\n",
    "\n",
    "    val = driver.find_elements_by_css_selector('div.cmt_info ' + tag)\n",
    "\n",
    "    for j in range(len(val)):\n",
    "        data[i].append(val[j].text)\n",
    "        \n",
    "        "
   ]
  },
  {
   "cell_type": "code",
   "execution_count": null,
   "metadata": {},
   "outputs": [],
   "source": [
    "idx_comment = 3\n",
    "\n",
    "# 닉네임 / 댓글시간 / 댓글 내용 / 추천 / 비추천\n",
    "data[0][idx_comment] , data[1][idx_comment] , data[2][idx_comment] , data[3][idx_comment] , data[4][idx_comment] \n"
   ]
  },
  {
   "cell_type": "code",
   "execution_count": null,
   "metadata": {},
   "outputs": [],
   "source": [
    "from selenium.webdriver.support.ui import WebDriverWait\n",
    "from selenium.webdriver.common.by import By\n",
    "from selenium.webdriver.support import expected_conditions as EC\n",
    "\n",
    "\n",
    "# 댓글 더보기 누르기 , 이게 왜 되는건지는 모른다...\n",
    "xpath = '//*[@id=\"alex-area\"]/div/div/div/div[3]/div[3]/button'\n",
    "driver.find_element_by_xpath(xpath).send_keys(Keys.RETURN)\n",
    "\n",
    "# 클린봇 설정 누르기\n",
    "xpath = '//*[@id=\"alex-area\"]/div/div/div/div[3]/div[1]/button'\n",
    "driver.find_element_by_xpath(xpath).send_keys(Keys.RETURN)\n",
    "\n",
    "# 클린봇 설정 바꾸기\n",
    "xpath = '//*[@id=\"alex-area\"]/div/div/div[2]/div[2]/div/div[2]/dl/dd/button'\n",
    "driver.find_element_by_xpath(xpath).send_keys(Keys.RETURN)\n",
    "\n",
    "# 클린봇 설정 창 닫기\n",
    "xpath = '//*[@id=\"alex-area\"]/div/div/div[2]/div[2]/div/a'\n",
    "driver.find_element_by_xpath(xpath).send_keys(Keys.RETURN)\n",
    "\n",
    "# 댓글 설정 바꾸기 \n",
    "# 안 바꾸면추천댓글을 자동으로 보게됨 (최대 15개)\n",
    "xpath = '//*[@id=\"alex-area\"]/div/div/div/div[3]/ul[1]/li[3]/button'\n",
    "driver.find_element_by_xpath(xpath).send_keys(Keys.RETURN)\n",
    "    \n",
    "\n",
    "    "
   ]
  },
  {
   "cell_type": "code",
   "execution_count": 11,
   "metadata": {},
   "outputs": [],
   "source": [
    "\n",
    "## 한 기사에 대해서 댓글들 크롤링하기\n",
    "\n",
    "url = 'https://news.v.daum.net/v/20210403184201857'\n",
    "\n",
    "def crawling(driver , url , clean_bot = False , all_reply = False , nested_reply = False):\n",
    "    \n",
    "\n",
    "    driver.get(url)\n",
    "    driver.implicitly_wait(3)\n",
    "    \n",
    "    # 그냥들어가면 추천댓글을 자동으로 보게됨 (대충 최대 15개 정도)\n",
    "    if all_reply:\n",
    "        xpath = '//*[@id=\"alex-area\"]/div/div/div/div[3]/ul[1]/li[3]/button'\n",
    "        driver.find_element_by_xpath(xpath).send_keys(Keys.RETURN)\n",
    "    \n",
    "    # 클린봇 이용\n",
    "    if clean_bot :\n",
    "        xpath = '//*[@id=\"alex-area\"]/div/div/div/div[3]/div[1]/button'\n",
    "        driver.find_element_by_xpath(xpath).send_keys(Keys.RETURN)\n",
    "        xpath = '//*[@id=\"alex-area\"]/div/div/div[2]/div[2]/div/div[2]/dl/dd/button'\n",
    "        driver.find_element_by_xpath(xpath).send_keys(Keys.RETURN)\n",
    "        xpath = '//*[@id=\"alex-area\"]/div/div/div[2]/div[2]/div/a'\n",
    "        driver.find_element_by_xpath(xpath).send_keys(Keys.RETURN)\n",
    "\n",
    "    # 댓글 더보기 펼치기\n",
    "    xpath = '//*[@id=\"alex-area\"]/div/div/div/div[3]/div[3]/button'\n",
    "    while(1):\n",
    "        try: driver.find_element_by_xpath(xpath).send_keys(Keys.RETURN)\n",
    "        except: break\n",
    "      \n",
    "    \n",
    "    # 대댓글 보기\n",
    "    if nested_reply:\n",
    "        xpath = '//*[@id=\"comment652773577\"]/div/div/span[1]/button'\n",
    "        while(1):\n",
    "            try: driver.find_element_by_xpath(xpath).send_keys(Keys.RETURN)\n",
    "            except: break\n",
    "                \n",
    "  \n",
    "    data = []\n",
    "    find_tag = ['p.desc_txt.font_size_17' ]\n",
    "    \n",
    "#     data = [ [] , [] , [] , [] , []]\n",
    "\n",
    "#     find_tag = [  'a.link_nick' , 'span.txt_date', 'p.desc_txt.font_size_17' , \n",
    "#                 'button.btn_g.btn_recomm span.num_txt' ,\n",
    "#                 'button.btn_g.btn_oppose span.num_txt'\n",
    "#                ]\n",
    "\n",
    "    for i,tag in enumerate(find_tag):\n",
    "\n",
    "        val = driver.find_elements_by_css_selector('div.cmt_info ' + tag)\n",
    "\n",
    "        for j in range(len(val)):\n",
    "            #data[i].append(val[j].text)\n",
    "            data.append(val[j].text)\n",
    "            \n",
    "            \n",
    "    return data\n",
    "\n"
   ]
  },
  {
   "cell_type": "code",
   "execution_count": 14,
   "metadata": {},
   "outputs": [
    {
     "name": "stdout",
     "output_type": "stream",
     "text": [
      "16\n",
      "Wall time: 10.2 s\n"
     ]
    }
   ],
   "source": [
    "\n",
    "%%time\n",
    "\n",
    "# 댓글 크롤링 테스트 1  :  클린봇 False , 전체 댓글 False , 대댓글 False \n",
    "# 댓글 16개 , 10.2초\n",
    "\n",
    "url = 'https://news.v.daum.net/v/20210403110603463'\n",
    "\n",
    "# 대댓글 말고 댓글만 수집\n",
    "a = crawling(driver , url , False , False , False)\n",
    "\n",
    "print(len(a))\n"
   ]
  },
  {
   "cell_type": "code",
   "execution_count": 13,
   "metadata": {},
   "outputs": [
    {
     "ename": "KeyboardInterrupt",
     "evalue": "",
     "output_type": "error",
     "traceback": [
      "\u001b[1;31m---------------------------------------------------------------------------\u001b[0m",
      "\u001b[1;31mKeyboardInterrupt\u001b[0m                         Traceback (most recent call last)",
      "\u001b[1;32m<timed exec>\u001b[0m in \u001b[0;36m<module>\u001b[1;34m\u001b[0m\n",
      "\u001b[1;32m<ipython-input-11-535c412d3fef>\u001b[0m in \u001b[0;36mcrawling\u001b[1;34m(driver, url, clean_bot, all_reply, nested_reply)\u001b[0m\n\u001b[0;32m     54\u001b[0m         \u001b[1;32mfor\u001b[0m \u001b[0mj\u001b[0m \u001b[1;32min\u001b[0m \u001b[0mrange\u001b[0m\u001b[1;33m(\u001b[0m\u001b[0mlen\u001b[0m\u001b[1;33m(\u001b[0m\u001b[0mval\u001b[0m\u001b[1;33m)\u001b[0m\u001b[1;33m)\u001b[0m\u001b[1;33m:\u001b[0m\u001b[1;33m\u001b[0m\u001b[1;33m\u001b[0m\u001b[0m\n\u001b[0;32m     55\u001b[0m             \u001b[1;31m#data[i].append(val[j].text)\u001b[0m\u001b[1;33m\u001b[0m\u001b[1;33m\u001b[0m\u001b[1;33m\u001b[0m\u001b[0m\n\u001b[1;32m---> 56\u001b[1;33m             \u001b[0mdata\u001b[0m\u001b[1;33m.\u001b[0m\u001b[0mappend\u001b[0m\u001b[1;33m(\u001b[0m\u001b[0mval\u001b[0m\u001b[1;33m[\u001b[0m\u001b[0mj\u001b[0m\u001b[1;33m]\u001b[0m\u001b[1;33m.\u001b[0m\u001b[0mtext\u001b[0m\u001b[1;33m)\u001b[0m\u001b[1;33m\u001b[0m\u001b[1;33m\u001b[0m\u001b[0m\n\u001b[0m\u001b[0;32m     57\u001b[0m \u001b[1;33m\u001b[0m\u001b[0m\n\u001b[0;32m     58\u001b[0m \u001b[1;33m\u001b[0m\u001b[0m\n",
      "\u001b[1;32m~\\AppData\\Local\\Continuum\\anaconda3\\lib\\site-packages\\selenium\\webdriver\\remote\\webelement.py\u001b[0m in \u001b[0;36mtext\u001b[1;34m(self)\u001b[0m\n\u001b[0;32m     74\u001b[0m     \u001b[1;32mdef\u001b[0m \u001b[0mtext\u001b[0m\u001b[1;33m(\u001b[0m\u001b[0mself\u001b[0m\u001b[1;33m)\u001b[0m\u001b[1;33m:\u001b[0m\u001b[1;33m\u001b[0m\u001b[1;33m\u001b[0m\u001b[0m\n\u001b[0;32m     75\u001b[0m         \u001b[1;34m\"\"\"The text of the element.\"\"\"\u001b[0m\u001b[1;33m\u001b[0m\u001b[1;33m\u001b[0m\u001b[0m\n\u001b[1;32m---> 76\u001b[1;33m         \u001b[1;32mreturn\u001b[0m \u001b[0mself\u001b[0m\u001b[1;33m.\u001b[0m\u001b[0m_execute\u001b[0m\u001b[1;33m(\u001b[0m\u001b[0mCommand\u001b[0m\u001b[1;33m.\u001b[0m\u001b[0mGET_ELEMENT_TEXT\u001b[0m\u001b[1;33m)\u001b[0m\u001b[1;33m[\u001b[0m\u001b[1;34m'value'\u001b[0m\u001b[1;33m]\u001b[0m\u001b[1;33m\u001b[0m\u001b[1;33m\u001b[0m\u001b[0m\n\u001b[0m\u001b[0;32m     77\u001b[0m \u001b[1;33m\u001b[0m\u001b[0m\n\u001b[0;32m     78\u001b[0m     \u001b[1;32mdef\u001b[0m \u001b[0mclick\u001b[0m\u001b[1;33m(\u001b[0m\u001b[0mself\u001b[0m\u001b[1;33m)\u001b[0m\u001b[1;33m:\u001b[0m\u001b[1;33m\u001b[0m\u001b[1;33m\u001b[0m\u001b[0m\n",
      "\u001b[1;32m~\\AppData\\Local\\Continuum\\anaconda3\\lib\\site-packages\\selenium\\webdriver\\remote\\webelement.py\u001b[0m in \u001b[0;36m_execute\u001b[1;34m(self, command, params)\u001b[0m\n\u001b[0;32m    631\u001b[0m             \u001b[0mparams\u001b[0m \u001b[1;33m=\u001b[0m \u001b[1;33m{\u001b[0m\u001b[1;33m}\u001b[0m\u001b[1;33m\u001b[0m\u001b[1;33m\u001b[0m\u001b[0m\n\u001b[0;32m    632\u001b[0m         \u001b[0mparams\u001b[0m\u001b[1;33m[\u001b[0m\u001b[1;34m'id'\u001b[0m\u001b[1;33m]\u001b[0m \u001b[1;33m=\u001b[0m \u001b[0mself\u001b[0m\u001b[1;33m.\u001b[0m\u001b[0m_id\u001b[0m\u001b[1;33m\u001b[0m\u001b[1;33m\u001b[0m\u001b[0m\n\u001b[1;32m--> 633\u001b[1;33m         \u001b[1;32mreturn\u001b[0m \u001b[0mself\u001b[0m\u001b[1;33m.\u001b[0m\u001b[0m_parent\u001b[0m\u001b[1;33m.\u001b[0m\u001b[0mexecute\u001b[0m\u001b[1;33m(\u001b[0m\u001b[0mcommand\u001b[0m\u001b[1;33m,\u001b[0m \u001b[0mparams\u001b[0m\u001b[1;33m)\u001b[0m\u001b[1;33m\u001b[0m\u001b[1;33m\u001b[0m\u001b[0m\n\u001b[0m\u001b[0;32m    634\u001b[0m \u001b[1;33m\u001b[0m\u001b[0m\n\u001b[0;32m    635\u001b[0m     \u001b[1;32mdef\u001b[0m \u001b[0mfind_element\u001b[0m\u001b[1;33m(\u001b[0m\u001b[0mself\u001b[0m\u001b[1;33m,\u001b[0m \u001b[0mby\u001b[0m\u001b[1;33m=\u001b[0m\u001b[0mBy\u001b[0m\u001b[1;33m.\u001b[0m\u001b[0mID\u001b[0m\u001b[1;33m,\u001b[0m \u001b[0mvalue\u001b[0m\u001b[1;33m=\u001b[0m\u001b[1;32mNone\u001b[0m\u001b[1;33m)\u001b[0m\u001b[1;33m:\u001b[0m\u001b[1;33m\u001b[0m\u001b[1;33m\u001b[0m\u001b[0m\n",
      "\u001b[1;32m~\\AppData\\Local\\Continuum\\anaconda3\\lib\\site-packages\\selenium\\webdriver\\remote\\webdriver.py\u001b[0m in \u001b[0;36mexecute\u001b[1;34m(self, driver_command, params)\u001b[0m\n\u001b[0;32m    317\u001b[0m \u001b[1;33m\u001b[0m\u001b[0m\n\u001b[0;32m    318\u001b[0m         \u001b[0mparams\u001b[0m \u001b[1;33m=\u001b[0m \u001b[0mself\u001b[0m\u001b[1;33m.\u001b[0m\u001b[0m_wrap_value\u001b[0m\u001b[1;33m(\u001b[0m\u001b[0mparams\u001b[0m\u001b[1;33m)\u001b[0m\u001b[1;33m\u001b[0m\u001b[1;33m\u001b[0m\u001b[0m\n\u001b[1;32m--> 319\u001b[1;33m         \u001b[0mresponse\u001b[0m \u001b[1;33m=\u001b[0m \u001b[0mself\u001b[0m\u001b[1;33m.\u001b[0m\u001b[0mcommand_executor\u001b[0m\u001b[1;33m.\u001b[0m\u001b[0mexecute\u001b[0m\u001b[1;33m(\u001b[0m\u001b[0mdriver_command\u001b[0m\u001b[1;33m,\u001b[0m \u001b[0mparams\u001b[0m\u001b[1;33m)\u001b[0m\u001b[1;33m\u001b[0m\u001b[1;33m\u001b[0m\u001b[0m\n\u001b[0m\u001b[0;32m    320\u001b[0m         \u001b[1;32mif\u001b[0m \u001b[0mresponse\u001b[0m\u001b[1;33m:\u001b[0m\u001b[1;33m\u001b[0m\u001b[1;33m\u001b[0m\u001b[0m\n\u001b[0;32m    321\u001b[0m             \u001b[0mself\u001b[0m\u001b[1;33m.\u001b[0m\u001b[0merror_handler\u001b[0m\u001b[1;33m.\u001b[0m\u001b[0mcheck_response\u001b[0m\u001b[1;33m(\u001b[0m\u001b[0mresponse\u001b[0m\u001b[1;33m)\u001b[0m\u001b[1;33m\u001b[0m\u001b[1;33m\u001b[0m\u001b[0m\n",
      "\u001b[1;32m~\\AppData\\Local\\Continuum\\anaconda3\\lib\\site-packages\\selenium\\webdriver\\remote\\remote_connection.py\u001b[0m in \u001b[0;36mexecute\u001b[1;34m(self, command, params)\u001b[0m\n\u001b[0;32m    372\u001b[0m         \u001b[0mdata\u001b[0m \u001b[1;33m=\u001b[0m \u001b[0mutils\u001b[0m\u001b[1;33m.\u001b[0m\u001b[0mdump_json\u001b[0m\u001b[1;33m(\u001b[0m\u001b[0mparams\u001b[0m\u001b[1;33m)\u001b[0m\u001b[1;33m\u001b[0m\u001b[1;33m\u001b[0m\u001b[0m\n\u001b[0;32m    373\u001b[0m         \u001b[0murl\u001b[0m \u001b[1;33m=\u001b[0m \u001b[1;34m'%s%s'\u001b[0m \u001b[1;33m%\u001b[0m \u001b[1;33m(\u001b[0m\u001b[0mself\u001b[0m\u001b[1;33m.\u001b[0m\u001b[0m_url\u001b[0m\u001b[1;33m,\u001b[0m \u001b[0mpath\u001b[0m\u001b[1;33m)\u001b[0m\u001b[1;33m\u001b[0m\u001b[1;33m\u001b[0m\u001b[0m\n\u001b[1;32m--> 374\u001b[1;33m         \u001b[1;32mreturn\u001b[0m \u001b[0mself\u001b[0m\u001b[1;33m.\u001b[0m\u001b[0m_request\u001b[0m\u001b[1;33m(\u001b[0m\u001b[0mcommand_info\u001b[0m\u001b[1;33m[\u001b[0m\u001b[1;36m0\u001b[0m\u001b[1;33m]\u001b[0m\u001b[1;33m,\u001b[0m \u001b[0murl\u001b[0m\u001b[1;33m,\u001b[0m \u001b[0mbody\u001b[0m\u001b[1;33m=\u001b[0m\u001b[0mdata\u001b[0m\u001b[1;33m)\u001b[0m\u001b[1;33m\u001b[0m\u001b[1;33m\u001b[0m\u001b[0m\n\u001b[0m\u001b[0;32m    375\u001b[0m \u001b[1;33m\u001b[0m\u001b[0m\n\u001b[0;32m    376\u001b[0m     \u001b[1;32mdef\u001b[0m \u001b[0m_request\u001b[0m\u001b[1;33m(\u001b[0m\u001b[0mself\u001b[0m\u001b[1;33m,\u001b[0m \u001b[0mmethod\u001b[0m\u001b[1;33m,\u001b[0m \u001b[0murl\u001b[0m\u001b[1;33m,\u001b[0m \u001b[0mbody\u001b[0m\u001b[1;33m=\u001b[0m\u001b[1;32mNone\u001b[0m\u001b[1;33m)\u001b[0m\u001b[1;33m:\u001b[0m\u001b[1;33m\u001b[0m\u001b[1;33m\u001b[0m\u001b[0m\n",
      "\u001b[1;32m~\\AppData\\Local\\Continuum\\anaconda3\\lib\\site-packages\\selenium\\webdriver\\remote\\remote_connection.py\u001b[0m in \u001b[0;36m_request\u001b[1;34m(self, method, url, body)\u001b[0m\n\u001b[0;32m    395\u001b[0m \u001b[1;33m\u001b[0m\u001b[0m\n\u001b[0;32m    396\u001b[0m         \u001b[1;32mif\u001b[0m \u001b[0mself\u001b[0m\u001b[1;33m.\u001b[0m\u001b[0mkeep_alive\u001b[0m\u001b[1;33m:\u001b[0m\u001b[1;33m\u001b[0m\u001b[1;33m\u001b[0m\u001b[0m\n\u001b[1;32m--> 397\u001b[1;33m             \u001b[0mresp\u001b[0m \u001b[1;33m=\u001b[0m \u001b[0mself\u001b[0m\u001b[1;33m.\u001b[0m\u001b[0m_conn\u001b[0m\u001b[1;33m.\u001b[0m\u001b[0mrequest\u001b[0m\u001b[1;33m(\u001b[0m\u001b[0mmethod\u001b[0m\u001b[1;33m,\u001b[0m \u001b[0murl\u001b[0m\u001b[1;33m,\u001b[0m \u001b[0mbody\u001b[0m\u001b[1;33m=\u001b[0m\u001b[0mbody\u001b[0m\u001b[1;33m,\u001b[0m \u001b[0mheaders\u001b[0m\u001b[1;33m=\u001b[0m\u001b[0mheaders\u001b[0m\u001b[1;33m)\u001b[0m\u001b[1;33m\u001b[0m\u001b[1;33m\u001b[0m\u001b[0m\n\u001b[0m\u001b[0;32m    398\u001b[0m \u001b[1;33m\u001b[0m\u001b[0m\n\u001b[0;32m    399\u001b[0m             \u001b[0mstatuscode\u001b[0m \u001b[1;33m=\u001b[0m \u001b[0mresp\u001b[0m\u001b[1;33m.\u001b[0m\u001b[0mstatus\u001b[0m\u001b[1;33m\u001b[0m\u001b[1;33m\u001b[0m\u001b[0m\n",
      "\u001b[1;32m~\\AppData\\Local\\Continuum\\anaconda3\\lib\\site-packages\\urllib3\\request.py\u001b[0m in \u001b[0;36mrequest\u001b[1;34m(self, method, url, fields, headers, **urlopen_kw)\u001b[0m\n\u001b[0;32m     73\u001b[0m         \u001b[1;32mif\u001b[0m \u001b[0mmethod\u001b[0m \u001b[1;32min\u001b[0m \u001b[0mself\u001b[0m\u001b[1;33m.\u001b[0m\u001b[0m_encode_url_methods\u001b[0m\u001b[1;33m:\u001b[0m\u001b[1;33m\u001b[0m\u001b[1;33m\u001b[0m\u001b[0m\n\u001b[0;32m     74\u001b[0m             return self.request_encode_url(\n\u001b[1;32m---> 75\u001b[1;33m                 \u001b[0mmethod\u001b[0m\u001b[1;33m,\u001b[0m \u001b[0murl\u001b[0m\u001b[1;33m,\u001b[0m \u001b[0mfields\u001b[0m\u001b[1;33m=\u001b[0m\u001b[0mfields\u001b[0m\u001b[1;33m,\u001b[0m \u001b[0mheaders\u001b[0m\u001b[1;33m=\u001b[0m\u001b[0mheaders\u001b[0m\u001b[1;33m,\u001b[0m \u001b[1;33m**\u001b[0m\u001b[0murlopen_kw\u001b[0m\u001b[1;33m\u001b[0m\u001b[1;33m\u001b[0m\u001b[0m\n\u001b[0m\u001b[0;32m     76\u001b[0m             )\n\u001b[0;32m     77\u001b[0m         \u001b[1;32melse\u001b[0m\u001b[1;33m:\u001b[0m\u001b[1;33m\u001b[0m\u001b[1;33m\u001b[0m\u001b[0m\n",
      "\u001b[1;32m~\\AppData\\Local\\Continuum\\anaconda3\\lib\\site-packages\\urllib3\\request.py\u001b[0m in \u001b[0;36mrequest_encode_url\u001b[1;34m(self, method, url, fields, headers, **urlopen_kw)\u001b[0m\n\u001b[0;32m     94\u001b[0m             \u001b[0murl\u001b[0m \u001b[1;33m+=\u001b[0m \u001b[1;34m\"?\"\u001b[0m \u001b[1;33m+\u001b[0m \u001b[0murlencode\u001b[0m\u001b[1;33m(\u001b[0m\u001b[0mfields\u001b[0m\u001b[1;33m)\u001b[0m\u001b[1;33m\u001b[0m\u001b[1;33m\u001b[0m\u001b[0m\n\u001b[0;32m     95\u001b[0m \u001b[1;33m\u001b[0m\u001b[0m\n\u001b[1;32m---> 96\u001b[1;33m         \u001b[1;32mreturn\u001b[0m \u001b[0mself\u001b[0m\u001b[1;33m.\u001b[0m\u001b[0murlopen\u001b[0m\u001b[1;33m(\u001b[0m\u001b[0mmethod\u001b[0m\u001b[1;33m,\u001b[0m \u001b[0murl\u001b[0m\u001b[1;33m,\u001b[0m \u001b[1;33m**\u001b[0m\u001b[0mextra_kw\u001b[0m\u001b[1;33m)\u001b[0m\u001b[1;33m\u001b[0m\u001b[1;33m\u001b[0m\u001b[0m\n\u001b[0m\u001b[0;32m     97\u001b[0m \u001b[1;33m\u001b[0m\u001b[0m\n\u001b[0;32m     98\u001b[0m     def request_encode_body(\n",
      "\u001b[1;32m~\\AppData\\Local\\Continuum\\anaconda3\\lib\\site-packages\\urllib3\\poolmanager.py\u001b[0m in \u001b[0;36murlopen\u001b[1;34m(self, method, url, redirect, **kw)\u001b[0m\n\u001b[0;32m    373\u001b[0m             \u001b[0mresponse\u001b[0m \u001b[1;33m=\u001b[0m \u001b[0mconn\u001b[0m\u001b[1;33m.\u001b[0m\u001b[0murlopen\u001b[0m\u001b[1;33m(\u001b[0m\u001b[0mmethod\u001b[0m\u001b[1;33m,\u001b[0m \u001b[0murl\u001b[0m\u001b[1;33m,\u001b[0m \u001b[1;33m**\u001b[0m\u001b[0mkw\u001b[0m\u001b[1;33m)\u001b[0m\u001b[1;33m\u001b[0m\u001b[1;33m\u001b[0m\u001b[0m\n\u001b[0;32m    374\u001b[0m         \u001b[1;32melse\u001b[0m\u001b[1;33m:\u001b[0m\u001b[1;33m\u001b[0m\u001b[1;33m\u001b[0m\u001b[0m\n\u001b[1;32m--> 375\u001b[1;33m             \u001b[0mresponse\u001b[0m \u001b[1;33m=\u001b[0m \u001b[0mconn\u001b[0m\u001b[1;33m.\u001b[0m\u001b[0murlopen\u001b[0m\u001b[1;33m(\u001b[0m\u001b[0mmethod\u001b[0m\u001b[1;33m,\u001b[0m \u001b[0mu\u001b[0m\u001b[1;33m.\u001b[0m\u001b[0mrequest_uri\u001b[0m\u001b[1;33m,\u001b[0m \u001b[1;33m**\u001b[0m\u001b[0mkw\u001b[0m\u001b[1;33m)\u001b[0m\u001b[1;33m\u001b[0m\u001b[1;33m\u001b[0m\u001b[0m\n\u001b[0m\u001b[0;32m    376\u001b[0m \u001b[1;33m\u001b[0m\u001b[0m\n\u001b[0;32m    377\u001b[0m         \u001b[0mredirect_location\u001b[0m \u001b[1;33m=\u001b[0m \u001b[0mredirect\u001b[0m \u001b[1;32mand\u001b[0m \u001b[0mresponse\u001b[0m\u001b[1;33m.\u001b[0m\u001b[0mget_redirect_location\u001b[0m\u001b[1;33m(\u001b[0m\u001b[1;33m)\u001b[0m\u001b[1;33m\u001b[0m\u001b[1;33m\u001b[0m\u001b[0m\n",
      "\u001b[1;32m~\\AppData\\Local\\Continuum\\anaconda3\\lib\\site-packages\\urllib3\\connectionpool.py\u001b[0m in \u001b[0;36murlopen\u001b[1;34m(self, method, url, body, headers, retries, redirect, assert_same_host, timeout, pool_timeout, release_conn, chunked, body_pos, **response_kw)\u001b[0m\n\u001b[0;32m    704\u001b[0m                 \u001b[0mbody\u001b[0m\u001b[1;33m=\u001b[0m\u001b[0mbody\u001b[0m\u001b[1;33m,\u001b[0m\u001b[1;33m\u001b[0m\u001b[1;33m\u001b[0m\u001b[0m\n\u001b[0;32m    705\u001b[0m                 \u001b[0mheaders\u001b[0m\u001b[1;33m=\u001b[0m\u001b[0mheaders\u001b[0m\u001b[1;33m,\u001b[0m\u001b[1;33m\u001b[0m\u001b[1;33m\u001b[0m\u001b[0m\n\u001b[1;32m--> 706\u001b[1;33m                 \u001b[0mchunked\u001b[0m\u001b[1;33m=\u001b[0m\u001b[0mchunked\u001b[0m\u001b[1;33m,\u001b[0m\u001b[1;33m\u001b[0m\u001b[1;33m\u001b[0m\u001b[0m\n\u001b[0m\u001b[0;32m    707\u001b[0m             )\n\u001b[0;32m    708\u001b[0m \u001b[1;33m\u001b[0m\u001b[0m\n",
      "\u001b[1;32m~\\AppData\\Local\\Continuum\\anaconda3\\lib\\site-packages\\urllib3\\connectionpool.py\u001b[0m in \u001b[0;36m_make_request\u001b[1;34m(self, conn, method, url, timeout, chunked, **httplib_request_kw)\u001b[0m\n\u001b[0;32m    443\u001b[0m                     \u001b[1;31m# Python 3 (including for exceptions like SystemExit).\u001b[0m\u001b[1;33m\u001b[0m\u001b[1;33m\u001b[0m\u001b[1;33m\u001b[0m\u001b[0m\n\u001b[0;32m    444\u001b[0m                     \u001b[1;31m# Otherwise it looks like a bug in the code.\u001b[0m\u001b[1;33m\u001b[0m\u001b[1;33m\u001b[0m\u001b[1;33m\u001b[0m\u001b[0m\n\u001b[1;32m--> 445\u001b[1;33m                     \u001b[0msix\u001b[0m\u001b[1;33m.\u001b[0m\u001b[0mraise_from\u001b[0m\u001b[1;33m(\u001b[0m\u001b[0me\u001b[0m\u001b[1;33m,\u001b[0m \u001b[1;32mNone\u001b[0m\u001b[1;33m)\u001b[0m\u001b[1;33m\u001b[0m\u001b[1;33m\u001b[0m\u001b[0m\n\u001b[0m\u001b[0;32m    446\u001b[0m         \u001b[1;32mexcept\u001b[0m \u001b[1;33m(\u001b[0m\u001b[0mSocketTimeout\u001b[0m\u001b[1;33m,\u001b[0m \u001b[0mBaseSSLError\u001b[0m\u001b[1;33m,\u001b[0m \u001b[0mSocketError\u001b[0m\u001b[1;33m)\u001b[0m \u001b[1;32mas\u001b[0m \u001b[0me\u001b[0m\u001b[1;33m:\u001b[0m\u001b[1;33m\u001b[0m\u001b[1;33m\u001b[0m\u001b[0m\n\u001b[0;32m    447\u001b[0m             \u001b[0mself\u001b[0m\u001b[1;33m.\u001b[0m\u001b[0m_raise_timeout\u001b[0m\u001b[1;33m(\u001b[0m\u001b[0merr\u001b[0m\u001b[1;33m=\u001b[0m\u001b[0me\u001b[0m\u001b[1;33m,\u001b[0m \u001b[0murl\u001b[0m\u001b[1;33m=\u001b[0m\u001b[0murl\u001b[0m\u001b[1;33m,\u001b[0m \u001b[0mtimeout_value\u001b[0m\u001b[1;33m=\u001b[0m\u001b[0mread_timeout\u001b[0m\u001b[1;33m)\u001b[0m\u001b[1;33m\u001b[0m\u001b[1;33m\u001b[0m\u001b[0m\n",
      "\u001b[1;32m~\\AppData\\Local\\Continuum\\anaconda3\\lib\\site-packages\\urllib3\\packages\\six.py\u001b[0m in \u001b[0;36mraise_from\u001b[1;34m(value, from_value)\u001b[0m\n",
      "\u001b[1;32m~\\AppData\\Local\\Continuum\\anaconda3\\lib\\site-packages\\urllib3\\connectionpool.py\u001b[0m in \u001b[0;36m_make_request\u001b[1;34m(self, conn, method, url, timeout, chunked, **httplib_request_kw)\u001b[0m\n\u001b[0;32m    438\u001b[0m                 \u001b[1;31m# Python 3\u001b[0m\u001b[1;33m\u001b[0m\u001b[1;33m\u001b[0m\u001b[1;33m\u001b[0m\u001b[0m\n\u001b[0;32m    439\u001b[0m                 \u001b[1;32mtry\u001b[0m\u001b[1;33m:\u001b[0m\u001b[1;33m\u001b[0m\u001b[1;33m\u001b[0m\u001b[0m\n\u001b[1;32m--> 440\u001b[1;33m                     \u001b[0mhttplib_response\u001b[0m \u001b[1;33m=\u001b[0m \u001b[0mconn\u001b[0m\u001b[1;33m.\u001b[0m\u001b[0mgetresponse\u001b[0m\u001b[1;33m(\u001b[0m\u001b[1;33m)\u001b[0m\u001b[1;33m\u001b[0m\u001b[1;33m\u001b[0m\u001b[0m\n\u001b[0m\u001b[0;32m    441\u001b[0m                 \u001b[1;32mexcept\u001b[0m \u001b[0mBaseException\u001b[0m \u001b[1;32mas\u001b[0m \u001b[0me\u001b[0m\u001b[1;33m:\u001b[0m\u001b[1;33m\u001b[0m\u001b[1;33m\u001b[0m\u001b[0m\n\u001b[0;32m    442\u001b[0m                     \u001b[1;31m# Remove the TypeError from the exception chain in\u001b[0m\u001b[1;33m\u001b[0m\u001b[1;33m\u001b[0m\u001b[1;33m\u001b[0m\u001b[0m\n",
      "\u001b[1;32m~\\AppData\\Local\\Continuum\\anaconda3\\lib\\http\\client.py\u001b[0m in \u001b[0;36mgetresponse\u001b[1;34m(self)\u001b[0m\n\u001b[0;32m   1319\u001b[0m         \u001b[1;32mtry\u001b[0m\u001b[1;33m:\u001b[0m\u001b[1;33m\u001b[0m\u001b[1;33m\u001b[0m\u001b[0m\n\u001b[0;32m   1320\u001b[0m             \u001b[1;32mtry\u001b[0m\u001b[1;33m:\u001b[0m\u001b[1;33m\u001b[0m\u001b[1;33m\u001b[0m\u001b[0m\n\u001b[1;32m-> 1321\u001b[1;33m                 \u001b[0mresponse\u001b[0m\u001b[1;33m.\u001b[0m\u001b[0mbegin\u001b[0m\u001b[1;33m(\u001b[0m\u001b[1;33m)\u001b[0m\u001b[1;33m\u001b[0m\u001b[1;33m\u001b[0m\u001b[0m\n\u001b[0m\u001b[0;32m   1322\u001b[0m             \u001b[1;32mexcept\u001b[0m \u001b[0mConnectionError\u001b[0m\u001b[1;33m:\u001b[0m\u001b[1;33m\u001b[0m\u001b[1;33m\u001b[0m\u001b[0m\n\u001b[0;32m   1323\u001b[0m                 \u001b[0mself\u001b[0m\u001b[1;33m.\u001b[0m\u001b[0mclose\u001b[0m\u001b[1;33m(\u001b[0m\u001b[1;33m)\u001b[0m\u001b[1;33m\u001b[0m\u001b[1;33m\u001b[0m\u001b[0m\n",
      "\u001b[1;32m~\\AppData\\Local\\Continuum\\anaconda3\\lib\\http\\client.py\u001b[0m in \u001b[0;36mbegin\u001b[1;34m(self)\u001b[0m\n\u001b[0;32m    294\u001b[0m         \u001b[1;31m# read until we get a non-100 response\u001b[0m\u001b[1;33m\u001b[0m\u001b[1;33m\u001b[0m\u001b[1;33m\u001b[0m\u001b[0m\n\u001b[0;32m    295\u001b[0m         \u001b[1;32mwhile\u001b[0m \u001b[1;32mTrue\u001b[0m\u001b[1;33m:\u001b[0m\u001b[1;33m\u001b[0m\u001b[1;33m\u001b[0m\u001b[0m\n\u001b[1;32m--> 296\u001b[1;33m             \u001b[0mversion\u001b[0m\u001b[1;33m,\u001b[0m \u001b[0mstatus\u001b[0m\u001b[1;33m,\u001b[0m \u001b[0mreason\u001b[0m \u001b[1;33m=\u001b[0m \u001b[0mself\u001b[0m\u001b[1;33m.\u001b[0m\u001b[0m_read_status\u001b[0m\u001b[1;33m(\u001b[0m\u001b[1;33m)\u001b[0m\u001b[1;33m\u001b[0m\u001b[1;33m\u001b[0m\u001b[0m\n\u001b[0m\u001b[0;32m    297\u001b[0m             \u001b[1;32mif\u001b[0m \u001b[0mstatus\u001b[0m \u001b[1;33m!=\u001b[0m \u001b[0mCONTINUE\u001b[0m\u001b[1;33m:\u001b[0m\u001b[1;33m\u001b[0m\u001b[1;33m\u001b[0m\u001b[0m\n\u001b[0;32m    298\u001b[0m                 \u001b[1;32mbreak\u001b[0m\u001b[1;33m\u001b[0m\u001b[1;33m\u001b[0m\u001b[0m\n",
      "\u001b[1;32m~\\AppData\\Local\\Continuum\\anaconda3\\lib\\http\\client.py\u001b[0m in \u001b[0;36m_read_status\u001b[1;34m(self)\u001b[0m\n\u001b[0;32m    255\u001b[0m \u001b[1;33m\u001b[0m\u001b[0m\n\u001b[0;32m    256\u001b[0m     \u001b[1;32mdef\u001b[0m \u001b[0m_read_status\u001b[0m\u001b[1;33m(\u001b[0m\u001b[0mself\u001b[0m\u001b[1;33m)\u001b[0m\u001b[1;33m:\u001b[0m\u001b[1;33m\u001b[0m\u001b[1;33m\u001b[0m\u001b[0m\n\u001b[1;32m--> 257\u001b[1;33m         \u001b[0mline\u001b[0m \u001b[1;33m=\u001b[0m \u001b[0mstr\u001b[0m\u001b[1;33m(\u001b[0m\u001b[0mself\u001b[0m\u001b[1;33m.\u001b[0m\u001b[0mfp\u001b[0m\u001b[1;33m.\u001b[0m\u001b[0mreadline\u001b[0m\u001b[1;33m(\u001b[0m\u001b[0m_MAXLINE\u001b[0m \u001b[1;33m+\u001b[0m \u001b[1;36m1\u001b[0m\u001b[1;33m)\u001b[0m\u001b[1;33m,\u001b[0m \u001b[1;34m\"iso-8859-1\"\u001b[0m\u001b[1;33m)\u001b[0m\u001b[1;33m\u001b[0m\u001b[1;33m\u001b[0m\u001b[0m\n\u001b[0m\u001b[0;32m    258\u001b[0m         \u001b[1;32mif\u001b[0m \u001b[0mlen\u001b[0m\u001b[1;33m(\u001b[0m\u001b[0mline\u001b[0m\u001b[1;33m)\u001b[0m \u001b[1;33m>\u001b[0m \u001b[0m_MAXLINE\u001b[0m\u001b[1;33m:\u001b[0m\u001b[1;33m\u001b[0m\u001b[1;33m\u001b[0m\u001b[0m\n\u001b[0;32m    259\u001b[0m             \u001b[1;32mraise\u001b[0m \u001b[0mLineTooLong\u001b[0m\u001b[1;33m(\u001b[0m\u001b[1;34m\"status line\"\u001b[0m\u001b[1;33m)\u001b[0m\u001b[1;33m\u001b[0m\u001b[1;33m\u001b[0m\u001b[0m\n",
      "\u001b[1;32m~\\AppData\\Local\\Continuum\\anaconda3\\lib\\socket.py\u001b[0m in \u001b[0;36mreadinto\u001b[1;34m(self, b)\u001b[0m\n\u001b[0;32m    587\u001b[0m         \u001b[1;32mwhile\u001b[0m \u001b[1;32mTrue\u001b[0m\u001b[1;33m:\u001b[0m\u001b[1;33m\u001b[0m\u001b[1;33m\u001b[0m\u001b[0m\n\u001b[0;32m    588\u001b[0m             \u001b[1;32mtry\u001b[0m\u001b[1;33m:\u001b[0m\u001b[1;33m\u001b[0m\u001b[1;33m\u001b[0m\u001b[0m\n\u001b[1;32m--> 589\u001b[1;33m                 \u001b[1;32mreturn\u001b[0m \u001b[0mself\u001b[0m\u001b[1;33m.\u001b[0m\u001b[0m_sock\u001b[0m\u001b[1;33m.\u001b[0m\u001b[0mrecv_into\u001b[0m\u001b[1;33m(\u001b[0m\u001b[0mb\u001b[0m\u001b[1;33m)\u001b[0m\u001b[1;33m\u001b[0m\u001b[1;33m\u001b[0m\u001b[0m\n\u001b[0m\u001b[0;32m    590\u001b[0m             \u001b[1;32mexcept\u001b[0m \u001b[0mtimeout\u001b[0m\u001b[1;33m:\u001b[0m\u001b[1;33m\u001b[0m\u001b[1;33m\u001b[0m\u001b[0m\n\u001b[0;32m    591\u001b[0m                 \u001b[0mself\u001b[0m\u001b[1;33m.\u001b[0m\u001b[0m_timeout_occurred\u001b[0m \u001b[1;33m=\u001b[0m \u001b[1;32mTrue\u001b[0m\u001b[1;33m\u001b[0m\u001b[1;33m\u001b[0m\u001b[0m\n",
      "\u001b[1;31mKeyboardInterrupt\u001b[0m: "
     ]
    }
   ],
   "source": [
    "\n",
    "%%time\n",
    "\n",
    "# 댓글 크롤링 테스트 2  :  클린봇 False , 전체 댓글 True , 대댓글 False \n",
    "# 댓\n",
    "# 댓글이 많은 기사는 \"더보기\" 펼치는데만 한세월임....\n",
    "\n",
    "url = 'https://news.v.daum.net/v/20210403110603463'\n",
    "\n",
    "# 대댓글 말고 댓글만 수집\n",
    "a = crawling(driver , url , False , True , False)\n",
    "\n",
    "print(len(a))\n"
   ]
  },
  {
   "cell_type": "code",
   "execution_count": 15,
   "metadata": {},
   "outputs": [
    {
     "name": "stdout",
     "output_type": "stream",
     "text": [
      "3\n",
      "Wall time: 23.6 s\n"
     ]
    }
   ],
   "source": [
    "\n",
    "%%time\n",
    "\n",
    "# 댓글 크롤링 테스트 3  :  클린봇 False , 전체 댓글 False , 대댓글 True \n",
    "# 댓글 16개 , 5.54초\n",
    "\n",
    "url = 'https://news.v.daum.net/v/20210403110603463'\n",
    "\n",
    "# 대댓글 말고 댓글만 수집\n",
    "a = crawling(driver , url , False , False , True)\n",
    "\n",
    "print(len(a))\n"
   ]
  },
  {
   "cell_type": "code",
   "execution_count": null,
   "metadata": {},
   "outputs": [],
   "source": [
    "\n",
    "%%time\n",
    "\n",
    "# 댓글 크롤링 테스트 3  :  클린봇 False , 전체 댓글 True , 대댓글 False \n",
    "# 댓글 16개 , 5.54초\n",
    "\n",
    "url = 'https://news.v.daum.net/v/20210403110603463'\n",
    "\n",
    "# 대댓글 말고 댓글만 수집\n",
    "a = crawling(driver , url , False , True , False)\n",
    "\n",
    "print(len(a))\n"
   ]
  },
  {
   "cell_type": "code",
   "execution_count": null,
   "metadata": {},
   "outputs": [],
   "source": [
    "\n",
    "## 기사 url 따기\n",
    "\n",
    "url = 'https://news.daum.net/breakingnews/society?page=1'\n",
    "html = urlopen(url)\n",
    "bs = BeautifulSoup(html , 'lxml')\n",
    "a = bs.select('div.box_etc a.link_thumb')\n",
    "print(a)"
   ]
  },
  {
   "cell_type": "code",
   "execution_count": null,
   "metadata": {},
   "outputs": [],
   "source": [
    "%%time\n",
    "\n",
    "## 특정 날짜에 대해서 \"사회\" 에서 각 기사 링크 따오기\n",
    "\n",
    "# 시간 좀 걸림.. , 유효하지 않은 날짜는 오늘 날짜로 이동해짐\n",
    "\n",
    "society_url = \"https://news.daum.net/breakingnews/society\"\n",
    "\n",
    "page = 0\n",
    "day_urls = []\n",
    "    \n",
    "date = \"20210321\"\n",
    "last_item = \"\"\n",
    "\n",
    "while(1):\n",
    "    page += 1\n",
    "    page_url = society_url + \"?page=\" + str(page) + '&regDate=' + date\n",
    "    \n",
    "    \n",
    "    if page%50 == 0:\n",
    "        print(page_url)\n",
    "    html = urlopen(page_url)\n",
    "    bs = BeautifulSoup(html , 'lxml')\n",
    "\n",
    "    a = bs.select('div.box_etc a.link_thumb')\n",
    "\n",
    "    for c in a:\n",
    "        day_urls.append(c.get('href'))\n",
    "    \n",
    "    if last_item == c.get('href'): break\n",
    "    else:\n",
    "        last_item = c.get('href')\n",
    "    \n",
    "        \n",
    "\n",
    "print( date , \" 전체 기사 수 : \" , len(day_urls))\n",
    "\n"
   ]
  },
  {
   "cell_type": "code",
   "execution_count": 17,
   "metadata": {},
   "outputs": [],
   "source": [
    "\n",
    "## 시작날짜 ~ 끝날짜 를 받아서 중간에 있는 날짜 골라내기\n",
    "\n",
    "# timedate , zfill 이용\n",
    "\n",
    "from datetime import date\n",
    "from datetime import timedelta\n",
    "\n",
    "def return_dates(start_date , end_date):\n",
    "\n",
    "    days = [start_date]\n",
    "    Date = date(int(start_date[:4]), int(start_date[4:6]), int(start_date[6:]))\n",
    "    end_date = date(int(end_date[:4]), int(end_date[4:6]), int(end_date[6:]))\n",
    "\n",
    "    delta = timedelta(days=1)\n",
    "\n",
    "    while(1):\n",
    "        Date += delta\n",
    "        str_date = str(Date.year) + str(Date.month).zfill(2) + str(Date.day).zfill(2)\n",
    "        days.append(str_date)\n",
    "        if Date == end_date: break\n",
    "            \n",
    "    return days\n",
    "   \n",
    "    \n",
    "\n",
    "\n"
   ]
  },
  {
   "cell_type": "code",
   "execution_count": null,
   "metadata": {},
   "outputs": [],
   "source": [
    "start_date = '20210320'\n",
    "end_date = \"20210401\"\n",
    "\n",
    "DATES = return_dates(start_date , end_date)\n",
    "DATES"
   ]
  },
  {
   "cell_type": "code",
   "execution_count": 19,
   "metadata": {},
   "outputs": [
    {
     "name": "stdout",
     "output_type": "stream",
     "text": [
      "크롤링할 전체 날짜 :  2\n",
      "현재 크롤링 날짜 :  20210327\n",
      "culture 영역 20210327기사 수 : 457\n",
      "현재 크롤링 날짜 :  20210328\n",
      "culture 영역 20210328기사 수 : 448\n",
      " 크롤링할 전체 기사 수 :  905\n",
      "Wall time: 22.9 s\n"
     ]
    }
   ],
   "source": [
    "%%time\n",
    "\n",
    "## 특정 섹터 , 원하는 기간을 통해 기사 url 따기\n",
    "\n",
    "# 다음 뉴스의 섹션은 6개로 구성\n",
    "# society , politics , economic , foreign , culture , digital\n",
    "\n",
    "# 원하는 범위 지정\n",
    "Section = \"culture\"\n",
    "start_date = \"20210327\"\n",
    "end_date = \"20210328\"\n",
    "\n",
    "DATES = return_dates(start_date , end_date)\n",
    "print(\"크롤링할 전체 날짜 : \" , len(DATES))\n",
    "\n",
    "Total_URLS = []\n",
    "\n",
    "for day in DATES:\n",
    "    print(\"현재 크롤링 날짜 : \" , day)\n",
    "    url = \"https://news.daum.net/breakingnews/\" + Section\n",
    "\n",
    "    page = 0\n",
    "    num = 0\n",
    "    last_item = \"\"\n",
    "\n",
    "    while(1):\n",
    "        page += 1\n",
    "        page_url = url + \"?page=\" + str(page) + '&regDate=' + day\n",
    "        html = urlopen(page_url)\n",
    "        bs = BeautifulSoup(html , 'lxml')\n",
    "        a = bs.select('div.box_etc a.link_thumb')\n",
    "        for c in a:\n",
    "            Total_URLS.append(c.get('href'))\n",
    "            num += 1\n",
    "\n",
    "        if last_item == c.get('href'): break\n",
    "        else:\n",
    "            last_item = c.get('href')\n",
    "\n",
    "    print(Section + \" 영역 \" + day + \"기사 수 : \" + str(num))\n",
    "print( \" 크롤링할 전체 기사 수 : \" , len(Total_URLS))\n",
    "    \n",
    "\n"
   ]
  },
  {
   "cell_type": "code",
   "execution_count": 36,
   "metadata": {},
   "outputs": [
    {
     "name": "stdout",
     "output_type": "stream",
     "text": [
      "크롤링할 전체 날짜 :  3\n",
      "현재 크롤링 날짜 :  20210401\n",
      "https://news.daum.net/ranking/popular/?regDate=20210401\n",
      "https://news.daum.net/ranking/popular/?regDate=20210401\n",
      "culture 영역 20210401기사 수 : 108\n",
      "현재 크롤링 날짜 :  20210402\n",
      "https://news.daum.net/ranking/popular/?regDate=20210402\n",
      "https://news.daum.net/ranking/popular/?regDate=20210402\n",
      "culture 영역 20210402기사 수 : 108\n",
      "현재 크롤링 날짜 :  20210403\n",
      "https://news.daum.net/ranking/popular/?regDate=20210403\n",
      "https://news.daum.net/ranking/popular/?regDate=20210403\n",
      "culture 영역 20210403기사 수 : 108\n",
      " 크롤링할 전체 기사 수 :  324\n",
      "Wall time: 1.83 s\n"
     ]
    }
   ],
   "source": [
    "%%time\n",
    "\n",
    "## 특정 섹터 , 원하는 기간을 통해 기사 url 따기\n",
    "\n",
    "# 다음 뉴스의 섹션은 6개로 구성\n",
    "# society , politics , economic , foreign , culture , digital\n",
    "\n",
    "# 원하는 범위 지정\n",
    "category = \"ranking/popular/\"\n",
    "start_date = \"20210401\"\n",
    "end_date = \"20210403\"\n",
    "\n",
    "DATES = return_dates(start_date , end_date)\n",
    "print(\"크롤링할 전체 날짜 : \" , len(DATES))\n",
    "\n",
    "Total_URLS = []\n",
    "\n",
    "for day in DATES:\n",
    "    print(\"현재 크롤링 날짜 : \" , day)\n",
    "    url = \"https://news.daum.net/\" + category\n",
    "\n",
    "    page = 0\n",
    "    num = 0\n",
    "    last_item = \"\"\n",
    "\n",
    "    while(1):\n",
    "        page += 1\n",
    "        page_url = url  + '?regDate=' + day\n",
    "        print(page_url)\n",
    "        html = urlopen(page_url)\n",
    "        bs = BeautifulSoup(html , 'lxml')\n",
    "        a = bs.select('div.cont_thumb a.link_txt')\n",
    "        for c in a:\n",
    "            Total_URLS.append(c.get('href'))\n",
    "            num += 1\n",
    "\n",
    "        if last_item == c.get('href'): break\n",
    "        else:\n",
    "            last_item = c.get('href')\n",
    "\n",
    "    print(Section + \" 영역 \" + day + \"기사 수 : \" + str(num))\n",
    "print( \" 크롤링할 전체 기사 수 : \" , len(Total_URLS))\n",
    "    \n",
    "\n"
   ]
  },
  {
   "cell_type": "code",
   "execution_count": 20,
   "metadata": {},
   "outputs": [
    {
     "data": {
      "text/plain": [
       "['https://v.daum.net/v/20210327235601825',\n",
       " 'https://v.daum.net/v/20210327230726609',\n",
       " 'https://v.daum.net/v/20210327230003563',\n",
       " 'https://v.daum.net/v/20210327222701365',\n",
       " 'https://v.daum.net/v/20210327222039307',\n",
       " 'https://v.daum.net/v/20210327221944301',\n",
       " 'https://v.daum.net/v/20210327221515279',\n",
       " 'https://v.daum.net/v/20210327220536222',\n",
       " 'https://v.daum.net/v/20210327220132196',\n",
       " 'https://v.daum.net/v/20210327220123194',\n",
       " 'https://v.daum.net/v/20210327220116192',\n",
       " 'https://v.daum.net/v/20210327220052191',\n",
       " 'https://v.daum.net/v/20210327220032188',\n",
       " 'https://v.daum.net/v/20210327220019184',\n",
       " 'https://v.daum.net/v/20210327215907169',\n",
       " 'https://v.daum.net/v/20210327215459131',\n",
       " 'https://v.daum.net/v/20210327214606048',\n",
       " 'https://v.daum.net/v/20210327214537035',\n",
       " 'https://v.daum.net/v/20210327214351016',\n",
       " 'https://v.daum.net/v/20210327213932971',\n",
       " 'https://v.daum.net/v/20210327213842959',\n",
       " 'https://v.daum.net/v/20210327213809951',\n",
       " 'https://v.daum.net/v/20210327213704938',\n",
       " 'https://v.daum.net/v/20210327213653935',\n",
       " 'https://v.daum.net/v/20210327213611925',\n",
       " 'https://v.daum.net/v/20210327213146877',\n",
       " 'https://v.daum.net/v/20210327212634833',\n",
       " 'https://v.daum.net/v/20210327211726742',\n",
       " 'https://v.daum.net/v/20210327211120688',\n",
       " 'https://v.daum.net/v/20210327210825657']"
      ]
     },
     "execution_count": 20,
     "metadata": {},
     "output_type": "execute_result"
    }
   ],
   "source": [
    "Total_URLS[:30]"
   ]
  },
  {
   "cell_type": "code",
   "execution_count": 47,
   "metadata": {},
   "outputs": [
    {
     "ename": "InvalidArgumentException",
     "evalue": "Message: invalid argument\n  (Session info: chrome=89.0.4389.114)\n",
     "output_type": "error",
     "traceback": [
      "\u001b[1;31m---------------------------------------------------------------------------\u001b[0m",
      "\u001b[1;31mInvalidArgumentException\u001b[0m                  Traceback (most recent call last)",
      "\u001b[1;32m<timed exec>\u001b[0m in \u001b[0;36m<module>\u001b[1;34m\u001b[0m\n",
      "\u001b[1;32m<ipython-input-11-535c412d3fef>\u001b[0m in \u001b[0;36mcrawling\u001b[1;34m(driver, url, clean_bot, all_reply, nested_reply)\u001b[0m\n\u001b[0;32m      6\u001b[0m \u001b[1;33m\u001b[0m\u001b[0m\n\u001b[0;32m      7\u001b[0m \u001b[1;33m\u001b[0m\u001b[0m\n\u001b[1;32m----> 8\u001b[1;33m     \u001b[0mdriver\u001b[0m\u001b[1;33m.\u001b[0m\u001b[0mget\u001b[0m\u001b[1;33m(\u001b[0m\u001b[0murl\u001b[0m\u001b[1;33m)\u001b[0m\u001b[1;33m\u001b[0m\u001b[1;33m\u001b[0m\u001b[0m\n\u001b[0m\u001b[0;32m      9\u001b[0m     \u001b[0mdriver\u001b[0m\u001b[1;33m.\u001b[0m\u001b[0mimplicitly_wait\u001b[0m\u001b[1;33m(\u001b[0m\u001b[1;36m3\u001b[0m\u001b[1;33m)\u001b[0m\u001b[1;33m\u001b[0m\u001b[1;33m\u001b[0m\u001b[0m\n\u001b[0;32m     10\u001b[0m \u001b[1;33m\u001b[0m\u001b[0m\n",
      "\u001b[1;32m~\\AppData\\Local\\Continuum\\anaconda3\\lib\\site-packages\\selenium\\webdriver\\remote\\webdriver.py\u001b[0m in \u001b[0;36mget\u001b[1;34m(self, url)\u001b[0m\n\u001b[0;32m    331\u001b[0m         \u001b[0mLoads\u001b[0m \u001b[0ma\u001b[0m \u001b[0mweb\u001b[0m \u001b[0mpage\u001b[0m \u001b[1;32min\u001b[0m \u001b[0mthe\u001b[0m \u001b[0mcurrent\u001b[0m \u001b[0mbrowser\u001b[0m \u001b[0msession\u001b[0m\u001b[1;33m.\u001b[0m\u001b[1;33m\u001b[0m\u001b[1;33m\u001b[0m\u001b[0m\n\u001b[0;32m    332\u001b[0m         \"\"\"\n\u001b[1;32m--> 333\u001b[1;33m         \u001b[0mself\u001b[0m\u001b[1;33m.\u001b[0m\u001b[0mexecute\u001b[0m\u001b[1;33m(\u001b[0m\u001b[0mCommand\u001b[0m\u001b[1;33m.\u001b[0m\u001b[0mGET\u001b[0m\u001b[1;33m,\u001b[0m \u001b[1;33m{\u001b[0m\u001b[1;34m'url'\u001b[0m\u001b[1;33m:\u001b[0m \u001b[0murl\u001b[0m\u001b[1;33m}\u001b[0m\u001b[1;33m)\u001b[0m\u001b[1;33m\u001b[0m\u001b[1;33m\u001b[0m\u001b[0m\n\u001b[0m\u001b[0;32m    334\u001b[0m \u001b[1;33m\u001b[0m\u001b[0m\n\u001b[0;32m    335\u001b[0m     \u001b[1;33m@\u001b[0m\u001b[0mproperty\u001b[0m\u001b[1;33m\u001b[0m\u001b[1;33m\u001b[0m\u001b[0m\n",
      "\u001b[1;32m~\\AppData\\Local\\Continuum\\anaconda3\\lib\\site-packages\\selenium\\webdriver\\remote\\webdriver.py\u001b[0m in \u001b[0;36mexecute\u001b[1;34m(self, driver_command, params)\u001b[0m\n\u001b[0;32m    319\u001b[0m         \u001b[0mresponse\u001b[0m \u001b[1;33m=\u001b[0m \u001b[0mself\u001b[0m\u001b[1;33m.\u001b[0m\u001b[0mcommand_executor\u001b[0m\u001b[1;33m.\u001b[0m\u001b[0mexecute\u001b[0m\u001b[1;33m(\u001b[0m\u001b[0mdriver_command\u001b[0m\u001b[1;33m,\u001b[0m \u001b[0mparams\u001b[0m\u001b[1;33m)\u001b[0m\u001b[1;33m\u001b[0m\u001b[1;33m\u001b[0m\u001b[0m\n\u001b[0;32m    320\u001b[0m         \u001b[1;32mif\u001b[0m \u001b[0mresponse\u001b[0m\u001b[1;33m:\u001b[0m\u001b[1;33m\u001b[0m\u001b[1;33m\u001b[0m\u001b[0m\n\u001b[1;32m--> 321\u001b[1;33m             \u001b[0mself\u001b[0m\u001b[1;33m.\u001b[0m\u001b[0merror_handler\u001b[0m\u001b[1;33m.\u001b[0m\u001b[0mcheck_response\u001b[0m\u001b[1;33m(\u001b[0m\u001b[0mresponse\u001b[0m\u001b[1;33m)\u001b[0m\u001b[1;33m\u001b[0m\u001b[1;33m\u001b[0m\u001b[0m\n\u001b[0m\u001b[0;32m    322\u001b[0m             response['value'] = self._unwrap_value(\n\u001b[0;32m    323\u001b[0m                 response.get('value', None))\n",
      "\u001b[1;32m~\\AppData\\Local\\Continuum\\anaconda3\\lib\\site-packages\\selenium\\webdriver\\remote\\errorhandler.py\u001b[0m in \u001b[0;36mcheck_response\u001b[1;34m(self, response)\u001b[0m\n\u001b[0;32m    240\u001b[0m                 \u001b[0malert_text\u001b[0m \u001b[1;33m=\u001b[0m \u001b[0mvalue\u001b[0m\u001b[1;33m[\u001b[0m\u001b[1;34m'alert'\u001b[0m\u001b[1;33m]\u001b[0m\u001b[1;33m.\u001b[0m\u001b[0mget\u001b[0m\u001b[1;33m(\u001b[0m\u001b[1;34m'text'\u001b[0m\u001b[1;33m)\u001b[0m\u001b[1;33m\u001b[0m\u001b[1;33m\u001b[0m\u001b[0m\n\u001b[0;32m    241\u001b[0m             \u001b[1;32mraise\u001b[0m \u001b[0mexception_class\u001b[0m\u001b[1;33m(\u001b[0m\u001b[0mmessage\u001b[0m\u001b[1;33m,\u001b[0m \u001b[0mscreen\u001b[0m\u001b[1;33m,\u001b[0m \u001b[0mstacktrace\u001b[0m\u001b[1;33m,\u001b[0m \u001b[0malert_text\u001b[0m\u001b[1;33m)\u001b[0m\u001b[1;33m\u001b[0m\u001b[1;33m\u001b[0m\u001b[0m\n\u001b[1;32m--> 242\u001b[1;33m         \u001b[1;32mraise\u001b[0m \u001b[0mexception_class\u001b[0m\u001b[1;33m(\u001b[0m\u001b[0mmessage\u001b[0m\u001b[1;33m,\u001b[0m \u001b[0mscreen\u001b[0m\u001b[1;33m,\u001b[0m \u001b[0mstacktrace\u001b[0m\u001b[1;33m)\u001b[0m\u001b[1;33m\u001b[0m\u001b[1;33m\u001b[0m\u001b[0m\n\u001b[0m\u001b[0;32m    243\u001b[0m \u001b[1;33m\u001b[0m\u001b[0m\n\u001b[0;32m    244\u001b[0m     \u001b[1;32mdef\u001b[0m \u001b[0m_value_or_default\u001b[0m\u001b[1;33m(\u001b[0m\u001b[0mself\u001b[0m\u001b[1;33m,\u001b[0m \u001b[0mobj\u001b[0m\u001b[1;33m,\u001b[0m \u001b[0mkey\u001b[0m\u001b[1;33m,\u001b[0m \u001b[0mdefault\u001b[0m\u001b[1;33m)\u001b[0m\u001b[1;33m:\u001b[0m\u001b[1;33m\u001b[0m\u001b[1;33m\u001b[0m\u001b[0m\n",
      "\u001b[1;31mInvalidArgumentException\u001b[0m: Message: invalid argument\n  (Session info: chrome=89.0.4389.114)\n"
     ]
    }
   ],
   "source": [
    "%%time\n",
    "#data = []\n",
    "\n",
    "driver.implicitly_wait(3)\n",
    "\n",
    "\n",
    "for url in Total_URLS[50:]:\n",
    "    data.append(crawling(driver , url))\n",
    "\n",
    "print(len(data))\n",
    "\n"
   ]
  },
  {
   "cell_type": "code",
   "execution_count": 48,
   "metadata": {},
   "outputs": [
    {
     "data": {
      "text/plain": [
       "76"
      ]
     },
     "execution_count": 48,
     "metadata": {},
     "output_type": "execute_result"
    }
   ],
   "source": [
    "len(data)"
   ]
  },
  {
   "cell_type": "code",
   "execution_count": 50,
   "metadata": {},
   "outputs": [
    {
     "name": "stdout",
     "output_type": "stream",
     "text": [
      " C 드라이브의 볼륨에는 이름이 없습니다.\n",
      " 볼륨 일련 번호: 8E1E-1CEA\n",
      "\n",
      " C:\\Users\\Ando\\Developer\\WebCrawler\\study\\Coupang_Scrapping 디렉터리\n",
      "\n",
      "2021-04-04  오후 06:56    <DIR>          .\n",
      "2021-04-04  오후 06:56    <DIR>          ..\n",
      "2021-04-03  오후 10:27    <DIR>          .ipynb_checkpoints\n",
      "2021-04-04  오후 06:56            62,378 Article WebCrawler.ipynb\n",
      "2021-01-27  오전 04:53        10,695,680 chromedriver.exe\n",
      "2021-01-26  오전 03:36            34,305 Coupang 우유 Searching Result.xlsx\n",
      "2021-04-03  오후 05:55           635,540 Coupang.ipynb\n",
      "2021-01-27  오전 11:59            16,471 Coupang.md\n",
      "2021-01-26  오후 02:33    <DIR>          img\n",
      "2021-04-04  오후 06:54           137,767 trash text.csv\n",
      "2021-04-03  오후 10:31             2,921 Untitled.ipynb\n",
      "               7개 파일          11,585,062 바이트\n",
      "               4개 디렉터리  14,349,828,096 바이트 남음\n"
     ]
    }
   ],
   "source": [
    "ls"
   ]
  },
  {
   "cell_type": "code",
   "execution_count": 27,
   "metadata": {},
   "outputs": [
    {
     "data": {
      "text/plain": [
       "[['ㅎ여러분  생각을  댓글로  남겨주세요 보낸이  에게도  보내겠습니다...JTBC 드라마 설** 촬영중지 해야 합니다\\n전뭐가 잘못했다고   생각이  안듭니다 \\n청원에 동의해주세요 https://www1.president.go.kr/petitions/about\\n설레발 치지마라...하는 짓이 \"토착 왜구\" 같노...\\n아님 말고...? ㅎㅎㅋㅋㅋ\\n 어지간히 ㅂㄷㅂㄷ 거리네... ㅎㅎㅋㅋ\\n그니깐 당신 얘기는 카더라 통신이나',\n",
       "  '안기부 미화할수밖에 없는 이유\\n작가 남편이  검사출신이고\\n신의저울 집필시 남편친구 윤석열 한테 도움을 받았다함\\n자신이 모르는 분야의 전문가라고 생각할테고\\n당연히 그들의 말이  정의감으로 느껴질듯',\n",
       "  '작가 피디 제작사 영구 퇴출!!!!\\n\\n중국돈으로 블핑 한류스타 내세워서 \\n대한민국의 민주주의 가치와 역사성을 훼손하려는 \\n자들은 영원히 퇴출시켜야함\\n\\n조선구마사는 아직도 해외에 송출되고 있다고 함\\n\\n설강화는 아예 세상에 나오지 못하게 해야함 \\n\\n배우들도 매국노짓 그만두고 빠져라',\n",
       "  '대쪽같은 안기부?\\n그럼 이근안은 직업정신이 투철한 고문예술가인가요?\\n블랙코미디고 로맨스고,\\n어디 버무릴만한 배경을 들고올 것이지,\\n지금이 미얀마 사태를 두고도 \\n풍자하고 사랑하고 그런 드라마가 가능하겠냐고요!'],\n",
       " [],\n",
       " [],\n",
       " [],\n",
       " ['텔레비전 보니..역시 돈있는 집안은 다르네.\\n코로나로 일반국민들은 장례식도 제대로 고인에 대한 예를 못하는 경우가 많은데 신회장 장례식 영상보니 방역수칙은 재벌들에게는 딴 나라 이야기이네.',\n",
       "  '얼마전 백기완 선생  돌아가셨을때 이렇게 했어봐라!\\n자본과 판검새권력과 수구부패야당세력하고만 손잡고 왜곡보도에만 열 올리지말고 언론들아!',\n",
       "  '글로벌 음식이된..\\n맛있는 라면과 새우깡 만들어 주셔서 감사드립니다.   삼가고인의명복을빕니다.',\n",
       "  '삼양 정치로 엿먹임.\\n누굴까 .. 3놈인데',\n",
       "  '참 이렇게 미화되네. 김기춘 그 늙은이와 짜고 친 고스톱을 알 사람이 얼마나 되리. 삼양만 알겠지.',\n",
       "  '오면 가고\\n가면 오는게\\n회자정리라는 \\n자연의 법칙이거늘\\n부자도 빈자도 배운자\\n무식자 생명있는 모든것들의\\n피할수 없는 운명인것을~\\n해서 살아 생전에 좋은 일 많이해야지\\n죽으면 모든게 허망할뿐이로세.\\n\\n삼가 고인의 명복을 빕니다\\n부디 영면하소서',\n",
       "  '기레기들 겁나  빨아대네...   그만해라..  지겹다...  산업재해로 돌아가신   근로자들도 이렇게 해봐라..기렉아',\n",
       "  '일본 늠들 ㅎ',\n",
       "  '라면의 원조는 삼양라면이였지.. 그 때 그뉴스만 아니었다면 더 많은 사랑을 받았을텐데..',\n",
       "  '풋!!!',\n",
       "  '오늘도 재벌 핥아주기에 여념이 없는 쓰레기 데일리...',\n",
       "  '고인의 명복을 빕니다.\\n하지만 재벌 고리고리 그나물에 다 그밥이고만!\\n잘 가슈.\\n자식들은 인성은 나는 모르것따!\\n다~ 때 되면 가는것을 겸손하고 내려놓고 쫌 낮은 자세로 베풀다가 좀 가라!!!',\n",
       "  '왜 다들 기업인 하면 악으로 치부하고 함부로 말하는지...\\n자기들은 그러한 머리와노력과 성실도 없이 살면서 성공한 기업인들보면 욕들은 참 잘한다.\\n자기가 그자리에 앉았다면 더 하면 더 했지 덜하지 않을것은 모르고 남말 참 쉽게 잘들하지.',\n",
       "  '롯데,  농심 불매',\n",
       "  '부산엔 태풍급 비바람이 몰아치네예\\n벗꽃다떨어지겋네 ㅜㅜ'],\n",
       " [\"■    거북목'하면 18kg 하중으로 목에 압력\"],\n",
       " [],\n",
       " [],\n",
       " [],\n",
       " [],\n",
       " [],\n",
       " [],\n",
       " [],\n",
       " ['Hpv가 왜 성생활과 관련이없어 진짜 기사 좀 자료조사 제대로 하고 쓰자..',\n",
       "  '남자들이 더러워서 여자한테 옮긴다는 생각은 안하냐? 진짜 남자들아 씻고좀다니고 비뇨기과가서 주기적으로 관리받아라. 무조건 이건 남자로인해 옮기는 성병들이다. ㅡ나 산부인과 전문의ㅡ',\n",
       "  '아무튼 건강이 최고여.. 다들 건강챙깁시다!',\n",
       "  '여자들 보고 좀 씻고 다니라고 우웩 하는 남자들아... 양심은 있냐?... 똥 오줌 싸고 나서 손안씻는 인간들 더럽게 많다고 같은 남자들도 다 인정하는 부분이고. 여자 남자중 굳이 따지면 누가더 안씻겠냐?... 진짜 여자 손한번 제대로 못 잡아 본놈들이 꼭 이런식으로 티를 ....',\n",
       "  '깨끗하게 씻어도 외부 자극이나 면연계 이상이나 상황에 따라서 등등.. 나는 거 너무 싫어요 ㅠㅠㅠㅠㅠㅠㅠㅠ',\n",
       "  '남자들이 룸 같은데 가서 놀다가 걸려와서 보균자 된 상태에 부인이랑 관계하다 부인 자궁암 걸리게 하는 그런 과정이 생략됐네. 그래도 남자들은 사마귀 정도니까 그리 크게 생각 안하지.',\n",
       "  '모든 바이러스는 치료제가 없어요. 헤르페스 바이러스에 감염되면 약을 먹는 이유는 증상을 환화시키고 고통을 줄이기 위해서에요. 이 바이러스는 평소에  신경속에 숨어있다가 피곤하거나 스트레스 받거나 면역력이 떨어지면 뿅하고 나타나는게 바이러스에요. 입에 나면 구진포 생식기에 나면 성병으로 분류되어 있어요. 그게 기자님이 말하는 1형2형인데. 성병 맞아요. 입에 수포가 올라온 상태에서 오랄섹하면 감염됩니다. 그리고 출산 임박한 임산부 생식기에 헤르페스 발견되면 자연분만 못합니다. 왜냐 헤르페스는 신생아한테 치명적인거든요.',\n",
       "  \"성병 아닌데.. 오해받아 '억울한' 질환 3종\",\n",
       "  '단순히 생물학적 위생을 판가름 하자면 남자가 위생상 유리합니다.  격렬한 성관계에서도 출혈 부분도 남자가 유리하지요. 문란한 성생활은 개개인마다 다르므로 남여 다 동일하다 생각되네요.',\n",
       "  '그냥 면역력 약하면 갑자기 저리 됩니다 ㅜㅜ',\n",
       "  '댓글보면...이해를 못하고 기본 상식 가지고  까는 애들이 너무 많은듯...이해를 못하면 얄팍한 지식으로 아는척 하지말자....'],\n",
       " [],\n",
       " [],\n",
       " [],\n",
       " ['비가 오려면 좀 일주일 이상좀 내려라.. 이렇게 오다가 말면 더 더워지고, 답답하고 습기, 습도 오르고,, 곰팡이 발생도 심해지던데.. 에효  ㅠ',\n",
       "  '그리고글하고싶은말있으면은더쓰기두하고못쓰기두합니다 기사제목은그리고보니까는글 \"[뉴스9 날씨] 남해안, 제주에 강한 비바람..비 내일 오전에 대부분 그쳐\" 글인데요 오늘부터 오후쯤에 계속 가랑비나 봄비인가나 비가 내리더라구요 구슬프게요 그리고 비오는날에 어디 건물짓는곳이나 사람들 중에어떤남자나길안비키고서있거나그러면 우산이부딪혀서옷젖다가길가는도중에뒤에서누군가손가락으로돌아오라고손짓하는경우도예전에있었는데 의정부극장태흥시네마가기전에하여튼거기공사는다끝났지만황당한일도있고경우랑상황이다양함어떤뭐비키라고이야기하던가그상대방은말하는자기가먼저비켰으면됬는데.',\n",
       "  '날씨에대한이야기 저는다른다음Daum기사보다가 내용에클릭해서들어왔고망설이다가 단지 내용에댓글기재해서달았어요우선댓글달기전에나오는글에 \"첫번째 댓글을 남겨주세요.\" 나오는데요 글그리고 이어이곳확인상에글적었어요'],\n",
       " [],\n",
       " [],\n",
       " [],\n",
       " [],\n",
       " [],\n",
       " ['사진을 망치고 싶다면 문재앙 얼굴을 찍어보심이',\n",
       "  '혹시나 해서 봤더니 전부 권위주의적 인간들이네.  예술은 그 인간의 영혼적 풍토와 뗄레야 뗄 수 없는 분야이다. 권위주의적 포트레이트(인물)만 추구한 기술자이구만. 차라리 박정희의 고뇌에 찬 포트레이트나 열심히 잡지 그랬어?  당시의 기운이 그 얼굴에 품어 나오는 그런거 너 한테는 한 장도 없다? 당시 보도기자들이 너보다 백배 낫다~',\n",
       "  '진짜 멋있어요!!!♡',\n",
       "  '그렇습니다.',\n",
       "  '예술작품에대한어떤거이야기부분같아,요'],\n",
       " [],\n",
       " [],\n",
       " ['저도드라마작가지망생이지만농촌드라마를쓸적에 옛날농촌드라마를보거나직접\\n경험을토대로쓰거든요ᆢ작가님도한번\\n그래보세요ᆢ',\n",
       "  '작가로서의 책임의식이나 진실성 진정성 사소한 생각마저도 글에 묻어나야 작가 아닝가요?\\n박계옥씨 글에는 조선의 역사를 우리와 다른 관점으로 바라보고 불순한 의도를  갖고 있는 거로는 분명하게 전달되더군요\\n그어떤 작품활동도 하지 마시길 부탁드립니다 역사관이 고친다고 쉽게 고쳐지는 부분도 아닌거 같고 전체보다는 자신만을 고집하고 깊이 보다는 얕은 재미를 추구하는 사람의 글이라고 느껴서 점점 영향력 있는 케이드라마에 독이 되는 사람이겠구나싶네요'],\n",
       " [],\n",
       " [],\n",
       " [],\n",
       " ['대박이었다!!!'],\n",
       " ['JTBC의 드라마  설**의  촬영을 중지시켜야 합니다  청원에  동의해 주세요'],\n",
       " [],\n",
       " [],\n",
       " [],\n",
       " ['신경수 감독님, 중국 콴시 챙긴 거잖아요.\\n\\n어떻게 역사왜곡 의도가 1도 없었다는 말이, 단 2편만에도 이렇게 넘쳐 흐르는 중에 장본인 입에서 나올 수 있나요?\\n\\n그럼 조선 사극 만들면서 소품실에서 \\n남성인물들 기본인 갓 챙기는 걸 깜박한거고\\n조선 환도대신 깜박해서 중국칼을 챙겨다 왕자들에게 쥐어준 거고\\n\\n조선왕실 무녀에게 굳이 실수로 중국무녀 옷을 빌려다 입히고, 머리셋팅도 100프로 똑같게 꾸미라 시켰어요?\\n\\n실수로 한국 사극OST에 중국 대표악기들 써서 것도 독주곡들을 섭외하고 기획해 올렸고요?\\n\\n조선족 농악무 넣은 장면은요?'],\n",
       " [],\n",
       " [],\n",
       " ['철인왕후 작가가  조선구마사도 썼구나.\\n토왜도   모자라서  오랑캐종자까지\\n지배만 부르면 나라를  팔아먹을 잡것들',\n",
       "  '지금 대한민국이 왜이리 중국몽에 빠져있는가\\n여러분도 누구인지  잘알지요\\n그 위선이 누구인지는  이나라가 미쳐가도 제대로 미쳐가는   중빠들아 역사에서  삭제시켜라\\n문들은 일빠 라고 하면서 여기에는 어떠한 답변이 없는냐  중국.조선족놈들 댓글  달기만해봐라'],\n",
       " [],\n",
       " [],\n",
       " [],\n",
       " [],\n",
       " ['3잔...? 글라스로 3잔이면 몰라도 어떻게 3잔만 마시나...ㅋ',\n",
       "  '닥쳐...술이라도 한잔 해야 살지...',\n",
       "  '소주잔으로 3잔 마실 바에는\\n아예 안마시는게 낫다',\n",
       "  '에이 잘못들어왔다,  조선이네\\n기레기 기사',\n",
       "  '혼술자체가 안좋은대 건강한혼술 ㅋㅋ',\n",
       "  '술 못마시는데 비오는 날은 혼자 창밖 바라보며 한잔 하고픈 생각',\n",
       "  '도다리세꼬시에 소주 한잔  생각나네\\n동네횟집가면 혼술 메뉴도 있고해서 가끔씩 가는데\\n괜찮음  요즘  호프집이나 횟집  같은데도 혼술메뉴가 있는데 고깃집은 혼자 가기가 ....',\n",
       "  '건강한 혼술~ 건강한 삶~ \\n\\n조선 끊으면 된다!!',\n",
       "  '혼술할 때 조심해야 하는것은 휴대폰 조중동 기사!!\\n화딱지나서 술 양이 조절불가',\n",
       "  '하나마나 한소리.',\n",
       "  '좋선 폐간된다면 술안마셔도 된다',\n",
       "  '+ 조선기사 안보기'],\n",
       " [],\n",
       " ['완경 처음 안 단어인데 되게 좋은 표현이네요 슬퍼하기나 체념하지 앐고 자연스럽게 노화를 받아들이는 느낌으로 제2의 인생을 살아가면 좋을 것 같아요'],\n",
       " [],\n",
       " [],\n",
       " [],\n",
       " ['마! 가가 가가 가가?']]"
      ]
     },
     "execution_count": 27,
     "metadata": {},
     "output_type": "execute_result"
    }
   ],
   "source": [
    "data[:50]"
   ]
  },
  {
   "cell_type": "code",
   "execution_count": 49,
   "metadata": {},
   "outputs": [],
   "source": [
    "import pandas as pd\n",
    "\n",
    "df = pd.DataFrame({'text' : data})\n",
    "\n",
    "df.to_csv(\"trash text.csv\")"
   ]
  },
  {
   "cell_type": "code",
   "execution_count": 54,
   "metadata": {},
   "outputs": [
    {
     "data": {
      "text/plain": [
       "1040"
      ]
     },
     "execution_count": 54,
     "metadata": {},
     "output_type": "execute_result"
    }
   ],
   "source": [
    "\n",
    "comment_data = []\n",
    "\n",
    "for sentences in data:\n",
    "    for sentence in sentences:\n",
    "        comment_data.append(sentence)\n",
    "        \n",
    "len(comment_data)\n",
    "    \n",
    "    "
   ]
  },
  {
   "cell_type": "code",
   "execution_count": 55,
   "metadata": {},
   "outputs": [],
   "source": [
    "\n",
    "df = pd.DataFrame({'text' : comment_data})\n",
    "\n",
    "df.to_csv(\"trash text.csv\")"
   ]
  },
  {
   "cell_type": "code",
   "execution_count": null,
   "metadata": {},
   "outputs": [],
   "source": []
  }
 ],
 "metadata": {
  "kernelspec": {
   "display_name": "Python 3",
   "language": "python",
   "name": "python3"
  },
  "language_info": {
   "codemirror_mode": {
    "name": "ipython",
    "version": 3
   },
   "file_extension": ".py",
   "mimetype": "text/x-python",
   "name": "python",
   "nbconvert_exporter": "python",
   "pygments_lexer": "ipython3",
   "version": "3.7.3"
  }
 },
 "nbformat": 4,
 "nbformat_minor": 4
}
