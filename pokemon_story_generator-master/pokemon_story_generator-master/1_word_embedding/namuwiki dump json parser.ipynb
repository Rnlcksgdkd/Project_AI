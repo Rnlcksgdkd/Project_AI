{
 "cells": [
  {
   "cell_type": "code",
   "execution_count": 1,
   "metadata": {},
   "outputs": [],
   "source": [
    "import ijson\n",
    "from urllib.request import urlopen\n",
    "\n",
    "filename= open('/Users/chaewon/Downloads/namuwiki/namu.json')\n",
    "data=[]\n",
    "\n",
    "for item in ijson.items(filename, 'item'):\n",
    "    data.append(item)"
   ]
  },
  {
   "cell_type": "code",
   "execution_count": 2,
   "metadata": {},
   "outputs": [
    {
     "name": "stdout",
     "output_type": "stream",
     "text": [
      "number of articles: 565985\n",
      "The first article is:\n",
      "{'namespace': '0', 'title': '!', 'text': '#redirect 느낌표\\n', 'contributors': ['namubot', 'R:hoon12560']}\n"
     ]
    }
   ],
   "source": [
    "# data is list of articles\n",
    "# Let's see how many articles in the database\n",
    "print(\"number of articles:\", len(data)) \n",
    "\n",
    "# Let's see the first article\n",
    "print(\"The first article is:\")\n",
    "print(data[0])"
   ]
  },
  {
   "cell_type": "code",
   "execution_count": 3,
   "metadata": {},
   "outputs": [
    {
     "name": "stdout",
     "output_type": "stream",
     "text": [
      "min text size: 0\n",
      "max text size: 922064\n"
     ]
    }
   ],
   "source": [
    "# this black list article does not contain natural language knowledge\n",
    "black_list_title = ['공지사항/차단 내역/통합본']\n",
    "\n",
    "# Check some statistics of whole dataset\n",
    "count_dict = {}\n",
    "for article in data:\n",
    "    if article['title'] in black_list_title:\n",
    "        continue # remove blacklist article\n",
    "        \n",
    "#     if(len(article['text']) > 10000 and len(article['text']) < 11000):\n",
    "#         print(article)\n",
    "#         break\n",
    "        \n",
    "    if count_dict.get(len(article['text'])) == None:\n",
    "        count_dict[len(article['text'])] = 1\n",
    "    else:\n",
    "        count_dict[len(article['text'])] = count_dict[len(article['text'])] + 1        \n",
    "    \n",
    "    \n",
    "print(\"min text size:\", min(count_dict.keys()))\n",
    "print(\"max text size:\", max(count_dict.keys()))"
   ]
  },
  {
   "cell_type": "code",
   "execution_count": 4,
   "metadata": {},
   "outputs": [
    {
     "name": "stdout",
     "output_type": "stream",
     "text": [
      "num_bucket: 923\n",
      "[244675, 83757, 54249, 35908, 25167, 18483, 14567, 11052, 9136, 7587, 6355, 5417, 4723, 4041, 3548, 3208, 2689, 2421, 2224, 1970, 1753, 1746, 1462, 1369, 1262, 1132, 1044, 978, 824, 801, 732, 676, 665, 548, 537, 506, 481, 405, 424, 394, 385, 363, 322, 322, 264, 256, 245, 252, 218, 192, 176, 194, 176, 170, 144, 152, 146, 130, 118, 111, 107, 146, 94, 98, 104, 94, 98, 86, 80, 76, 63, 56, 62, 68, 49, 65, 55, 65, 55, 48, 41, 37, 50, 39, 31, 27, 35, 29, 31, 26, 23, 18, 20, 29, 26, 22, 30, 20, 20, 17, 18, 12, 16, 19, 13, 16, 20, 10, 9, 14, 14, 15, 8, 10, 14, 12, 10, 15, 13, 4, 6, 13, 9, 16, 10, 5, 9, 11, 3, 10, 5, 9, 6, 6, 9, 11, 6, 5, 5, 1, 6, 6, 5, 5, 3, 2, 6, 1, 1, 7, 3, 4, 0, 3, 1, 6, 3, 2, 0, 2, 2, 1, 3, 4, 1, 2, 3, 3, 2, 3, 2, 3, 3, 2, 3, 3, 1, 3, 1, 1, 3, 2, 1, 5, 1, 3, 1, 1, 0, 0, 1, 1, 1, 0, 2, 2, 2, 3, 0, 1, 0, 2, 0, 3, 0, 1, 1, 0, 0, 0, 2, 0, 1, 1, 0, 1, 1, 1, 1, 1, 1, 0, 2, 0, 0, 0, 1, 0, 0, 1, 0, 0, 0, 0, 1, 0, 0, 0, 1, 1, 0, 1, 0, 0, 0, 0, 0, 0, 0, 1, 0, 0, 0, 0, 0, 0, 0, 0, 0, 0, 0, 1, 0, 0, 0, 0, 0, 0, 0, 0, 0, 0, 0, 1, 0, 0, 0, 0, 0, 0, 0, 0, 0, 0, 0, 0, 0, 0, 0, 0, 0, 0, 0, 1, 0, 0, 0, 0, 0, 0, 0, 0, 0, 0, 0, 0, 0, 0, 0, 0, 0, 0, 0, 0, 0, 0, 0, 1, 0, 0, 0, 0, 0, 0, 0, 0, 0, 0, 0, 0, 0, 0, 0, 0, 0, 0, 0, 0, 0, 0, 0, 0, 0, 0, 0, 0, 0, 0, 0, 0, 0, 0, 0, 0, 0, 0, 0, 1, 0, 0, 0, 0, 0, 0, 0, 0, 0, 0, 0, 0, 0, 0, 0, 0, 0, 0, 0, 0, 0, 0, 0, 0, 0, 0, 0, 0, 0, 0, 0, 0, 0, 0, 0, 0, 0, 0, 0, 0, 0, 0, 0, 0, 0, 0, 0, 0, 0, 0, 0, 0, 0, 0, 0, 0, 0, 0, 0, 0, 0, 0, 0, 0, 0, 0, 0, 0, 0, 0, 0, 0, 0, 0, 0, 0, 0, 0, 0, 0, 0, 0, 0, 0, 0, 0, 0, 0, 0, 0, 0, 0, 0, 0, 0, 0, 0, 0, 0, 0, 0, 0, 0, 0, 0, 0, 0, 0, 0, 0, 0, 0, 0, 0, 0, 0, 0, 0, 0, 0, 0, 0, 0, 0, 0, 0, 0, 0, 0, 0, 0, 0, 0, 0, 0, 0, 0, 0, 0, 0, 0, 0, 0, 0, 0, 0, 0, 0, 0, 0, 0, 0, 0, 0, 0, 0, 0, 0, 0, 0, 0, 0, 0, 0, 0, 0, 0, 0, 0, 0, 0, 0, 0, 0, 0, 0, 0, 0, 0, 0, 0, 0, 0, 0, 0, 0, 0, 0, 0, 0, 0, 0, 0, 0, 0, 0, 0, 0, 0, 0, 0, 0, 0, 0, 0, 0, 0, 0, 0, 0, 0, 0, 0, 0, 0, 0, 0, 0, 0, 0, 0, 0, 0, 0, 0, 0, 0, 0, 0, 0, 0, 0, 0, 0, 0, 0, 0, 0, 0, 0, 0, 0, 0, 0, 0, 0, 0, 0, 0, 0, 0, 0, 0, 0, 0, 0, 0, 0, 0, 0, 0, 0, 0, 0, 0, 0, 0, 0, 0, 0, 0, 0, 0, 0, 0, 0, 0, 0, 0, 0, 0, 0, 0, 0, 0, 0, 0, 0, 0, 0, 0, 0, 0, 0, 0, 0, 0, 0, 0, 0, 0, 0, 0, 0, 0, 0, 0, 0, 0, 0, 0, 0, 0, 0, 0, 0, 0, 0, 0, 0, 0, 0, 0, 0, 0, 0, 0, 0, 0, 0, 0, 0, 0, 0, 0, 0, 0, 0, 0, 0, 0, 0, 0, 0, 0, 0, 0, 0, 0, 0, 0, 0, 0, 0, 0, 0, 0, 0, 0, 0, 0, 0, 0, 0, 0, 0, 0, 0, 0, 0, 0, 0, 0, 0, 0, 0, 0, 0, 0, 0, 0, 0, 0, 0, 0, 0, 0, 0, 0, 0, 0, 0, 0, 0, 0, 0, 0, 0, 0, 0, 0, 0, 0, 0, 0, 0, 0, 0, 0, 0, 0, 0, 0, 0, 0, 0, 0, 0, 0, 0, 0, 0, 0, 0, 0, 0, 0, 0, 0, 0, 0, 0, 0, 0, 0, 0, 0, 0, 0, 0, 0, 0, 0, 0, 0, 0, 0, 0, 0, 0, 0, 0, 0, 0, 0, 0, 0, 0, 0, 0, 0, 0, 0, 0, 0, 0, 0, 0, 0, 0, 0, 0, 0, 0, 0, 0, 0, 0, 0, 0, 0, 0, 0, 0, 0, 0, 0, 0, 0, 0, 0, 0, 0, 0, 0, 0, 0, 0, 0, 0, 0, 0, 0, 0, 0, 0, 0, 0, 0, 0, 0, 0, 0, 0, 0, 0, 0, 0, 0, 0, 0, 0, 0, 0, 0, 0, 0, 0, 0, 0, 0, 0, 0, 0, 0, 0, 0, 0, 0, 0, 0, 0, 0, 0, 0, 0, 0, 0, 0, 0, 0, 0, 0, 1, 0, 0, 0, 0, 0, 0, 0, 0, 1, 0, 1]\n"
     ]
    }
   ],
   "source": [
    "MAX_ARTICLE_SIZE = max(count_dict.keys())\n",
    "\n",
    "bucket_size = 1000\n",
    "num_bucket = MAX_ARTICLE_SIZE // bucket_size + 1\n",
    "\n",
    "print('num_bucket:', num_bucket)\n",
    "\n",
    "bucket_counts = [0] * num_bucket\n",
    "for key, value in count_dict.items():\n",
    "    index = key // bucket_size\n",
    "    bucket_counts[index] = bucket_counts[index] + value\n",
    "\n",
    "print(bucket_counts)"
   ]
  },
  {
   "cell_type": "code",
   "execution_count": 5,
   "metadata": {},
   "outputs": [
    {
     "name": "stdout",
     "output_type": "stream",
     "text": [
      "!\n",
      "#redirect 느낌표\n",
      "\n",
      "\n",
      "!!아앗!!\n",
      "[[파일:3444050440.jpg]]\n",
      "([[신 세계수의 미궁 2]]에서 뜬 !!아앗!!)\n",
      "{{{+1 ！！ああっと！！ }}}\n",
      "\n",
      "[[세계수의 미궁 시리즈]]에 전통으로 등장하는 대사. [[세계수의 미궁 2 제왕의 성배|2편 제왕의 성배]]부터 등장했으며, 훌륭한 [[사망 플래그]]의 예시이다.\n",
      "\n",
      "세계수의 모험가들이 탐험하는 던전인 수해의 구석구석에는 채취/벌채/채굴 포인트가 있으며, 이를 위한 채집 스킬에 투자하면 제한된 채집 기회에 보다 큰 이득을 챙길 수 있다. 그러나 분배할 수 있는 스킬 포인트는 한정된 만큼 채집 스킬에 투자하는 만큼 전투 스킬 레벨은 낮아지게 된다.\n",
      "\n",
      " 1. 채집용 캐릭터들로 이루어진 약한 파티(ex: [[레인저(세계수의 미궁 2)|레인저]] 5명)가 수해에 입장한다.\n",
      " 1. 필드 전투를 회피하면서 채집 포인트에 도착해 열심히 아이템을 캐는 중에...\n",
      " 1. '''!!아앗!!''' ~~라플레시아가 나타났다!~~\n",
      " '''이때 등장하는 것은 [[FOE(세계수의 미궁 시리즈)|FOE]]는 아닌 일단 필드 졸개지만, 훨씬 위 층에 등장하는 강력한 졸개이며 선 턴을 빼앗긴다!'''\n",
      " 1. '''[[으앙 죽음|떡잎]]'''(hage)\n",
      "\n",
      "작품마다 !!아앗!!의 세세한 모습은 다르다. 그 악랄함은 첫 등장한 작품이자 시리즈 중에서도 불친절하기로 정평이 난 2편이 절정이었는데, 그야말로 위의 !!아앗!! 시퀀스 그대로, 묻지도 따지지도 않고 채집할 때마다 일정 확률로 '''강제로''' 전투에 돌입해야 했다. 게다가 이럴 때 쓰라고 있는 레인저의 스킬 '위험감지(중간 확률로 적의 선제공격을 무효화)'는 작동하지 않았다!\n",
      "[[세계수의 미궁 3 성해의 내방자|3편]], [[세계수의 미궁 4 전승의 거신|4편]]에는 숨통이 트이게도 채집 중 낮은 확률로 \"좋은 아이템을 얻을 수 있을 것 같지만... 주변에서 몬스터들의 기척이 느껴진다.\"는 메시지가 뜨고 이때 운이 좋으면 레어 아이템을 얻을 수 있지만 반대의 경우 적과 싸우게 되는 것으로 조정되었다. 단 4편은 움직이지 않고 채집할 때도 턴이 경과하도록 조정되었기 때문에 주변에 있는 FOE를 잊고 채집에 몰두하다가 FOE와 부딪히면 FOE 버전 !!아앗!!이 뜬다. 그리고 난이도 CASUAL로 플레이시 FOE로 인한 !!아앗!!을 제외하면 절대로 발생하지 않는다.\n",
      "[[신 세계수의 미궁 밀레니엄의 소녀|신 세계수의]] [[신 세계수의 미궁 2 파프니르기사|미궁 시리즈]], 그 이후에 나온 최신작 [[세계수의 미궁 5 오랜 신화의 끝|5편]]에서는 채집 방식이 한 턴으로 끝나는 구조[* 채집으로 한번 아이템을 획득하면 \"다시, (채집스킬)에 의해...\"가 뜨면서 한꺼번에 획득되는 구조.]로 바뀐 덕분인지 강제 조우로 다시 회귀해버렸다(...). 그나마 위험감지 먹통과 같은 버그성 난점들은 수정되었다.\n",
      "\n",
      "세계수 시스템을 기반으로 한 [[페르소나 시리즈]]와의 콜라보 작품 [[페르소나 Q 섀도우 오브 더 래버린스]]에도 물론 등장. 3, 4편과 같이 파워 스팟에서 채집 도중 메시지가 뜨고, 실패하면 파티에 참가하고 있는 멤버중 한명의 [[http://nico.ms/sm25683358|아앗! 하는 음성]]~~또는 [[고로마루|개소리]]~~과 함께 그 던전의 '강적'인 거대 섀도우가 나타난다. 그러나 내비 전용 스킬인 뱀 눈 노려보기(위험감지와 같은 효과), 채집 보조 스킬은 파티의 전투력에 전혀 지장을 주지 않고, '대안심'을 달면 거의 볼 일이 없어져서 초중반 이후 존재감이 급격히 줄어든다.\n",
      "\n",
      "여담으로, 2편에서 채집 도중 !!아앗!!이 뜰 확률은 [[http://www.atlusnet.jp/topic/detail/910|고작 1%였다고 한다.]] 낮아보이는 확률이어도 플레이 중 한번이라도 일어나는 것을 경험하는 체감 확률을 고려해서 확률을 설정한다고.\n",
      "\n",
      "그 기원은 1인칭 던전 크롤러의 원조 [[위저드리]]에서 함정을 건드렸을 때 나오는 대사 Oops!(おおっと！)라고 한다.\n",
      "\n",
      "[[분류:세계수의 미궁 시리즈]]\n",
      "\n",
      "“……”\n",
      " * 상위 문서: [[개그 콘서트/종영 코너]]\n",
      "[include(틀:다른 뜻1, other1=말줄임표 등으로 사용하는 용어, rd1=(...))]\n",
      "\n",
      "||<tablebordercolor=#878787><tablealign=right> '''코너명''' || “……” ||\n",
      "|| '''시작''' || [[2013년]] [[5월 26일]] ||\n",
      "|| '''종료''' || 2013년 [[10월 13일]] ||\n",
      "|| '''출연진''' || [[유민상#s-1|유민상]], [[김희원]], [[송필근]], [[남궁경호]] ||\n",
      "|| '''유행어''' || XX는 더 이상합니다[* 어색한 상황을 수습해보려는 변명이 더 안 좋은 결과를 낼 때 나오는 말.] ||\n",
      "\n",
      "[목차]\n",
      "\n",
      "== 소개 ==\n",
      "--[[나는 킬러다|2년 뒤에는 사위가 장인을 죽이려 한다]].--\n",
      "\n",
      "'''진짜로 코너 [[이름]]이 ([[말풍선]])“……”[* 큰 따옴표도 포함된다.]이다'''. 언론에서는 이 코너를 언급할 때 '점점점' 또는 '점점점점점점'이라는 표현을 사용했다. 코너명의 유래는 흔히 쓰이는 [[...|말줄임표]]. 2013년 5월 26일부터 방송되었고 [[김희원]], 남궁경호, [[유민상#s-1|유민상]], [[송필근]]이 출연했다.\n",
      "\n",
      "남자친구(남궁경호)와 여자친구(김희원)의 아버지(유민상) 간의 어색함을 다룬 코미디. 코너 초창기에는 남자친구 역인 남궁경호의 비중이 높았고 송필근은 배달부나 이웃주민 등 조연 역할이었으나, 송필근이 남궁경호의 아버지 역할(즉 유민상과 사돈관계) 컨셉으로 고정되면서 남궁경호의 비중이 줄어들고, 심지어 아예 등장하지 않는 회차도 간간히 있다. 사실상 유민상과 송필근의 투톱 체제로 나간다. 따라서 그 이후로는 주로 사돈 간의 어색함을 다루고 있다. 3인(혹은 4인)이 있다가 여자친구(혹은 경호-희원 커플)가 자리를 비우면 남은 두 사람은 어색해 하면서 아무 말 없이 중간중간 몇 마디 말만 던지고 다시 조용한 분위기가 되는 것이 주된 패턴이다. 자리마다 항상 큰 괘종시계가 있어서 아무 말 없을 때마다 째깍째깍 소리가 나는 것이 웃음 포인트. 유민상이 사돈어른(송필근)이 찾아오기 전에 집안에 있는 괘종시계를 미리 치워버린 에피소드도 있었는데, 사돈어른이 선물로 벽시계를 사오면서 어색한 상황에서 째깍째깍 소리가 나게 되었다.\n",
      "\n",
      "중간에 제 3자(송필근)가 끼어들며 남자친구가 자리를 비우면 제 3자와 아버지 간에도 사이가 어색해진다. 6화(2013년 6월 30일 방송분)부터 송필근은 주로 유민상의 사돈어른 役을 맡고 있다. 그 외에도 간혹 김희원의 오빠 역할 등 다른 역할을 한다. 대화가 없는 상황을 보여주기도 하고, 어떤 사람은 대화가 별로 없는 현대 사회를 보여주기도 한다고 해석한다.\n",
      "\n",
      "김희원은 유일하게 어색해하지 않게 붙임성있게 말 잘 하지만, 대신 [[눈새|눈치가 없다]]. 그리고 그녀의 눈치 없는 말로 주변은 더 어색해진다.\n",
      "\n",
      "== 상세 ==\n",
      "7화(2013년 7월 14일 방송분)에서는 사돈어른이 [[2PM]] 춤 추다가 입원해서 놀림당했는데 건너편에 [[미라]]처럼 깁스를 하고 있던 유인석이 한 손을 뻗어 심장박동을 시전했다. ~~캔 유 필 마 핫빗?~~ 그리고 아빠와 딸이 모두 [[박카스|박X스]]를 한 '''[[박스]]'''씩 사왔는데, 병실 장롱에 '''[[박카스|박X스]]가 한가득''' 들어있었다. 유민상이 병문안 때는 [[박카스|박X스]]를 사가는 것이 좋다고 생각했는데, 알고보니 전에 병문안 왔던 사람들도 같은 생각을 했던 것.\n",
      "\n",
      "9화(2013년 7월 28일 방송분)에서는 송필근이 김희원의 오빠 역할로 나온다. 경호-희원 커플이 유민상 몰래 괌에 갔다온 것이 들통나면서 남궁경호가 [[괌]]을 \"'''[[대전광역시|대전]] [[구암역(대전)|구]][[유성구#s-4.1.2|암]]'''(Guam)\"이라고 말하니까 유민상의 드립이\"난 '''[[몽둥이]] 괌~'''\"\n",
      "\n",
      "회가 거듭하면 거듭할수록 커플의 진도가 쭉쭉 잘 나가서 김희원이 '''[[배꼽티]]'''도 자랑했고, 11화(2013년 8월 25일 방송분)에서는 김희원이 웨딩드레스를 맞췄다.\n",
      "\n",
      "14화(2013년 9월 15일 방송분)에서는 송필근이 사돈 유민상의 아버지 희수연을 기념하고자 화환을 보냈는데, 문제는 유민상 아버지의 본명이 유[[죽빵|죽방]]이라 본인이 그 이름을 매우 싫어했다. (그래서 현수막은 \"유 할아버지\" 라고 걸려있었다.) ~~이 정도면 [[개명]]을...~~ 하지만 송필근은 그 사실을 몰랐기 때문에 예식장에 이름이 크게 적힌 화환이 배달되었으며 뒤늦게 상황을 수습한다는 게 '''[[유방(신체)|가운데 글자를 가리는 바람에]]'''...\n",
      "\n",
      "15화(2013년 9월 22일 방송분)에서는 [[정태호]]가 [[나훈아|너훈아]] 역할로 출연했다.\n",
      "\n",
      "마지막화인 17화(2013년 10월 13일 방송분)에서는 [[박은영(개그우먼)|박은영]]이 유민상과 송필근이 [[건강검진]]을 받으러 간 [[병원]]의 [[간호사]] 역할로 나왔다.[* 이날 방송분에는 직접적으로 마지막회라고 언급했더니 방청객들이 아쉬워하자 유민상이 모든 사람들에게 다 까라고 그런다.]\n",
      "\n",
      "극중에서 부자관계로 나오는 27기 남궁경호와 송필근은 동갑이자 성남예고, [[인덕대학]] 동기로 둘 다 91년생이다.\n",
      "\n",
      "[[분류:개그 콘서트 코너]]\n",
      "\n"
     ]
    }
   ],
   "source": [
    "# Article contains title, text, and other things\n",
    "# Let's extract title and text from several articles\n",
    "for i in range(3):\n",
    "    print(data[i]['title'])\n",
    "    print(data[i]['text'])\n",
    "    print()\n"
   ]
  },
  {
   "cell_type": "code",
   "execution_count": 6,
   "metadata": {},
   "outputs": [
    {
     "name": "stdout",
     "output_type": "stream",
     "text": [
      "딴 사람도 아니고 프로팀 [[Counter Logic Gaming|CLG]] 소속 전 서포터 [[스티브 차우|차우스터]]가 남긴 말이다.\n",
      "딴 사람도 아니고 프로팀 CLG 소속 전 서포터 차우스터가 남긴 말이다.\n"
     ]
    }
   ],
   "source": [
    "# Using regular expression, we can strip some grammar. Let's see how we can do it. \n",
    "import re\n",
    "text = \"딴 사람도 아니고 프로팀 [[Counter Logic Gaming|CLG]] 소속 전 서포터 [[스티브 차우|차우스터]]가 남긴 말이다.\"\n",
    "t1 = re.sub(r\"\\[\\[([^\\]|]*)\\]\\]\", r'\\1', text) # remove link\n",
    "print(t1)\n",
    "t2 = re.sub(r\"\\[\\[(?:[^\\]|]*\\|)?([^\\]|]+)\\]\\]\", r'\\1', text) # remove link\n",
    "print(t2)"
   ]
  },
  {
   "cell_type": "code",
   "execution_count": 7,
   "metadata": {
    "scrolled": true
   },
   "outputs": [
    {
     "name": "stdout",
     "output_type": "stream",
     "text": [
      "!\n",
      "\n",
      "\n",
      "\n",
      "!!아앗!!\n",
      "\n",
      "(신 세계수의 미궁 2에서 뜬 !!아앗!!)\n",
      " \n",
      "\n",
      "세계수의 미궁 시리즈에 전통으로 등장하는 대사. 2편 제왕의 성배부터 등장했으며, 훌륭한 사망 플래그의 예시이다.\n",
      "\n",
      "세계수의 모험가들이 탐험하는 던전인 수해의 구석구석에는 채취/벌채/채굴 포인트가 있으며, 이를 위한 채집 스킬에 투자하면 제한된 채집 기회에 보다 큰 이득을 챙길 수 있다. 그러나 분배할 수 있는 스킬 포인트는 한정된 만큼 채집 스킬에 투자하는 만큼 전투 스킬 레벨은 낮아지게 된다.\n",
      "\n",
      " 1. 채집용 캐릭터들로 이루어진 약한 파티(ex: 레인저 5명)가 수해에 입장한다.\n",
      " 1. 필드 전투를 회피하면서 채집 포인트에 도착해 열심히 아이템을 캐는 중에...\n",
      " 1. !!아앗!! \n",
      " 이때 등장하는 것은 FOE는 아닌 일단 필드 졸개지만, 훨씬 위 층에 등장하는 강력한 졸개이며 선 턴을 빼앗긴다!\n",
      " 1. 떡잎(hage)\n",
      "\n",
      "작품마다 !!아앗!!의 세세한 모습은 다르다. 그 악랄함은 첫 등장한 작품이자 시리즈 중에서도 불친절하기로 정평이 난 2편이 절정이었는데, 그야말로 위의 !!아앗!! 시퀀스 그대로, 묻지도 따지지도 않고 채집할 때마다 일정 확률로 강제로 전투에 돌입해야 했다. 게다가 이럴 때 쓰라고 있는 레인저의 스킬 '위험감지(중간 확률로 적의 선제공격을 무효화)'는 작동하지 않았다!\n",
      "3편, 4편에는 숨통이 트이게도 채집 중 낮은 확률로 \"좋은 아이템을 얻을 수 있을 것 같지만... 주변에서 몬스터들의 기척이 느껴진다.\"는 메시지가 뜨고 이때 운이 좋으면 레어 아이템을 얻을 수 있지만 반대의 경우 적과 싸우게 되는 것으로 조정되었다. 단 4편은 움직이지 않고 채집할 때도 턴이 경과하도록 조정되었기 때문에 주변에 있는 FOE를 잊고 채집에 몰두하다가 FOE와 부딪히면 FOE 버전 !!아앗!!이 뜬다. 그리고 난이도 CASUAL로 플레이시 FOE로 인한 !!아앗!!을 제외하면 절대로 발생하지 않는다.\n",
      "신 세계수의 미궁 시리즈, 그 이후에 나온 최신작 5편에서는 채집 방식이 한 턴으로 끝나는 구조로 바뀐 덕분인지 강제 조우로 다시 회귀해버렸다(...). 그나마 위험감지 먹통과 같은 버그성 난점들은 수정되었다.\n",
      "\n",
      "세계수 시스템을 기반으로 한 페르소나 시리즈와의 콜라보 작품 페르소나 Q 섀도우 오브 더 래버린스에도 물론 등장. 3, 4편과 같이 파워 스팟에서 채집 도중 메시지가 뜨고, 실패하면 파티에 참가하고 있는 멤버중 한명의 아앗! 하는 음성과 함께 그 던전의 '강적'인 거대 섀도우가 나타난다. 그러나 내비 전용 스킬인 뱀 눈 노려보기(위험감지와 같은 효과), 채집 보조 스킬은 파티의 전투력에 전혀 지장을 주지 않고, '대안심'을 달면 거의 볼 일이 없어져서 초중반 이후 존재감이 급격히 줄어든다.\n",
      "\n",
      "여담으로, 2편에서 채집 도중 !!아앗!!이 뜰 확률은 고작 1%였다고 한다. 낮아보이는 확률이어도 플레이 중 한번이라도 일어나는 것을 경험하는 체감 확률을 고려해서 확률을 설정한다고.\n",
      "\n",
      "그 기원은 1인칭 던전 크롤러의 원조 위저드리에서 함정을 건드렸을 때 나오는 대사 Oops!()라고 한다.\n",
      "\n",
      "\n",
      "\n"
     ]
    }
   ],
   "source": [
    "# We want only plain texts, so strip wiki grammer.\n",
    "# Refer this link to know more about grammar. https://namu.wiki/w/%EB%82%98%EB%AC%B4%EC%9C%84%ED%82%A4:%EB%AC%B8%EB%B2%95%20%EB%8F%84%EC%9B%80%EB%A7%90\n",
    "\n",
    "# Use regular expression to capture some pattern\n",
    "\n",
    "# see http://stackoverflow.com/questions/2718196/find-all-chinese-text-in-a-string-using-python-and-regex\n",
    "chinese = re.compile(u'[⺀-⺙⺛-⻳⼀-⿕々〇〡-〩〸-〺〻㐀-䶵一-鿃豈-鶴侮-頻並-龎]', re.UNICODE)\n",
    "japanese = re.compile(u'[\\u3000-\\u303f\\u3040-\\u309f\\u30a0-\\u30ff\\uff00-\\uff9f\\u4e00-\\u9faf\\u3400-\\u4dbf]', re.UNICODE)\n",
    "\n",
    "# hangul = re.compile('[^ ㄱ-ㅣ가-힣]+') # 한글과 띄어쓰기를 제외한 모든 글자\n",
    "# hangul = re.compile('[^ \\u3131-\\u3163\\uac00-\\ud7a3]+')  # 위와 동일\n",
    "# result = hangul.sub('', s) # 한글과 띄어쓰기를 제외한 모든 부분을 제거\n",
    "\n",
    "\n",
    "def strip(text):               \n",
    "    text = re.sub(r\"\\{\\{\\{#\\!html[^\\}]*\\}\\}\\}\", '', text, flags=re.IGNORECASE|re.MULTILINE|re.DOTALL) # remove html\n",
    "    text = re.sub(r\"#redirect .*\", '', text, flags=re.IGNORECASE) # remove redirect\n",
    "    text = re.sub(r\"\\[\\[분류:.*\", '', text) # remove 분류\n",
    "    text = re.sub(r\"\\[\\[파일:.*\", '', text) # remove 파일\n",
    "    text = re.sub(r\"\\* 상위 문서 ?:.*\", '', text) # remove 상위문서        \n",
    "    text = re.sub(r\"\\[youtube\\(\\w+\\)\\]\", '', text, flags=re.IGNORECASE) # remove youtube\n",
    "    text = re.sub(r\"\\[include\\(([^\\]|]*)(\\|[^]]*)?\\]\", r'\\1', text, flags=re.IGNORECASE) # remove include\n",
    "    text = re.sub(r\"\\[\\[(?:[^\\]|]*\\|)?([^\\]|]+)\\]\\]\", r'\\1', text) # remove link\n",
    "    text = re.sub(r\"\\[\\*([^\\]]*)\\]\", '', text) # remove 각주\n",
    "    text = re.sub(r\"\\{\\{\\{([^\\ }|]*) ([^\\}|]*)\\}\\}\\}\", r'\\2', text) # remove text color/size\n",
    "    text = re.sub(r\"'''([^']*)'''\", r'\\1', text) # remove text bold\n",
    "    text = re.sub(r\"(~~|--)([^']*)(~~|--)\", '', text) # remove strike-through\n",
    "    \n",
    "    text = re.sub(r\"\\|\\|(.*)\\|\\|\", '', text) # remove table\n",
    "                                   \n",
    "    text = chinese.sub('', text) # remove chinese\n",
    "    text = japanese.sub('', text) # remove japanese\n",
    "    return text\n",
    "\n",
    "for i in range(2):\n",
    "    print(data[i]['title'])\n",
    "    # print(data[i]['text'])\n",
    "    print(strip(data[i]['text']))\n",
    "    print()"
   ]
  },
  {
   "cell_type": "code",
   "execution_count": 1,
   "metadata": {
    "scrolled": true
   },
   "outputs": [
    {
     "ename": "NameError",
     "evalue": "name 'text' is not defined",
     "output_type": "error",
     "traceback": [
      "\u001b[0;31m---------------------------------------------------------------------------\u001b[0m",
      "\u001b[0;31mNameError\u001b[0m                                 Traceback (most recent call last)",
      "\u001b[0;32m<ipython-input-1-7e33d276d48a>\u001b[0m in \u001b[0;36m<module>\u001b[0;34m()\u001b[0m\n\u001b[1;32m      1\u001b[0m \u001b[0;32mwith\u001b[0m \u001b[0mopen\u001b[0m\u001b[0;34m(\u001b[0m\u001b[0;34m'namu.txt'\u001b[0m\u001b[0;34m,\u001b[0m \u001b[0;34m'w'\u001b[0m\u001b[0;34m)\u001b[0m \u001b[0;32mas\u001b[0m \u001b[0moutput\u001b[0m\u001b[0;34m:\u001b[0m\u001b[0;34m\u001b[0m\u001b[0m\n\u001b[0;32m----> 2\u001b[0;31m     \u001b[0moutput\u001b[0m\u001b[0;34m.\u001b[0m\u001b[0mwrite\u001b[0m\u001b[0;34m(\u001b[0m\u001b[0mtext\u001b[0m\u001b[0;34m.\u001b[0m\u001b[0mencode\u001b[0m\u001b[0;34m(\u001b[0m\u001b[0;34m'utf-8'\u001b[0m\u001b[0;34m,\u001b[0m\u001b[0;34m'surrogateescape'\u001b[0m\u001b[0;34m)\u001b[0m\u001b[0;34m)\u001b[0m\u001b[0;34m\u001b[0m\u001b[0m\n\u001b[0m",
      "\u001b[0;31mNameError\u001b[0m: name 'text' is not defined"
     ]
    }
   ],
   "source": [
    "with open('namu.txt', 'w') as output:\n",
    "    output.write(text.encode('utf-8','surrogateescape'))"
   ]
  },
  {
   "cell_type": "code",
   "execution_count": 19,
   "metadata": {},
   "outputs": [
    {
     "ename": "UnicodeEncodeError",
     "evalue": "'utf-8' codec can't encode characters in position 36358-36359: surrogates not allowed",
     "output_type": "error",
     "traceback": [
      "\u001b[0;31m---------------------------------------------------------------------------\u001b[0m",
      "\u001b[0;31mUnicodeEncodeError\u001b[0m                        Traceback (most recent call last)",
      "\u001b[0;32m<ipython-input-19-09604c6e5ffb>\u001b[0m in \u001b[0;36m<module>\u001b[0;34m()\u001b[0m\n\u001b[1;32m     10\u001b[0m \u001b[0;34m\u001b[0m\u001b[0m\n\u001b[1;32m     11\u001b[0m         \u001b[0mtext\u001b[0m \u001b[0;34m=\u001b[0m \u001b[0mstrip\u001b[0m\u001b[0;34m(\u001b[0m\u001b[0marticle\u001b[0m\u001b[0;34m[\u001b[0m\u001b[0;34m'text'\u001b[0m\u001b[0;34m]\u001b[0m\u001b[0;34m)\u001b[0m\u001b[0;34m\u001b[0m\u001b[0m\n\u001b[0;32m---> 12\u001b[0;31m         \u001b[0mf\u001b[0m\u001b[0;34m.\u001b[0m\u001b[0mwrite\u001b[0m\u001b[0;34m(\u001b[0m\u001b[0;34m\"%s\\n%s\\n\\n\\n\"\u001b[0m \u001b[0;34m%\u001b[0m \u001b[0;34m(\u001b[0m\u001b[0marticle\u001b[0m\u001b[0;34m[\u001b[0m\u001b[0;34m'title'\u001b[0m\u001b[0;34m]\u001b[0m\u001b[0;34m,\u001b[0m \u001b[0mtext\u001b[0m\u001b[0;34m)\u001b[0m\u001b[0;34m)\u001b[0m\u001b[0;34m\u001b[0m\u001b[0m\n\u001b[0m\u001b[1;32m     13\u001b[0m         \u001b[0;31m# print(article['title'])\u001b[0m\u001b[0;34m\u001b[0m\u001b[0;34m\u001b[0m\u001b[0m\n\u001b[1;32m     14\u001b[0m         \u001b[0;31m# print(article['text'])\u001b[0m\u001b[0;34m\u001b[0m\u001b[0;34m\u001b[0m\u001b[0m\n",
      "\u001b[0;31mUnicodeEncodeError\u001b[0m: 'utf-8' codec can't encode characters in position 36358-36359: surrogates not allowed"
     ]
    }
   ],
   "source": [
    "# Generate raw text corpus\n",
    "\n",
    "MIN_TEXT_SIZE = 5000\n",
    "\n",
    "count = 10\n",
    "with open('input.txt', 'w') as f:\n",
    "    for article in data:\n",
    "        if len(article['text']) < MIN_TEXT_SIZE or len(article['text']) >= MAX_ARTICLE_SIZE:        \n",
    "            continue # skip too small, too large articles\n",
    "\n",
    "        text = strip(article['text'])\n",
    "        f.write(\"%s\\n%s\\n\\n\\n\" % (article['title'], text))\n",
    "        # print(article['title'])\n",
    "        # print(article['text'])\n",
    "        # print(text)"
   ]
  }
 ],
 "metadata": {
  "kernelspec": {
   "display_name": "Python 3",
   "language": "python",
   "name": "python3"
  },
  "language_info": {
   "codemirror_mode": {
    "name": "ipython",
    "version": 3
   },
   "file_extension": ".py",
   "mimetype": "text/x-python",
   "name": "python",
   "nbconvert_exporter": "python",
   "pygments_lexer": "ipython3",
   "version": "3.6.5"
  }
 },
 "nbformat": 4,
 "nbformat_minor": 2
}
