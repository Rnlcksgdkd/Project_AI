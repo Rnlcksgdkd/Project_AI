{
  "nbformat": 4,
  "nbformat_minor": 0,
  "metadata": {
    "accelerator": "GPU",
    "colab": {
      "name": "003_Modeling_okt_Attention.ipynb",
      "provenance": []
    },
    "kernelspec": {
      "display_name": "Python 3",
      "name": "python3"
    },
    "language_info": {
      "name": "python"
    }
  },
  "cells": [
    {
      "cell_type": "code",
      "metadata": {
        "id": "Er1_i66O4OkV"
      },
      "source": [
        "import warnings\n",
        "warnings.filterwarnings('ignore')"
      ],
      "execution_count": null,
      "outputs": []
    },
    {
      "cell_type": "code",
      "metadata": {
        "id": "1uDWFIyA4ghb"
      },
      "source": [
        "import pandas as pd\n",
        "import matplotlib.pyplot as plt\n",
        "import re\n",
        "import numpy as np\n",
        "import os"
      ],
      "execution_count": null,
      "outputs": []
    },
    {
      "cell_type": "code",
      "metadata": {
        "colab": {
          "base_uri": "https://localhost:8080/"
        },
        "id": "NouMHyNP4lRs",
        "outputId": "92dad034-d248-40ea-f715-b1743ac1ec16"
      },
      "source": [
        "!pip install konlpy"
      ],
      "execution_count": null,
      "outputs": [
        {
          "output_type": "stream",
          "text": [
            "Requirement already satisfied: konlpy in /usr/local/lib/python3.7/dist-packages (0.5.2)\n",
            "Requirement already satisfied: JPype1>=0.7.0 in /usr/local/lib/python3.7/dist-packages (from konlpy) (1.2.1)\n",
            "Requirement already satisfied: colorama in /usr/local/lib/python3.7/dist-packages (from konlpy) (0.4.4)\n",
            "Requirement already satisfied: beautifulsoup4==4.6.0 in /usr/local/lib/python3.7/dist-packages (from konlpy) (4.6.0)\n",
            "Requirement already satisfied: numpy>=1.6 in /usr/local/lib/python3.7/dist-packages (from konlpy) (1.19.5)\n",
            "Requirement already satisfied: tweepy>=3.7.0 in /usr/local/lib/python3.7/dist-packages (from konlpy) (3.10.0)\n",
            "Requirement already satisfied: lxml>=4.1.0 in /usr/local/lib/python3.7/dist-packages (from konlpy) (4.2.6)\n",
            "Requirement already satisfied: typing-extensions; python_version < \"3.8\" in /usr/local/lib/python3.7/dist-packages (from JPype1>=0.7.0->konlpy) (3.7.4.3)\n",
            "Requirement already satisfied: requests[socks]>=2.11.1 in /usr/local/lib/python3.7/dist-packages (from tweepy>=3.7.0->konlpy) (2.23.0)\n",
            "Requirement already satisfied: requests-oauthlib>=0.7.0 in /usr/local/lib/python3.7/dist-packages (from tweepy>=3.7.0->konlpy) (1.3.0)\n",
            "Requirement already satisfied: six>=1.10.0 in /usr/local/lib/python3.7/dist-packages (from tweepy>=3.7.0->konlpy) (1.15.0)\n",
            "Requirement already satisfied: urllib3!=1.25.0,!=1.25.1,<1.26,>=1.21.1 in /usr/local/lib/python3.7/dist-packages (from requests[socks]>=2.11.1->tweepy>=3.7.0->konlpy) (1.24.3)\n",
            "Requirement already satisfied: idna<3,>=2.5 in /usr/local/lib/python3.7/dist-packages (from requests[socks]>=2.11.1->tweepy>=3.7.0->konlpy) (2.10)\n",
            "Requirement already satisfied: chardet<4,>=3.0.2 in /usr/local/lib/python3.7/dist-packages (from requests[socks]>=2.11.1->tweepy>=3.7.0->konlpy) (3.0.4)\n",
            "Requirement already satisfied: certifi>=2017.4.17 in /usr/local/lib/python3.7/dist-packages (from requests[socks]>=2.11.1->tweepy>=3.7.0->konlpy) (2020.12.5)\n",
            "Requirement already satisfied: PySocks!=1.5.7,>=1.5.6; extra == \"socks\" in /usr/local/lib/python3.7/dist-packages (from requests[socks]>=2.11.1->tweepy>=3.7.0->konlpy) (1.7.1)\n",
            "Requirement already satisfied: oauthlib>=3.0.0 in /usr/local/lib/python3.7/dist-packages (from requests-oauthlib>=0.7.0->tweepy>=3.7.0->konlpy) (3.1.0)\n"
          ],
          "name": "stdout"
        }
      ]
    },
    {
      "cell_type": "code",
      "metadata": {
        "id": "FmYcBRhY4m3e"
      },
      "source": [
        "from konlpy.tag import Okt\n",
        "from gensim.models import Word2Vec, KeyedVectors"
      ],
      "execution_count": null,
      "outputs": []
    },
    {
      "cell_type": "code",
      "metadata": {
        "id": "8yluONGi5pjH"
      },
      "source": [
        "import tensorflow as tf"
      ],
      "execution_count": null,
      "outputs": []
    },
    {
      "cell_type": "code",
      "metadata": {
        "id": "pda8I4Qy4oke"
      },
      "source": [
        "import keras\n",
        "from keras.preprocessing.text import Tokenizer\n",
        "from keras.preprocessing.sequence import pad_sequences\n",
        "from keras.models import Sequential\n",
        "from keras import models, Input, Model\n",
        "from keras import optimizers\n",
        "from keras.layers import Dense, Embedding, LSTM, Bidirectional, Concatenate, Dropout"
      ],
      "execution_count": null,
      "outputs": []
    },
    {
      "cell_type": "code",
      "metadata": {
        "id": "p3vOlxAp4ryJ"
      },
      "source": [
        "from sklearn.model_selection import train_test_split"
      ],
      "execution_count": null,
      "outputs": []
    },
    {
      "cell_type": "markdown",
      "metadata": {
        "id": "OKBzbWnW4t0m"
      },
      "source": [
        "## 1. Data Load"
      ]
    },
    {
      "cell_type": "code",
      "metadata": {
        "colab": {
          "base_uri": "https://localhost:8080/",
          "height": 204
        },
        "id": "PBgxIaXA4tNC",
        "outputId": "8e4edd8e-228f-4b48-85a5-4fe9125a5aa0"
      },
      "source": [
        "url = \"https://raw.githubusercontent.com/Kwang-wan/Project_AI/main/data/Trash_Comment.csv\"\n",
        "\n",
        "data = pd.read_csv(url)\n",
        "\n",
        "data.head()"
      ],
      "execution_count": null,
      "outputs": [
        {
          "output_type": "execute_result",
          "data": {
            "text/html": [
              "<div>\n",
              "<style scoped>\n",
              "    .dataframe tbody tr th:only-of-type {\n",
              "        vertical-align: middle;\n",
              "    }\n",
              "\n",
              "    .dataframe tbody tr th {\n",
              "        vertical-align: top;\n",
              "    }\n",
              "\n",
              "    .dataframe thead th {\n",
              "        text-align: right;\n",
              "    }\n",
              "</style>\n",
              "<table border=\"1\" class=\"dataframe\">\n",
              "  <thead>\n",
              "    <tr style=\"text-align: right;\">\n",
              "      <th></th>\n",
              "      <th>text</th>\n",
              "      <th>label</th>\n",
              "    </tr>\n",
              "  </thead>\n",
              "  <tbody>\n",
              "    <tr>\n",
              "      <th>0</th>\n",
              "      <td>이종석 한효주 나오는 드라마 이후로 드라마 안봤다. 2년전인가?? 좀 신선했었지. ...</td>\n",
              "      <td>1</td>\n",
              "    </tr>\n",
              "    <tr>\n",
              "      <th>1</th>\n",
              "      <td>씨바알..노무노무 술프노... 오늘 저녁은 꽂등심이다ㅠㅜ</td>\n",
              "      <td>1</td>\n",
              "    </tr>\n",
              "    <tr>\n",
              "      <th>2</th>\n",
              "      <td>짱깨 꺼라ㅡ패쓰</td>\n",
              "      <td>1</td>\n",
              "    </tr>\n",
              "    <tr>\n",
              "      <th>3</th>\n",
              "      <td>그들의 사생활 ~ 고인이된 설리를 위해서라도 모두 조용하길 지금 누굴 탓한다고 무슨...</td>\n",
              "      <td>0</td>\n",
              "    </tr>\n",
              "    <tr>\n",
              "      <th>4</th>\n",
              "      <td>아무리 법이 뭣같아도 무슨 자격으로 개인의 신상정보를 불특정 다수에게 공개하는지 도...</td>\n",
              "      <td>0</td>\n",
              "    </tr>\n",
              "  </tbody>\n",
              "</table>\n",
              "</div>"
            ],
            "text/plain": [
              "                                                text  label\n",
              "0  이종석 한효주 나오는 드라마 이후로 드라마 안봤다. 2년전인가?? 좀 신선했었지. ...      1\n",
              "1                    씨바알..노무노무 술프노... 오늘 저녁은 꽂등심이다ㅠㅜ      1\n",
              "2                                           짱깨 꺼라ㅡ패쓰      1\n",
              "3  그들의 사생활 ~ 고인이된 설리를 위해서라도 모두 조용하길 지금 누굴 탓한다고 무슨...      0\n",
              "4  아무리 법이 뭣같아도 무슨 자격으로 개인의 신상정보를 불특정 다수에게 공개하는지 도...      0"
            ]
          },
          "metadata": {
            "tags": []
          },
          "execution_count": 8
        }
      ]
    },
    {
      "cell_type": "code",
      "metadata": {
        "colab": {
          "base_uri": "https://localhost:8080/"
        },
        "id": "maa9I1mT4wPW",
        "outputId": "9ec7dae4-bb7c-420f-d21b-829fab2154d6"
      },
      "source": [
        "data.info()"
      ],
      "execution_count": null,
      "outputs": [
        {
          "output_type": "stream",
          "text": [
            "<class 'pandas.core.frame.DataFrame'>\n",
            "RangeIndex: 23721 entries, 0 to 23720\n",
            "Data columns (total 2 columns):\n",
            " #   Column  Non-Null Count  Dtype \n",
            "---  ------  --------------  ----- \n",
            " 0   text    23721 non-null  object\n",
            " 1   label   23721 non-null  int64 \n",
            "dtypes: int64(1), object(1)\n",
            "memory usage: 370.8+ KB\n"
          ],
          "name": "stdout"
        }
      ]
    },
    {
      "cell_type": "markdown",
      "metadata": {
        "id": "Km5K4bK84y20"
      },
      "source": [
        "## 2. Data Cleansing"
      ]
    },
    {
      "cell_type": "code",
      "metadata": {
        "id": "uLICZSzI4xeS"
      },
      "source": [
        "def clean(data) :\n",
        "  data['text'] = data['text'].str.replace(\"[^가-힣A-Za-z0-9(),!?\\'\\`]\" , \" \")\n",
        "  data['text'] = data['text'].str.replace(\",\" , \" , \")  \n",
        "  data['text'] = data['text'].str.replace(\"!\" , \" ! \")\n",
        "  data['text'] = data['text'].str.replace(\"\\(\" , \" \\( \") \n",
        "  data['text'] = data['text'].str.replace(\"\\)\" , \" \\) \")\n",
        "  data['text'] = data['text'].str.replace(\"?\" , \" ? \")   \n",
        "  data['text'] = data['text'].str.replace(\"\\s{2,}\" , \" \")  \n",
        "  data['text'] = data['text'].str.replace(\"\\'{2,}\" , \"\\'\")  \n",
        "  data['text'] = data['text'].str.replace(\"\\'\" , \"\")  "
      ],
      "execution_count": null,
      "outputs": []
    },
    {
      "cell_type": "code",
      "metadata": {
        "id": "DhBEpx--42RE"
      },
      "source": [
        "clean(data)"
      ],
      "execution_count": null,
      "outputs": []
    },
    {
      "cell_type": "code",
      "metadata": {
        "colab": {
          "base_uri": "https://localhost:8080/",
          "height": 204
        },
        "id": "Nx0mRhf543WD",
        "outputId": "a1fb11d0-9469-4c8c-e606-ece2cfb78359"
      },
      "source": [
        "data.head()"
      ],
      "execution_count": null,
      "outputs": [
        {
          "output_type": "execute_result",
          "data": {
            "text/html": [
              "<div>\n",
              "<style scoped>\n",
              "    .dataframe tbody tr th:only-of-type {\n",
              "        vertical-align: middle;\n",
              "    }\n",
              "\n",
              "    .dataframe tbody tr th {\n",
              "        vertical-align: top;\n",
              "    }\n",
              "\n",
              "    .dataframe thead th {\n",
              "        text-align: right;\n",
              "    }\n",
              "</style>\n",
              "<table border=\"1\" class=\"dataframe\">\n",
              "  <thead>\n",
              "    <tr style=\"text-align: right;\">\n",
              "      <th></th>\n",
              "      <th>text</th>\n",
              "      <th>label</th>\n",
              "    </tr>\n",
              "  </thead>\n",
              "  <tbody>\n",
              "    <tr>\n",
              "      <th>0</th>\n",
              "      <td>이종석 한효주 나오는 드라마 이후로 드라마 안봤다 2년전인가 ? ? 좀 신선했었지 ...</td>\n",
              "      <td>1</td>\n",
              "    </tr>\n",
              "    <tr>\n",
              "      <th>1</th>\n",
              "      <td>씨바알 노무노무 술프노 오늘 저녁은 꽂등심이다</td>\n",
              "      <td>1</td>\n",
              "    </tr>\n",
              "    <tr>\n",
              "      <th>2</th>\n",
              "      <td>짱깨 꺼라 패쓰</td>\n",
              "      <td>1</td>\n",
              "    </tr>\n",
              "    <tr>\n",
              "      <th>3</th>\n",
              "      <td>그들의 사생활 고인이된 설리를 위해서라도 모두 조용하길 지금 누굴 탓한다고 무슨소용...</td>\n",
              "      <td>0</td>\n",
              "    </tr>\n",
              "    <tr>\n",
              "      <th>4</th>\n",
              "      <td>아무리 법이 뭣같아도 무슨 자격으로 개인의 신상정보를 불특정 다수에게 공개하는지 도...</td>\n",
              "      <td>0</td>\n",
              "    </tr>\n",
              "  </tbody>\n",
              "</table>\n",
              "</div>"
            ],
            "text/plain": [
              "                                                text  label\n",
              "0  이종석 한효주 나오는 드라마 이후로 드라마 안봤다 2년전인가 ? ? 좀 신선했었지 ...      1\n",
              "1                         씨바알 노무노무 술프노 오늘 저녁은 꽂등심이다       1\n",
              "2                                           짱깨 꺼라 패쓰      1\n",
              "3  그들의 사생활 고인이된 설리를 위해서라도 모두 조용하길 지금 누굴 탓한다고 무슨소용...      0\n",
              "4  아무리 법이 뭣같아도 무슨 자격으로 개인의 신상정보를 불특정 다수에게 공개하는지 도...      0"
            ]
          },
          "metadata": {
            "tags": []
          },
          "execution_count": 12
        }
      ]
    },
    {
      "cell_type": "code",
      "metadata": {
        "id": "3qSbhLHT44SX"
      },
      "source": [
        "stopwords = ['의', '가', '이', '은', '들', '는',\n",
        "             '좀', '잘', '걍', '과', '도',\n",
        "             '를', '으로', '자', '에', '와', '한', '하다']"
      ],
      "execution_count": null,
      "outputs": []
    },
    {
      "cell_type": "markdown",
      "metadata": {
        "id": "5-87HJ4746-E"
      },
      "source": [
        "### 2) 토큰화, 불용어 제거"
      ]
    },
    {
      "cell_type": "code",
      "metadata": {
        "colab": {
          "base_uri": "https://localhost:8080/"
        },
        "id": "PrfX05yA4583",
        "outputId": "03848964-94f8-4c5d-e90b-f32dbddb2bdd"
      },
      "source": [
        "%%time\n",
        "\n",
        "okt = Okt()\n",
        "tokenized_data = []\n",
        "\n",
        "for sentence in data['text'] :\n",
        "  temp_X = okt.morphs(sentence, stem = True) # 토큰화(형태소 별로 나눠짐)\n",
        "  temp_X = [word for word in temp_X if not word in stopwords] # 불용어 제거\n",
        "  tokenized_data.append(temp_X)"
      ],
      "execution_count": null,
      "outputs": [
        {
          "output_type": "stream",
          "text": [
            "CPU times: user 1min 30s, sys: 998 ms, total: 1min 31s\n",
            "Wall time: 1min 17s\n"
          ],
          "name": "stdout"
        }
      ]
    },
    {
      "cell_type": "code",
      "metadata": {
        "colab": {
          "base_uri": "https://localhost:8080/"
        },
        "id": "9mDD3BKO49pZ",
        "outputId": "2b6e622f-19c7-43d7-f9b7-1c12ab390a4b"
      },
      "source": [
        "for i in range(5):\n",
        "  print(tokenized_data[i])"
      ],
      "execution_count": null,
      "outputs": [
        {
          "output_type": "stream",
          "text": [
            "['이종석', '한효주', '나오다', '드라마', '이후', '로', '드라마', '안', '보다', '2년', '전인가', '?', '?', '신선하다', '근데', '이렇다', '개막', '장', '드라마', '도대체', '누가', '보다', '면', '변태', '보다', '것', '이다', '정상', '적', '인', '사람', '채널', '을', '돌리다', '되다']\n",
            "['씨', '바알', '노무', '노무', '술프노', '오늘', '저녁', '꽂다', '등심', '이다']\n",
            "['짱깨', '끄다', '패쓰']\n",
            "['그', '사생활', '고인', '되다', '설리', '위', '모두', '조용하다', '지금', '누굴', '탓', '무슨', '소', '용이', '있다']\n",
            "['아무리', '법', '뭣같아', '무슨', '자격', '개인', '신상', '정보', '불', '특정', '다수', '에게', '공개', '도저히', '이해', '안되다', '법', '을', '바꾸다', '위해', '노력', '저런', '능력', '불법', '적', '인', '일', '을', '공공', '이익', '포장', '말다']\n"
          ],
          "name": "stdout"
        }
      ]
    },
    {
      "cell_type": "markdown",
      "metadata": {
        "id": "YaGDiZwV4_m1"
      },
      "source": [
        "### 3) 리뷰 길이 확인"
      ]
    },
    {
      "cell_type": "code",
      "metadata": {
        "colab": {
          "base_uri": "https://localhost:8080/"
        },
        "id": "oHY71wN44-_B",
        "outputId": "65569691-1569-4be6-e2ee-c8d91c6cf46c"
      },
      "source": [
        "print('댓글 최대 길이: ' , max(len(l) for l in tokenized_data))\n",
        "print('댓글 평균 길이: ' , sum(map(len, tokenized_data))/len(tokenized_data))"
      ],
      "execution_count": null,
      "outputs": [
        {
          "output_type": "stream",
          "text": [
            "댓글 최대 길이:  408\n",
            "댓글 평균 길이:  12.529868049407698\n"
          ],
          "name": "stdout"
        }
      ]
    },
    {
      "cell_type": "code",
      "metadata": {
        "colab": {
          "base_uri": "https://localhost:8080/",
          "height": 279
        },
        "id": "xD-W0dQO5C01",
        "outputId": "fee14344-e8a1-4d59-e45d-30d2c03d4f15"
      },
      "source": [
        "plt.hist([len(f) for f in tokenized_data] , bins = 50)\n",
        "plt.xlabel('length of samples')\n",
        "plt.ylabel('number of samples')\n",
        "plt.show()"
      ],
      "execution_count": null,
      "outputs": [
        {
          "output_type": "display_data",
          "data": {
            "image/png": "[encoded data removed]",
            "text/plain": [
              "<Figure size 432x288 with 1 Axes>"
            ]
          },
          "metadata": {
            "tags": []
          }
        }
      ]
    },
    {
      "cell_type": "markdown",
      "metadata": {
        "id": "4xOXce6Y5S2i"
      },
      "source": [
        "## 4) 50단어 이하로 길이 제한, 패딩"
      ]
    },
    {
      "cell_type": "code",
      "metadata": {
        "colab": {
          "base_uri": "https://localhost:8080/"
        },
        "id": "tY0qSmb65ENd",
        "outputId": "e7275fe5-c046-46bd-a4d5-4de92dd124c0"
      },
      "source": [
        "sentences_new = []\n",
        "\n",
        "for sentence in tokenized_data:\n",
        "  sentences_new.append([word for word in sentence][:50])\n",
        "\n",
        "tokenized_data = sentences_new\n",
        "\n",
        "for i in range(5) :\n",
        "  print(tokenized_data[i]) "
      ],
      "execution_count": null,
      "outputs": [
        {
          "output_type": "stream",
          "text": [
            "['이종석', '한효주', '나오다', '드라마', '이후', '로', '드라마', '안', '보다', '2년', '전인가', '?', '?', '신선하다', '근데', '이렇다', '개막', '장', '드라마', '도대체', '누가', '보다', '면', '변태', '보다', '것', '이다', '정상', '적', '인', '사람', '채널', '을', '돌리다', '되다']\n",
            "['씨', '바알', '노무', '노무', '술프노', '오늘', '저녁', '꽂다', '등심', '이다']\n",
            "['짱깨', '끄다', '패쓰']\n",
            "['그', '사생활', '고인', '되다', '설리', '위', '모두', '조용하다', '지금', '누굴', '탓', '무슨', '소', '용이', '있다']\n",
            "['아무리', '법', '뭣같아', '무슨', '자격', '개인', '신상', '정보', '불', '특정', '다수', '에게', '공개', '도저히', '이해', '안되다', '법', '을', '바꾸다', '위해', '노력', '저런', '능력', '불법', '적', '인', '일', '을', '공공', '이익', '포장', '말다']\n"
          ],
          "name": "stdout"
        }
      ]
    },
    {
      "cell_type": "code",
      "metadata": {
        "colab": {
          "base_uri": "https://localhost:8080/"
        },
        "id": "TFPbGD425WTc",
        "outputId": "8d7e5afc-85aa-43c3-e6ce-a463843f45bc"
      },
      "source": [
        "%%time\n",
        "\n",
        "tokenizer = Tokenizer(num_words = 20000)\n",
        "tokenizer.fit_on_texts(tokenized_data)\n",
        "\n",
        "X = tokenizer.texts_to_sequences(tokenized_data)\n",
        "X = pad_sequences(X)\n",
        "\n",
        "print(X[:5])"
      ],
      "execution_count": null,
      "outputs": [
        {
          "output_type": "stream",
          "text": [
            "[[    0     0     0     0     0     0     0     0     0     0     0     0\n",
            "      0     0     0  2226  1606    26   101   785    12   101    11     3\n",
            "   1223  6337     1     1  2016    87    90  3943   493   101   647   200\n",
            "      3    52  2927     3    60    17   772    55    49    16   847     4\n",
            "    516     8]\n",
            " [    0     0     0     0     0     0     0     0     0     0     0     0\n",
            "      0     0     0     0     0     0     0     0     0     0     0     0\n",
            "      0     0     0     0     0     0     0     0     0     0     0     0\n",
            "      0     0     0     0    80  6338  1518  1518  9319   280  2734  2227\n",
            "   9320    17]\n",
            " [    0     0     0     0     0     0     0     0     0     0     0     0\n",
            "      0     0     0     0     0     0     0     0     0     0     0     0\n",
            "      0     0     0     0     0     0     0     0     0     0     0     0\n",
            "      0     0     0     0     0     0     0     0     0     0     0   553\n",
            "    141  9321]\n",
            " [    0     0     0     0     0     0     0     0     0     0     0     0\n",
            "      0     0     0     0     0     0     0     0     0     0     0     0\n",
            "      0     0     0     0     0     0     0     0     0     0     0    29\n",
            "   1470   806     8   389   237   689   577   114  2017   743   112   730\n",
            "   3646     6]\n",
            " [    0     0     0     0     0     0     0     0     0     0     0     0\n",
            "      0     0     0     0     0     0   465   554 14377   112  2018   568\n",
            "   2330  1196  1068  4339  2735   202   487  2593   161    95   554     4\n",
            "    546   668   517   150   547  1000    55    49    73     4  3352  3132\n",
            "   2019   183]]\n",
            "CPU times: user 646 ms, sys: 9 ms, total: 655 ms\n",
            "Wall time: 662 ms\n"
          ],
          "name": "stdout"
        }
      ]
    },
    {
      "cell_type": "markdown",
      "metadata": {
        "id": "QaZg57gG5cco"
      },
      "source": [
        "## 4. X, y split"
      ]
    },
    {
      "cell_type": "code",
      "metadata": {
        "colab": {
          "base_uri": "https://localhost:8080/"
        },
        "id": "iVEDoqkU5a4w",
        "outputId": "219efaa3-1160-4bdc-882a-358bc162c573"
      },
      "source": [
        "X.shape"
      ],
      "execution_count": null,
      "outputs": [
        {
          "output_type": "execute_result",
          "data": {
            "text/plain": [
              "(23721, 50)"
            ]
          },
          "metadata": {
            "tags": []
          },
          "execution_count": 21
        }
      ]
    },
    {
      "cell_type": "code",
      "metadata": {
        "colab": {
          "base_uri": "https://localhost:8080/"
        },
        "id": "1bqJ99Z15g7P",
        "outputId": "87339cae-4240-4c83-edef-2e9aeb6178b0"
      },
      "source": [
        "y = np.array([[label] for label in data['label']])\n",
        "\n",
        "y.shape"
      ],
      "execution_count": null,
      "outputs": [
        {
          "output_type": "execute_result",
          "data": {
            "text/plain": [
              "(23721, 1)"
            ]
          },
          "metadata": {
            "tags": []
          },
          "execution_count": 22
        }
      ]
    },
    {
      "cell_type": "code",
      "metadata": {
        "colab": {
          "base_uri": "https://localhost:8080/"
        },
        "id": "eqtlz_5i5iIH",
        "outputId": "ae243c5b-baa9-4550-b0f2-c68205273401"
      },
      "source": [
        "X_train, X_test, y_train, y_test = train_test_split(X, y,\n",
        "                                                    test_size = .2,\n",
        "                                                    random_state = 2046)\n",
        "\n",
        "X_train.shape, X_test.shape, y_train.shape, y_test.shape"
      ],
      "execution_count": null,
      "outputs": [
        {
          "output_type": "execute_result",
          "data": {
            "text/plain": [
              "((18976, 50), (4745, 50), (18976, 1), (4745, 1))"
            ]
          },
          "metadata": {
            "tags": []
          },
          "execution_count": 23
        }
      ]
    },
    {
      "cell_type": "markdown",
      "metadata": {
        "id": "30UZBOkU5kf7"
      },
      "source": [
        "## 5. Modeling\n",
        "- query shape: (batch_size, hidden size)\n",
        "- hidden_with_time_axis shape: (batch_size, 1, hidden size)\n",
        "- score shape: (batch_size, max_length, 1)\n",
        "- attention_weight shape: (batch_size, max_length, 1)\n"
      ]
    },
    {
      "cell_type": "code",
      "metadata": {
        "id": "Z2TsiDAG5jfn"
      },
      "source": [
        "class BahdanauAttention(keras.Model):\n",
        "  def __init__(self, units):\n",
        "    super(BahdanauAttention, self).__init__()\n",
        "    self.W1 = Dense(units)\n",
        "    self.W2 = Dense(units)\n",
        "    self.V = Dense(1)\n",
        "\n",
        "  def call(self, values, query):\n",
        "    hidden_with_time_axis = tf.expand_dims(query, 1)\n",
        "    score = self.V(tf.nn.tanh(\n",
        "        self.W1(values) + self.W2(hidden_with_time_axis)))\n",
        "    \n",
        "    attention_weights = tf.nn.softmax(score, axis = 1)\n",
        "\n",
        "    context_vector = attention_weights * values\n",
        "    contect_vector = tf.reduce_sum(context_vector, axis = 1)\n",
        "\n",
        "    return context_vector, attention_weights"
      ],
      "execution_count": null,
      "outputs": []
    },
    {
      "cell_type": "markdown",
      "metadata": {
        "id": "X672Apuk7dEd"
      },
      "source": [
        "### 1) 입력층과 임베딩층 설계"
      ]
    },
    {
      "cell_type": "code",
      "metadata": {
        "id": "s5-3yXmp669n"
      },
      "source": [
        "sequence_input = Input(shape = (50, ), dtype = 'int32')\n",
        "embedded_sequences = Embedding(20000, 256,\n",
        "                               input_length = 50,\n",
        "                               mask_zero = True)(sequence_input)"
      ],
      "execution_count": null,
      "outputs": []
    },
    {
      "cell_type": "markdown",
      "metadata": {
        "id": "tTH_TPfk75DK"
      },
      "source": [
        "- 첫번째 양방향 LSTM 층"
      ]
    },
    {
      "cell_type": "code",
      "metadata": {
        "id": "YaR2LaiS78YB"
      },
      "source": [
        "lstm = Bidirectional(\n",
        "    LSTM(128, dropout = 0.5, return_sequences = True))(embedded_sequences)"
      ],
      "execution_count": null,
      "outputs": []
    },
    {
      "cell_type": "markdown",
      "metadata": {
        "id": "uvZiowkf8JtQ"
      },
      "source": [
        "- 두번째 양방향 LSTM 층"
      ]
    },
    {
      "cell_type": "code",
      "metadata": {
        "id": "B4JtNhXB8JJZ"
      },
      "source": [
        "lstm, forward_h, forward_c, backward_h, backward_c = Bidirectional(\n",
        "    LSTM(128, dropout = 0.5, return_sequences = True, return_state = True))(lstm)"
      ],
      "execution_count": null,
      "outputs": []
    },
    {
      "cell_type": "code",
      "metadata": {
        "colab": {
          "base_uri": "https://localhost:8080/"
        },
        "id": "DYG2M3TE8qfJ",
        "outputId": "c94c6c6d-14f8-430a-e634-752c1ba56335"
      },
      "source": [
        "print(lstm.shape, forward_h.shape, forward_c.shape, backward_h.shape, backward_c.shape)"
      ],
      "execution_count": null,
      "outputs": [
        {
          "output_type": "stream",
          "text": [
            "(None, 50, 256) (None, 128) (None, 128) (None, 128) (None, 128)\n"
          ],
          "name": "stdout"
        }
      ]
    },
    {
      "cell_type": "markdown",
      "metadata": {
        "id": "e6t9FCgO9E8Z"
      },
      "source": [
        "- 두 방향 LSTM 상태들을 연결"
      ]
    },
    {
      "cell_type": "code",
      "metadata": {
        "id": "qDk9N9xc84kg"
      },
      "source": [
        "state_h = Concatenate()([forward_h, backward_h])\n",
        "state_c = Concatenate()([forward_c, backward_c])"
      ],
      "execution_count": null,
      "outputs": []
    },
    {
      "cell_type": "markdown",
      "metadata": {
        "id": "GL57c0xX9P1Z"
      },
      "source": [
        "- 컨텍스트 벡터 얻기"
      ]
    },
    {
      "cell_type": "code",
      "metadata": {
        "id": "UC14ewqn9Oxw"
      },
      "source": [
        "attention = BahdanauAttention(128)\n",
        "context_vector, attention_weights = attention(lstm, state_h)"
      ],
      "execution_count": null,
      "outputs": []
    },
    {
      "cell_type": "markdown",
      "metadata": {
        "id": "GPQgMT7G9dNO"
      },
      "source": [
        "- 컨텍스트 벡터를 밀집층에 통과"
      ]
    },
    {
      "cell_type": "code",
      "metadata": {
        "id": "MZ4HXhoC9Zh-"
      },
      "source": [
        "dense1 = Dense(20, activation = 'relu')(context_vector)\n",
        "dropout = Dropout(0.5)(dense1)\n",
        "output = Dense(1, activation = 'sigmoid')(dropout)\n",
        "\n",
        "model = Model(inputs = sequence_input, outputs = output)"
      ],
      "execution_count": null,
      "outputs": []
    },
    {
      "cell_type": "code",
      "metadata": {
        "colab": {
          "base_uri": "https://localhost:8080/"
        },
        "id": "5tepwhdr9xpN",
        "outputId": "c4051158-a7a3-4748-db52-23e8f6fc701a"
      },
      "source": [
        "model.summary()"
      ],
      "execution_count": null,
      "outputs": [
        {
          "output_type": "stream",
          "text": [
            "Model: \"model_3\"\n",
            "__________________________________________________________________________________________________\n",
            "Layer (type)                    Output Shape         Param #     Connected to                     \n",
            "==================================================================================================\n",
            "input_5 (InputLayer)            [(None, 50)]         0                                            \n",
            "__________________________________________________________________________________________________\n",
            "embedding_4 (Embedding)         (None, 50, 256)      5120000     input_5[0][0]                    \n",
            "__________________________________________________________________________________________________\n",
            "bidirectional_8 (Bidirectional) (None, 50, 256)      394240      embedding_4[0][0]                \n",
            "__________________________________________________________________________________________________\n",
            "bidirectional_9 (Bidirectional) [(None, 50, 256), (N 394240      bidirectional_8[0][0]            \n",
            "__________________________________________________________________________________________________\n",
            "concatenate_4 (Concatenate)     (None, 256)          0           bidirectional_9[0][1]            \n",
            "                                                                 bidirectional_9[0][3]            \n",
            "__________________________________________________________________________________________________\n",
            "bahdanau_attention_2 (BahdanauA ((None, 50, 256), (N 65921       bidirectional_9[0][0]            \n",
            "                                                                 concatenate_4[0][0]              \n",
            "__________________________________________________________________________________________________\n",
            "dense_15 (Dense)                (None, 50, 20)       5140        bahdanau_attention_2[0][0]       \n",
            "__________________________________________________________________________________________________\n",
            "dropout_3 (Dropout)             (None, 50, 20)       0           dense_15[0][0]                   \n",
            "__________________________________________________________________________________________________\n",
            "dense_16 (Dense)                (None, 50, 1)        21          dropout_3[0][0]                  \n",
            "==================================================================================================\n",
            "Total params: 5,979,562\n",
            "Trainable params: 5,979,562\n",
            "Non-trainable params: 0\n",
            "__________________________________________________________________________________________________\n"
          ],
          "name": "stdout"
        }
      ]
    },
    {
      "cell_type": "markdown",
      "metadata": {
        "id": "gcwm7U329tXz"
      },
      "source": [
        "- 옵티마이저 설정 후 컴파일"
      ]
    },
    {
      "cell_type": "code",
      "metadata": {
        "id": "ouKQUAu79stQ"
      },
      "source": [
        "model.compile(loss = 'binary_crossentropy',\n",
        "              optimizer = 'adam',\n",
        "              metrics = ['accuracy'])"
      ],
      "execution_count": null,
      "outputs": []
    },
    {
      "cell_type": "code",
      "metadata": {
        "colab": {
          "background_save": true,
          "base_uri": "https://localhost:8080/"
        },
        "id": "iXohIPtA95Tc",
        "outputId": "6d6e6dea-0245-410d-e544-8147cf3a5ea7"
      },
      "source": [
        "%%time \n",
        "\n",
        "history = model.fit(X_train, y_train,\n",
        "                    epochs = 10,\n",
        "                    batch_size = 128,\n",
        "                    validation_data = (X_test, y_test),\n",
        "                    verbose = 1)"
      ],
      "execution_count": null,
      "outputs": [
        {
          "output_type": "stream",
          "text": [
            "Epoch 1/10\n",
            "149/149 [==============================] - 129s 735ms/step - loss: 0.6859 - accuracy: 0.5412 - val_loss: 0.6473 - val_accuracy: 0.5922\n",
            "Epoch 2/10\n",
            "149/149 [==============================] - 95s 641ms/step - loss: 0.6301 - accuracy: 0.6034 - val_loss: 0.6259 - val_accuracy: 0.5951\n",
            "Epoch 3/10\n",
            "149/149 [==============================] - 95s 640ms/step - loss: 0.5905 - accuracy: 0.6160 - val_loss: 0.6202 - val_accuracy: 0.6024\n",
            "Epoch 4/10\n",
            "149/149 [==============================] - 95s 639ms/step - loss: 0.5710 - accuracy: 0.6287 - val_loss: 0.6342 - val_accuracy: 0.6028\n",
            "Epoch 5/10\n",
            "149/149 [==============================] - 95s 637ms/step - loss: 0.5522 - accuracy: 0.6356 - val_loss: 0.6465 - val_accuracy: 0.6028\n",
            "Epoch 6/10\n",
            "149/149 [==============================] - 94s 631ms/step - loss: 0.5466 - accuracy: 0.6359 - val_loss: 0.6627 - val_accuracy: 0.6043\n",
            "Epoch 7/10\n",
            "149/149 [==============================] - 92s 620ms/step - loss: 0.5391 - accuracy: 0.6381 - val_loss: 0.6775 - val_accuracy: 0.6039\n",
            "Epoch 8/10\n",
            "149/149 [==============================] - 91s 613ms/step - loss: 0.5377 - accuracy: 0.6407 - val_loss: 0.7038 - val_accuracy: 0.6039\n",
            "Epoch 9/10\n",
            "149/149 [==============================] - 90s 606ms/step - loss: 0.5361 - accuracy: 0.6367 - val_loss: 0.7264 - val_accuracy: 0.6036\n",
            "Epoch 10/10\n",
            "149/149 [==============================] - 90s 606ms/step - loss: 0.5338 - accuracy: 0.6410 - val_loss: 0.7569 - val_accuracy: 0.6037\n",
            "CPU times: user 23min 59s, sys: 3min 58s, total: 27min 58s\n",
            "Wall time: 16min 8s\n"
          ],
          "name": "stdout"
        }
      ]
    },
    {
      "cell_type": "code",
      "metadata": {
        "id": "BRUwrv2T-EWe"
      },
      "source": [
        ""
      ],
      "execution_count": null,
      "outputs": []
    }
  ]
}